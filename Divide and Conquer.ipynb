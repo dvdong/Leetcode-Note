{
 "cells": [
  {
   "cell_type": "markdown",
   "metadata": {},
   "source": [
    "# <center>Divide and Conquer"
   ]
  },
  {
   "cell_type": "markdown",
   "metadata": {},
   "source": [
    "## [面试题51. 数组中的逆序对 (hard)](https://leetcode-cn.com/problems/shu-zu-zhong-de-ni-xu-dui-lcof/)"
   ]
  },
  {
   "cell_type": "markdown",
   "metadata": {},
   "source": [
    "在数组中的两个数字，如果前面一个数字大于后面的数字，则这两个数字组成一个逆序对。输入一个数组，求出这个数组中的逆序对的总数。"
   ]
  },
  {
   "cell_type": "markdown",
   "metadata": {},
   "source": [
    "<font color='dd0000'>思想：对两个有左右关系的有序数组，可以很方便的求出逆序对的个数。因此，通过归并排序的方法，在排序过程中统计出逆序对的个数(一边排序，一边统计)</font>"
   ]
  },
  {
   "cell_type": "code",
   "execution_count": 4,
   "metadata": {},
   "outputs": [],
   "source": [
    "int[] temp;  // 排序时借助的辅助数组\n",
    "public int reversePairs(int[] nums) {\n",
    "    temp = new int[nums.length];\n",
    "    return split(nums, 0, nums.length - 1);\n",
    "}\n",
    "\n",
    "private int split(int[] nums, int left, int right){\n",
    "    if(left == right){\n",
    "        return 0;\n",
    "    }\n",
    "    int mid = left + (right - left) >> 1;\n",
    "    int l = split(nums, left, mid);\n",
    "    int r = split(nums, mid + 1, right);\n",
    "    if(nums[mid] < nums[mid + 1]){  // 剪枝，如果右边最小值大于左边最大值，就不需要再merge\n",
    "        return l + r;\n",
    "    }\n",
    "    int sum = merge(nums, left, right, mid);\n",
    "    return l + r + sum;\n",
    "}\n",
    "\n",
    "private int merge(int[] nums, int left, int right, int mid){\n",
    "    int i = left, j = mid + 1;\n",
    "    int index = left;\n",
    "    int count = 0;\n",
    "    while(i <= mid && j <= right){\n",
    "        if(nums[j] < nums[i]){ // nums[j]比nums[i]小，因为有序，所以比nums[i]后面到mid的所有数都小\n",
    "            count += mid - i + 1; // 计算逆序对的个数\n",
    "            temp[index++] = nums[j];\n",
    "            j++;\n",
    "        } else {\n",
    "            temp[index++] = nums[i];\n",
    "            i++;\n",
    "        }\n",
    "    }\n",
    "    while(i <= mid){\n",
    "        temp[index++] = nums[i];\n",
    "        i++;\n",
    "    }\n",
    "    while(j <= right){\n",
    "        temp[index++] = nums[j];\n",
    "        j++;\n",
    "    }\n",
    "    for(int k = left; k <= right; k++){\n",
    "        nums[k] = temp[k];\n",
    "    }\n",
    "    return count;\n",
    "}"
   ]
  }
 ],
 "metadata": {
  "kernelspec": {
   "display_name": "Java",
   "language": "java",
   "name": "java"
  },
  "language_info": {
   "codemirror_mode": "java",
   "file_extension": ".jshell",
   "mimetype": "text/x-java-source",
   "name": "Java",
   "pygments_lexer": "java",
   "version": "12.0.2+10"
  }
 },
 "nbformat": 4,
 "nbformat_minor": 2
}
