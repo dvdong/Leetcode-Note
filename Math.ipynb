{
 "cells": [
  {
   "cell_type": "markdown",
   "metadata": {},
   "source": [
    "# <center>Math"
   ]
  },
  {
   "cell_type": "markdown",
   "metadata": {},
   "source": [
    "## 836. Rectangle Overlap (easy)"
   ]
  },
  {
   "cell_type": "markdown",
   "metadata": {},
   "source": [
    "A rectangle is represented as a list ```[x1, y1, x2, y2]```, where ```(x1, y1)``` are the coordinates of its bottom-left corner, and ```(x2, y2)``` are the coordinates of its top-right corner.\n",
    "\n",
    "Two rectangles overlap if the area of their intersection is positive.  To be clear, two rectangles that only touch at the corner or edges do not overlap.\n",
    "\n",
    "Given two (axis-aligned) rectangles, return whether they overlap."
   ]
  },
  {
   "cell_type": "markdown",
   "metadata": {},
   "source": [
    "https://leetcode-cn.com/problems/rectangle-overlap/"
   ]
  },
  {
   "cell_type": "markdown",
   "metadata": {},
   "source": [
    "<font color='dd0000'>根据坐标的大小关系判断两个矩形的位置：不重叠的情况有4种：左、右、上、下，翻译成相应的坐标大小关系即可</font>"
   ]
  },
  {
   "cell_type": "code",
   "execution_count": 2,
   "metadata": {},
   "outputs": [],
   "source": [
    "public boolean isRectangleOverlap(int[] rec1, int[] rec2) {\n",
    "    return !(rec2[2] <= rec1[0]      // 第2个矩形在第1个矩形【左边】的情况\n",
    "             || rec2[0] >= rec1[2]   // 第2个矩形在第1个矩形【右边】的情况\n",
    "             || rec2[1] >= rec1[3]   // 第2个矩形在第1个矩形【上边】的情况\n",
    "             || rec2[3] <= rec1[1]); // 第2个矩形在第1个矩形【下边】的情况\n",
    "}"
   ]
  }
 ],
 "metadata": {
  "kernelspec": {
   "display_name": "Java",
   "language": "java",
   "name": "java"
  },
  "language_info": {
   "codemirror_mode": "java",
   "file_extension": ".jshell",
   "mimetype": "text/x-java-source",
   "name": "Java",
   "pygments_lexer": "java",
   "version": "12.0.2+10"
  }
 },
 "nbformat": 4,
 "nbformat_minor": 2
}
