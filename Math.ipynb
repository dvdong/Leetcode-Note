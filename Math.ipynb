{
 "cells": [
  {
   "cell_type": "markdown",
   "metadata": {},
   "source": [
    "# <center>Math"
   ]
  },
  {
   "cell_type": "markdown",
   "metadata": {},
   "source": [
    "## [836. Rectangle Overlap (easy)](https://leetcode-cn.com/problems/rectangle-overlap/)"
   ]
  },
  {
   "cell_type": "markdown",
   "metadata": {},
   "source": [
    "A rectangle is represented as a list ```[x1, y1, x2, y2]```, where ```(x1, y1)``` are the coordinates of its bottom-left corner, and ```(x2, y2)``` are the coordinates of its top-right corner.\n",
    "\n",
    "Two rectangles overlap if the area of their intersection is positive.  To be clear, two rectangles that only touch at the corner or edges do not overlap.\n",
    "\n",
    "Given two (axis-aligned) rectangles, return whether they overlap."
   ]
  },
  {
   "cell_type": "markdown",
   "metadata": {},
   "source": [
    "<font color='dd0000'>根据坐标的大小关系判断两个矩形的位置：不重叠的情况有4种：左、右、上、下，翻译成相应的坐标大小关系即可</font>"
   ]
  },
  {
   "cell_type": "code",
   "execution_count": 2,
   "metadata": {},
   "outputs": [],
   "source": [
    "public boolean isRectangleOverlap(int[] rec1, int[] rec2) {\n",
    "    return !(rec2[2] <= rec1[0]      // 第2个矩形在第1个矩形【左边】的情况\n",
    "             || rec2[0] >= rec1[2]   // 第2个矩形在第1个矩形【右边】的情况\n",
    "             || rec2[1] >= rec1[3]   // 第2个矩形在第1个矩形【上边】的情况\n",
    "             || rec2[3] <= rec1[1]); // 第2个矩形在第1个矩形【下边】的情况\n",
    "}"
   ]
  },
  {
   "cell_type": "markdown",
   "metadata": {},
   "source": [
    "## [365. Water and Jug Problem (medium)](https://leetcode-cn.com/problems/water-and-jug-problem/)"
   ]
  },
  {
   "cell_type": "markdown",
   "metadata": {},
   "source": [
    "有两个容量分别为 x升 和 y升 的水壶以及无限多的水。请判断能否通过使用这两个水壶，从而可以得到恰好 z升 的水？\n",
    "\n",
    "如果可以，最后请用以上水壶中的一或两个来盛放取得的 z升 水。\n",
    "\n",
    "你允许：\n",
    "\n",
    "- 装满任意一个水壶\n",
    "- 清空任意一个水壶\n",
    "- 从一个水壶向另外一个水壶倒水，直到装满或者倒空"
   ]
  },
  {
   "cell_type": "markdown",
   "metadata": {},
   "source": [
    "## [892. 三维形体的表面积 (easy)](https://leetcode-cn.com/problems/surface-area-of-3d-shapes/)"
   ]
  },
  {
   "cell_type": "markdown",
   "metadata": {},
   "source": [
    "在 ```N * N``` 的网格上，我们放置一些 ```1 * 1 * 1```  的立方体。\n",
    "\n",
    "每个值 ```v = grid[i][j]``` 表示 ```v``` 个正方体叠放在对应单元格 ```(i, j)``` 上。\n",
    "\n",
    "请你返回最终形体的表面积。"
   ]
  },
  {
   "cell_type": "markdown",
   "metadata": {},
   "source": [
    "<font color='dd0000'>\n",
    "    \n",
    "因为存在有位置放0个立方体的情况，所以无法用侧视图的方法来做。\n",
    "\n",
    "两种思路：\n",
    "\n",
    "1. 做加法：对每个位置的柱体，表面积 = 上下两部分 + 前后左右(如果有的话)不重叠的部分。不重叠部分就是相邻高度之差或0\n",
    "\n",
    "\n",
    "2. 做减法：对每个位置的柱体，总表面积 = 数量 * 6，再减去重叠部分 = 内部重叠2*(n-1) + 左面和后面(如果有的话)重叠。重叠部分就是相邻高度中的最小值。前面和右边重叠就是其他柱体的左面和后面重叠，所以不必计算\n",
    "</font>"
   ]
  },
  {
   "cell_type": "code",
   "execution_count": 2,
   "metadata": {},
   "outputs": [],
   "source": [
    "// 方法一：加法\n",
    "public int surfaceArea(int[][] grid) {\n",
    "    int area = 0;\n",
    "    int n = grid.length;\n",
    "    for(int i = 0; i < n; i++){\n",
    "        for(int j = 0; j < n; j++){\n",
    "            if(grid[i][j] > 0){ // 有立方体\n",
    "                //上下\n",
    "                area += 2;\n",
    "                //左\n",
    "                area += i - 1 >= 0 ? Math.max(grid[i][j] - grid[i-1][j], 0) : grid[i][j];\n",
    "                //右\n",
    "                area += i + 1 < n ? Math.max(grid[i][j] - grid[i+1][j], 0) : grid[i][j];\n",
    "                //后\n",
    "                area += j - 1 >= 0 ? Math.max(grid[i][j] - grid[i][j-1], 0) : grid[i][j];\n",
    "                //前\n",
    "                area += j + 1 < n ? Math.max(grid[i][j] - grid[i][j+1], 0) : grid[i][j];\n",
    "            }\n",
    "        }\n",
    "    }\n",
    "    return area;\n",
    "}"
   ]
  },
  {
   "cell_type": "code",
   "execution_count": 3,
   "metadata": {},
   "outputs": [],
   "source": [
    "// 方法二：减法\n",
    "public int surfaceArea2(int[][] grid) {\n",
    "    int area = 0;\n",
    "    int n = grid.length;\n",
    "    for(int i = 0; i < n; i++){\n",
    "        for(int j = 0; j < n; j++){\n",
    "            int cubes = grid[i][j];\n",
    "            if(cubes > 0){\n",
    "                area += 6 * cubes;\n",
    "                //上下\n",
    "                area -= 2 * (cubes - 1);\n",
    "                // 左\n",
    "                if(j - 1 >= 0){\n",
    "                    area -= Math.min(cubes, grid[i][j-1]) * 2;\n",
    "                }\n",
    "                // 后\n",
    "                if(i - 1 >= 0){\n",
    "                    area -= Math.min(cubes, grid[i-1][j]) * 2;\n",
    "                }\n",
    "            }\n",
    "        }\n",
    "    }\n",
    "    return area;\n",
    "}"
   ]
  },
  {
   "cell_type": "markdown",
   "metadata": {},
   "source": [
    "## [69. Sqrt(x) (easy)](https://leetcode-cn.com/problems/sqrtx/)"
   ]
  },
  {
   "cell_type": "markdown",
   "metadata": {},
   "source": [
    "Implement ```int sqrt(int x)```.\n",
    "\n",
    "Compute and return the square root of x, where x is guaranteed to be a non-negative integer.\n",
    "\n",
    "Since the return type is an integer, the decimal digits are truncated and only the integer part of the result is returned."
   ]
  },
  {
   "cell_type": "markdown",
   "metadata": {},
   "source": [
    "<font color='dd0000'>方法一：牛顿迭代法</font>"
   ]
  },
  {
   "cell_type": "code",
   "execution_count": 3,
   "metadata": {},
   "outputs": [],
   "source": [
    "public int mySqrt(int x) {\n",
    "    double err = 1e-15;\n",
    "    double t = x;\n",
    "    while(t * t - x > err){  // 相对误差表示：Math.abs(t - x / t) > err * t\n",
    "        t = (x - t * t) / (2 * t) + t;\n",
    "    }\n",
    "    return (int) t;\n",
    "}"
   ]
  },
  {
   "cell_type": "markdown",
   "metadata": {},
   "source": [
    "<font color='dd0000'>方法二：二分法</font>\n",
    "\n",
    "<font color='dd0000'>一个数$x$的平方根一定在$0 - x$之间，所以用二分查找，每次对找到的中间数和$x$进行比较</font>"
   ]
  },
  {
   "cell_type": "code",
   "execution_count": null,
   "metadata": {},
   "outputs": [],
   "source": [
    "public int mySqrt(int x) {\n",
    "    if(x == 0 || x == 1){\n",
    "        return x;\n",
    "    }\n",
    "    int left = 0, right = x;\n",
    "    while(left < right){\n",
    "        int mid = left + (right - left) / 2;\n",
    "        if(mid <= x / mid){  // 用除法，防止mid*mid溢出\n",
    "            left = mid + 1;\n",
    "        } else {\n",
    "            right = mid - 1;  // 左右都不取mid值，避免死循环\n",
    "        }\n",
    "    }\n",
    "    if(left > x / left) return left - 1;  // 最后的结果可能取到偏大的那个值 -1即可\n",
    "    return left;\n",
    "}"
   ]
  },
  {
   "cell_type": "markdown",
   "metadata": {},
   "source": [
    "## [50. Pow(x, n) (medium)](https://leetcode-cn.com/problems/powx-n/)"
   ]
  },
  {
   "cell_type": "markdown",
   "metadata": {},
   "source": [
    "Implement ```pow(x, n)```, which calculates x raised to the power n ($x^n$)."
   ]
  },
  {
   "cell_type": "markdown",
   "metadata": {},
   "source": [
    "<font color='dd0000'>直接将 $n$ 个 $x$ 累乘的话，时间复杂度为$O(n)$。采用分治思想，$x^n = x^{n/2} * x^{n/2} (* x)$，递归计算$x^{n/2}$，再根据$n$的奇偶，得到结果。时间复杂度降为$O(log(n))$</font>\n",
    "\n",
    "<font color='dd0000'>注意考虑$n$为负数的情况</font>"
   ]
  },
  {
   "cell_type": "code",
   "execution_count": 2,
   "metadata": {},
   "outputs": [],
   "source": [
    "public double myPow(double x, int n) {\n",
    "    if(n == 0) return 1;\n",
    "    return n > 0 ? helper(x, n) : 1 / helper(x, -(long)n);\n",
    "}\n",
    "\n",
    "private double helper(double x, long n){ // 用long是为了避免MIN_VALUE加负号溢出\n",
    "    if(n == 1){\n",
    "        return x;\n",
    "    }\n",
    "    double temp = helper(x, n / 2);\n",
    "    if((n & 1) == 0){\n",
    "        return temp * temp;\n",
    "    } else {\n",
    "        return temp * temp * x;\n",
    "    }\n",
    "}"
   ]
  },
  {
   "cell_type": "markdown",
   "metadata": {},
   "source": [
    "## [面试题64. 求1+2+…+n (medium)](https://leetcode-cn.com/problems/qiu-12n-lcof/)"
   ]
  },
  {
   "cell_type": "markdown",
   "metadata": {},
   "source": [
    "求 1+2+...+n ，要求不能使用乘除法、for、while、if、else、switch、case等关键字及条件判断语句（A?B:C）。"
   ]
  },
  {
   "cell_type": "markdown",
   "metadata": {},
   "source": [
    "<font color='dd0000'>\n",
    "\n",
    "不能用循环，考虑到用递归，但是又不能用条件，就无法表示递归出口\n",
    "\n",
    "**利用条件运算符的短路特性，代替条件判断**\n",
    "\n",
    "</font>"
   ]
  },
  {
   "cell_type": "code",
   "execution_count": null,
   "metadata": {},
   "outputs": [],
   "source": [
    "public int sumNums(int n) {\n",
    "    int sum = n;\n",
    "    boolean flag = n > 0 && (sum += sumNums(n - 1)) > 0;  // 当n=0时，就不会再进到后面的递归，相当于出口\n",
    "    return sum;\n",
    "}"
   ]
  },
  {
   "cell_type": "markdown",
   "metadata": {},
   "source": [
    "## [9. Palindrome Number (easy)](https://leetcode-cn.com/problems/palindrome-number/)"
   ]
  },
  {
   "cell_type": "markdown",
   "metadata": {},
   "source": [
    "Determine whether an integer is a palindrome. An integer is a palindrome when it reads the same backward as forward."
   ]
  },
  {
   "cell_type": "code",
   "execution_count": null,
   "metadata": {},
   "outputs": [],
   "source": [
    "// 将数字反转 比较反转前后数字\n",
    "\n",
    "public boolean isPalindrome(int x) {\n",
    "    if(x < 0){\n",
    "        return false;\n",
    "    }\n",
    "    int y = reverse(x);\n",
    "    return y == x;\n",
    "}\n",
    "\n",
    "private int reverse(int x){\n",
    "    int ret = 0;\n",
    "    while(x > 0){\n",
    "        int digit = x % 10;\n",
    "        ret = ret * 10 + digit;\n",
    "        x /= 10;\n",
    "    }\n",
    "    return ret;\n",
    "}"
   ]
  }
 ],
 "metadata": {
  "kernelspec": {
   "display_name": "Java",
   "language": "java",
   "name": "java"
  },
  "language_info": {
   "codemirror_mode": "java",
   "file_extension": ".jshell",
   "mimetype": "text/x-java-source",
   "name": "Java",
   "pygments_lexer": "java",
   "version": "12.0.2+10"
  }
 },
 "nbformat": 4,
 "nbformat_minor": 2
}
