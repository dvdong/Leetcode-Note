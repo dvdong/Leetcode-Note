{
 "cells": [
  {
   "cell_type": "markdown",
   "metadata": {},
   "source": [
    "# <center> Greedy"
   ]
  },
  {
   "cell_type": "markdown",
   "metadata": {},
   "source": [
    "## [860. 柠檬水找零 (easy)](https://leetcode-cn.com/problems/lemonade-change/)"
   ]
  },
  {
   "cell_type": "markdown",
   "metadata": {},
   "source": [
    "在柠檬水摊上，每一杯柠檬水的售价为 5 美元。\n",
    "\n",
    "顾客排队购买你的产品，（按账单 bills 支付的顺序）一次购买一杯。\n",
    "\n",
    "每位顾客只买一杯柠檬水，然后向你付 5 美元、10 美元或 20 美元。你必须给每个顾客正确找零，也就是说净交易是每位顾客向你支付 5 美元。\n",
    "\n",
    "注意，一开始你手头没有任何零钱。\n",
    "\n",
    "如果你能给每位顾客正确找零，返回 true ，否则返回 false 。"
   ]
  },
  {
   "cell_type": "markdown",
   "metadata": {},
   "source": [
    "<font color='dd0000'>\n",
    "    \n",
    "贪心策略：找零时先找面值大的，再找面值小的。\n",
    "\n",
    "只有5、10、20三种情况，找零只可能找5、10，只有当bill为10、20时才需要找零\n",
    "\n",
    "模拟过程即可\n",
    "\n",
    "</font>"
   ]
  },
  {
   "cell_type": "code",
   "execution_count": 1,
   "metadata": {},
   "outputs": [],
   "source": [
    "public boolean lemonadeChange(int[] bills) {\n",
    "    int five = 0, ten = 0;   // 保存5元和10元的数量，不会找出20元，所以不需要记录\n",
    "    for(int bill : bills){\n",
    "        if(bill == 5){\n",
    "            five++;\n",
    "        } else if(bill == 10){\n",
    "            if(five == 0) return false;\n",
    "            five--;\n",
    "            ten++;\n",
    "        } else {\n",
    "            if(ten > 0 && five > 0){\n",
    "                ten--;\n",
    "                five--;\n",
    "            } else if(five > 3){\n",
    "                five -= 3;\n",
    "            } else {\n",
    "                return false;\n",
    "            }\n",
    "        }\n",
    "    }\n",
    "    return true;\n",
    "}"
   ]
  }
 ],
 "metadata": {
  "kernelspec": {
   "display_name": "Java",
   "language": "java",
   "name": "java"
  },
  "language_info": {
   "codemirror_mode": "java",
   "file_extension": ".jshell",
   "mimetype": "text/x-java-source",
   "name": "Java",
   "pygments_lexer": "java",
   "version": "12.0.2+10"
  }
 },
 "nbformat": 4,
 "nbformat_minor": 2
}
