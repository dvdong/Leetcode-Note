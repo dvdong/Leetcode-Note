{
 "cells": [
  {
   "cell_type": "markdown",
   "metadata": {},
   "source": [
    "# <center>LinkedList"
   ]
  },
  {
   "cell_type": "code",
   "execution_count": 2,
   "metadata": {},
   "outputs": [],
   "source": [
    "public class ListNode {\n",
    "    int val;\n",
    "    ListNode next;\n",
    "    ListNode(int x) { val = x; }\n",
    "}"
   ]
  },
  {
   "cell_type": "markdown",
   "metadata": {},
   "source": [
    "## 2. Add Two Numbers (medium)"
   ]
  },
  {
   "cell_type": "markdown",
   "metadata": {},
   "source": [
    "You are given two non-empty linked lists representing two non-negative integers. The digits are stored in reverse order and each of their nodes contain a single digit. Add the two numbers and return it as a linked list.\n",
    "\n",
    "You may assume the two numbers do not contain any leading zero, except the number 0 itself.\n",
    "\n",
    "Example:\n",
    "\n",
    "Input: (2 -> 4 -> 3) + (5 -> 6 -> 4)\n",
    "\n",
    "Output: 7 -> 0 -> 8\n",
    "\n",
    "Explanation: 342 + 465 = 807."
   ]
  },
  {
   "cell_type": "code",
   "execution_count": 7,
   "metadata": {},
   "outputs": [],
   "source": [
    "public ListNode addTwoNumbers(ListNode l1, ListNode l2) {\n",
    "    ListNode dummy = new ListNode(-1);  // dummy node 作为新链表的虚拟头\n",
    "    ListNode cur = dummy;    // 新链表指针\n",
    "    int res = 0;\n",
    "    int next = 0;  // 进位\n",
    "    while(l1 != null && l2 != null){\n",
    "        res = l1.val + l2.val + next;\n",
    "        next = res / 10;\n",
    "        res %= 10;\n",
    "        cur.next = new ListNode(res);\n",
    "        cur = cur.next;\n",
    "        l1 = l1.next;\n",
    "        l2 = l2.next;\n",
    "    }\n",
    "    while(l1 != null){\n",
    "        res = l1.val + next;\n",
    "        next = res / 10;\n",
    "        res %= 10;\n",
    "        cur.next = new ListNode(res);\n",
    "        cur = cur.next;\n",
    "        l1 = l1.next;\n",
    "    }\n",
    "    while(l2 != null){\n",
    "        res = l2.val + next;\n",
    "        next = res / 10;\n",
    "        res %= 10;\n",
    "        cur.next = new ListNode(res);\n",
    "        cur = cur.next;\n",
    "        l2 = l2.next;\n",
    "    }\n",
    "    if (next != 0)\n",
    "        cur.next = new ListNode(next); //!!!考虑最后还有进位的情况!!!\n",
    "    return dummy.next;\n",
    "}"
   ]
  },
  {
   "cell_type": "markdown",
   "metadata": {},
   "source": [
    "<font color='dd0000'>**链表技巧：*dummy node***</font>"
   ]
  },
  {
   "cell_type": "markdown",
   "metadata": {},
   "source": [
    "## 445. Add Two Numbers II (medium)"
   ]
  },
  {
   "cell_type": "markdown",
   "metadata": {},
   "source": [
    "You are given two non-empty linked lists representing two non-negative integers. The most significant digit comes first and each of their nodes contain a single digit. Add the two numbers and return it as a linked list.\n",
    "\n",
    "You may assume the two numbers do not contain any leading zero, except the number 0 itself.\n",
    "\n",
    "Follow up:\n",
    "What if you cannot modify the input lists? In other words, reversing the lists is not allowed.\n",
    "\n",
    "Example:\n",
    "\n",
    "Input: (7 -> 2 -> 4 -> 3) + (5 -> 6 -> 4)\n",
    "\n",
    "Output: 7 -> 8 -> 0 -> 7"
   ]
  },
  {
   "cell_type": "code",
   "execution_count": 11,
   "metadata": {},
   "outputs": [],
   "source": [
    "public ListNode addTwoNumbers(ListNode l1, ListNode l2) {\n",
    "    Stack<Integer> s1 = new Stack<>();\n",
    "    Stack<Integer> s2 = new Stack<>();\n",
    "    ListNode cur1 = l1;\n",
    "    ListNode cur2 = l2;\n",
    "    while(cur1 != null){\n",
    "        s1.push(cur1.val);\n",
    "        cur1 = cur1.next;\n",
    "    }\n",
    "    while(cur2 != null){\n",
    "        s2.push(cur2.val);\n",
    "        cur2 = cur2.next;\n",
    "    }\n",
    "\n",
    "    ListNode dummy = new ListNode(-1);\n",
    "    int carry = 0;\n",
    "    while(!s1.isEmpty() || !s2.isEmpty()){  // 用或来判断循环,当有一个栈为空时,直接看作是+0就可以了\n",
    "        int a = s1.isEmpty() ? 0 : s1.pop();\n",
    "        int b = s2.isEmpty() ? 0 : s2.pop();\n",
    "        int res = a + b + carry;\n",
    "        carry = res / 10;\n",
    "        res %= 10;\n",
    "\n",
    "        ListNode node = new ListNode(res);  // 头插法直接构造新链表,不必再用一个栈来保存结果\n",
    "        node.next = dummy.next;\n",
    "        dummy.next = node;\n",
    "    }\n",
    "    if(carry > 0){  // 考虑最后可能剩的进位!!!\n",
    "        ListNode node = new ListNode(carry);\n",
    "        node.next = dummy.next;\n",
    "        dummy.next = node;\n",
    "    }\n",
    "    return dummy.next;\n",
    "}"
   ]
  },
  {
   "cell_type": "markdown",
   "metadata": {},
   "source": [
    "<font color='dd0000'>用栈保存链表前面的元素\n",
    "\n",
    "**头插法**构造新链表</font>"
   ]
  },
  {
   "cell_type": "markdown",
   "metadata": {},
   "source": [
    "## 160. Intersection of Two Linked Lists (easy)"
   ]
  },
  {
   "cell_type": "markdown",
   "metadata": {},
   "source": [
    "Write a program to find the node at which the intersection of two singly linked lists begins."
   ]
  },
  {
   "cell_type": "code",
   "execution_count": 12,
   "metadata": {},
   "outputs": [],
   "source": [
    "public ListNode getIntersectionNode(ListNode headA, ListNode headB){\n",
    "    if(headA == null || headB == null){\n",
    "        return null;\n",
    "    }\n",
    "    ListNode a = headA;\n",
    "    ListNode b = headB;\n",
    "    while(a != b){\n",
    "        a = (a.next == null) ? headB : a.next;\n",
    "        b = (b.next == null) ? headA : b.next;\n",
    "        if(a == b)\n",
    "            return a;\n",
    "    }\n",
    "    return a;\n",
    "}"
   ]
  },
  {
   "cell_type": "markdown",
   "metadata": {},
   "source": [
    "<font color='dd0000'>\n",
    "    \n",
    "**思路：** \n",
    "\n",
    "2个链表的长度不一定相等，如果用双指针分别从头开始遍历的话会错位。\n",
    "\n",
    "设A链表长度尾a + c，B链表长度尾b + c，其中c为公共部分长度，则有：a + c + b = b + c + a，\n",
    "\n",
    "所以，**当A的指针走完后，从B的起点继续，同样B的指针走完后，从A的起点继续**，这样两个指针的总路程就相等，\n",
    "\n",
    "且终点就是交叉点，**当两个指针相等时，说明到达终点，即找到了交叉点**，\n",
    "\n",
    "若两个链表不相交，即c = 0，那么同样有a + b = b + a，两个指针走完全程时同为null，返回即可\n",
    "</font>"
   ]
  },
  {
   "cell_type": "markdown",
   "metadata": {},
   "source": [
    "## <font color='dddd00'>206. Reverse Linked List (easy)"
   ]
  },
  {
   "cell_type": "markdown",
   "metadata": {},
   "source": [
    "Reverse a singly linked list."
   ]
  },
  {
   "cell_type": "code",
   "execution_count": 25,
   "metadata": {},
   "outputs": [],
   "source": [
    "public ListNode reverseList(ListNode head) {\n",
    "    ListNode dummy = new ListNode(-1);\n",
    "    ListNode cur = head;\n",
    "    while(cur != null){\n",
    "        ListNode temp = cur.next;\n",
    "        cur.next = dummy.next;\n",
    "        dummy.next = cur;\n",
    "        cur = temp;\n",
    "    }\n",
    "    return dummy.next;\n",
    "    }"
   ]
  },
  {
   "cell_type": "markdown",
   "metadata": {},
   "source": [
    "⭐<font color='dd0000'>**递归解法**</font>"
   ]
  },
  {
   "cell_type": "code",
   "execution_count": 13,
   "metadata": {},
   "outputs": [],
   "source": [
    "public ListNode reverseList2(ListNode head) {\n",
    "    if(head == null || head.next == null)  // Base Case:当结点为空或只有一个结点时,不必反转,直接返回它本身\n",
    "        return head;\n",
    "    ListNode last = reverseList(head.next);  // 返回值是反转后链表的头\n",
    "    head.next.next = head;  // 反转后,宏观上的操作:应让head后面的结点指向自己,且自己指向null\n",
    "    head.next = null;\n",
    "    return last;\n",
    "}"
   ]
  },
  {
   "cell_type": "markdown",
   "metadata": {},
   "source": [
    "<font color='dd0000'>图解见笔记本</font>"
   ]
  },
  {
   "cell_type": "markdown",
   "metadata": {},
   "source": [
    "## <font color='dddd00'>92. Reverse Linked List II (medium)"
   ]
  },
  {
   "cell_type": "markdown",
   "metadata": {},
   "source": [
    "Reverse a linked list from position m to n. Do it in one-pass.\n",
    "\n",
    "Note: 1 ≤ m ≤ n ≤ length of list.\n",
    "\n",
    "Example:\n",
    "\n",
    "Input: 1->2->3->4->5->NULL, m = 2, n = 4\n",
    "\n",
    "Output: 1->4->3->2->5->NULL"
   ]
  },
  {
   "cell_type": "code",
   "execution_count": 14,
   "metadata": {},
   "outputs": [],
   "source": [
    "public ListNode reverseBetween(ListNode head, int m, int n) {\n",
    "    ListNode dummy = new ListNode(-1);  // 遍历反转的时候需要前一个结点,设置一个dummy node方便头结点的处理\n",
    "    dummy.next = head;\n",
    "    ListNode start = head;\n",
    "    ListNode pre = dummy;\n",
    "    for(int i = 1; i < m; i++){  // 把start定位到第m个结点\n",
    "        pre = start;\n",
    "        start = start.next;\n",
    "    }\n",
    "    for(int i = m; i < n; i++){\n",
    "        ListNode temp = start.next;  // start为反转后的尾结点,所以不动\n",
    "        start.next = temp.next;\n",
    "        temp.next = pre.next;\n",
    "        pre.next = temp;\n",
    "    }\n",
    "    return dummy.next;\n",
    "}"
   ]
  },
  {
   "cell_type": "markdown",
   "metadata": {},
   "source": [
    "⭐<font color='dd0000'>**递归解法**</font>"
   ]
  },
  {
   "cell_type": "markdown",
   "metadata": {},
   "source": [
    "1. 递归解决<font color='dd0000'>**反转链表前N个结点**</font>"
   ]
  },
  {
   "cell_type": "code",
   "execution_count": 17,
   "metadata": {},
   "outputs": [],
   "source": [
    "ListNode successor = null;   // 记录后继结点\n",
    "public ListNode reverseN(ListNode head, int n){\n",
    "    if(n == 1){\n",
    "        successor = head.next;  // 后继结点为第n + 1个结点\n",
    "        return head;\n",
    "    }   \n",
    "    ListNode last = reverseN(head.next, n - 1);  // 返回值是反转后的头结点\n",
    "    head.next.next = head;\n",
    "    head.next = successor;  // 现在的头结点应连接到第n + 1个结点\n",
    "    return last;\n",
    "}"
   ]
  },
  {
   "cell_type": "markdown",
   "metadata": {},
   "source": [
    "<font color='dd0000'>图解见笔记本</font>"
   ]
  },
  {
   "cell_type": "markdown",
   "metadata": {},
   "source": [
    "2. 递归解决<font color='dd0000'>**反转从m到n的结点**</font>"
   ]
  },
  {
   "cell_type": "markdown",
   "metadata": {},
   "source": [
    "<font color='dd0000'>\n",
    "    \n",
    "思路：\n",
    "\n",
    "如果m = 1，则同反转前N个结点\n",
    "\n",
    "如果m > 1: \n",
    "\n",
    "若将head.next看作头，则反转区间变为[m-1, n-1]\n",
    "\n",
    "若将head.next.next看作头，则反转区间变为[m - 2, n - 2]\n",
    "\n",
    "…… 直到变为[1, n - m + 1]，转为反转前N个结点，即为Base Case\n",
    "</font>"
   ]
  },
  {
   "cell_type": "code",
   "execution_count": 18,
   "metadata": {},
   "outputs": [],
   "source": [
    "public ListNode reverseBetween2(ListNode head, int m, int n){\n",
    "    if(m == 1)\n",
    "        return reverseN(head, n);\n",
    "    head.next = reverseBetween2(head.next, m - 1, n - 1);  // 返回值是反转后的头结点\n",
    "    return head;\n",
    "}"
   ]
  },
  {
   "cell_type": "markdown",
   "metadata": {},
   "source": [
    "## 21. Merge Two Sorted Lists (easy)"
   ]
  },
  {
   "cell_type": "markdown",
   "metadata": {},
   "source": [
    "Merge two sorted linked lists and return it as a new list. The new list should be made by splicing together the nodes of the first two lists."
   ]
  },
  {
   "cell_type": "code",
   "execution_count": 19,
   "metadata": {},
   "outputs": [],
   "source": [
    "public ListNode mergeTwoLists(ListNode l1, ListNode l2) {\n",
    "    ListNode dummy = new ListNode(-1);\n",
    "    ListNode i = l1;\n",
    "    ListNode j = l2;\n",
    "    ListNode cur = dummy;\n",
    "    while(i != null && j != null){\n",
    "        if(i.val <= j.val){\n",
    "            cur.next = i;\n",
    "            cur = cur.next;\n",
    "            i = i.next;\n",
    "        } else if(i.val > j.val){\n",
    "            cur.next = j;\n",
    "            cur = cur.next;\n",
    "            j = j.next;\n",
    "        }\n",
    "    }\n",
    "    if( i != null){\n",
    "        cur.next = i;\n",
    "    }\n",
    "    if( j != null){\n",
    "        cur.next = j;\n",
    "    }\n",
    "    return dummy.next;\n",
    "}"
   ]
  },
  {
   "cell_type": "markdown",
   "metadata": {},
   "source": [
    "⭐<font color='dd0000'>**递归解法**</font>"
   ]
  },
  {
   "cell_type": "markdown",
   "metadata": {},
   "source": [
    "<font color='dd0000'>思路：如果 l1(l2) 的值更小，则将 l1(l2) 和 l2.next(l1.next) 进行排序合并。Base Case: 当 l1(l2) 为null时，返回 l1(l2)。</font>"
   ]
  },
  {
   "cell_type": "code",
   "execution_count": 24,
   "metadata": {},
   "outputs": [],
   "source": [
    "public ListNode mergeTwoLists2(ListNode l1, ListNode l2) {\n",
    "    if(l1 == null)\n",
    "        return l1;\n",
    "    else if(l2 == null)\n",
    "        return null;\n",
    "    else if(l1.val < l2.val){\n",
    "        l1.next = mergeTwoLists(l1, l2.next);\n",
    "        return l1;\n",
    "    }\n",
    "    else{\n",
    "        l2.next = mergeTwoLists(l1.next, l2);\n",
    "        return l2;\n",
    "    }\n",
    "}"
   ]
  },
  {
   "cell_type": "markdown",
   "metadata": {},
   "source": [
    "## 83. Remove Duplicates from Sorted List (easy)"
   ]
  },
  {
   "cell_type": "markdown",
   "metadata": {},
   "source": [
    "Given a sorted linked list, delete all duplicates such that each element appear only once."
   ]
  },
  {
   "cell_type": "code",
   "execution_count": 4,
   "metadata": {},
   "outputs": [],
   "source": [
    "public ListNode deleteDuplicates(ListNode head) {\n",
    "    if(head == null)\n",
    "        return null;\n",
    "    ListNode pre = head;\n",
    "    ListNode cur = head.next;\n",
    "    while(cur != null){\n",
    "        if(pre.val == cur.val){\n",
    "            cur = cur.next;\n",
    "            pre.next = cur;\n",
    "            continue;\n",
    "        }\n",
    "        pre = cur;\n",
    "        cur = cur.next;\n",
    "    }\n",
    "    return head;\n",
    " }"
   ]
  },
  {
   "cell_type": "markdown",
   "metadata": {},
   "source": [
    "⭐<font color='dd0000'>**递归解法**</font>"
   ]
  },
  {
   "cell_type": "code",
   "execution_count": 6,
   "metadata": {},
   "outputs": [],
   "source": [
    "public ListNode deleteDuplicates2(ListNode head) {\n",
    "    if(head == null || head.next == nnull)\n",
    "        return head;\n",
    "    head.next = deleteDuplicates2(head.next);\n",
    "    if(head.val == head.next.val)\n",
    "        head = head.next;\n",
    "    return head;\n",
    "}"
   ]
  },
  {
   "cell_type": "markdown",
   "metadata": {},
   "source": [
    "<font color='dd0000'>\n",
    "    \n",
    "**思路：**\n",
    "\n",
    "1.找终止条件：当head只指向一个结点时，自然没有重复，直接返回head（包括为空的情况）；\n",
    "\n",
    "2.想想返回值应该是什么：返回的应该是去重后链表的头结点；\n",
    "\n",
    "3.每一步应该做什么：宏观上考虑，此时当前head指向已去重的子链表的头结点，根据第2步，最终应返回去重的头结点，所以这一步应该做的是，判断head和head.next是否相等，如果相等，应返回head.next，若不等，返回head\n",
    "</font>"
   ]
  },
  {
   "cell_type": "markdown",
   "metadata": {},
   "source": [
    "## 19. Remove Nth Node From End of List (medium)"
   ]
  },
  {
   "cell_type": "markdown",
   "metadata": {},
   "source": [
    "Given a linked list, remove the n-th node from the end of list and return its head.\n",
    "\n",
    "Example:\n",
    "\n",
    "Given linked list: 1->2->3->4->5, and n = 2.\n",
    "\n",
    "After removing the second node from the end, the linked list becomes 1->2->3->5."
   ]
  },
  {
   "cell_type": "code",
   "execution_count": 7,
   "metadata": {},
   "outputs": [],
   "source": [
    "public ListNode removeNthFromEnd(ListNode head, int n) {\n",
    "    if(head == null)\n",
    "        return null;\n",
    "    ListNode dummy = new ListNode(-1);\n",
    "    dummy.next = head;\n",
    "    ListNode slow = dummy, fast = dummy;  // 快慢双指针\n",
    "    for(int i = 1; i <= n; i++)   // 让快指针先走n步\n",
    "        fast = fast.next;\n",
    "    while(fast.next != null){     // 再让两个指针同时往前走,当fast走到链表尾时,slow正好在待删除结点的前一个\n",
    "        slow = slow.next;\n",
    "        fast = fast.next;\n",
    "    }\n",
    "    slow.next = slow.next.next;\n",
    "    return dummy.next;\n",
    "}"
   ]
  },
  {
   "cell_type": "markdown",
   "metadata": {},
   "source": [
    "<font color='dd0000'>\n",
    "\n",
    "**思路：**\n",
    "\n",
    "目标是找到倒数第N个结点的前一个结点，这样才能进行删除。最初的想法是遍历的同时把下标和结点存入一个哈希表，遍历完后用最后一位-n-1得到。\n",
    "\n",
    "用*快慢双指针*可以不必用哈希表，先让快指针先走n步，再两个指针同时出发，当快指针到最后一个结点时慢指针恰好到前一个结点\n",
    "\n",
    "</font>"
   ]
  },
  {
   "cell_type": "markdown",
   "metadata": {},
   "source": [
    "## 24. Swap Nodes in Pairs (medium)"
   ]
  },
  {
   "cell_type": "markdown",
   "metadata": {},
   "source": [
    "Given a linked list, swap every two adjacent nodes and return its head.\n",
    "\n",
    "You may not modify the values in the list's nodes, only nodes itself may be changed.\n",
    "\n",
    " \n",
    "\n",
    "Example:\n",
    "\n",
    "Given 1->2->3->4, you should return the list as 2->1->4->3."
   ]
  },
  {
   "cell_type": "code",
   "execution_count": 8,
   "metadata": {},
   "outputs": [],
   "source": [
    "public ListNode swapPairs(ListNode head) {\n",
    "    ListNode dummy = new ListNode(-1);\n",
    "    dummy.next = head;\n",
    "    ListNode cur = dummy;\n",
    "    while(cur.next != null && cur.next.next != null){\n",
    "        ListNode i = cur.next;\n",
    "        ListNode j = cur.next.next;\n",
    "        i.next = j.next;\n",
    "        j.next = i;\n",
    "        cur.next = j;\n",
    "        cur = cur.next.next;  // 前驱结点每次前进两步\n",
    "    }\n",
    "    return dummy.next;\n",
    "}"
   ]
  },
  {
   "cell_type": "markdown",
   "metadata": {},
   "source": [
    "<font color='dd0000'>\n",
    "\n",
    "**思路：**\n",
    "\n",
    "交换两个结点，需要对三个结点操作，要交换的两个和这对的前一个。所以使用三个指针，因为对head而言没有前一个结点，所以设置dummy node。注意，当前驱节点的后面没有结点或只有一个结点时就不要交换，循环结束。\n",
    "</font>"
   ]
  },
  {
   "cell_type": "markdown",
   "metadata": {},
   "source": [
    "⭐<font color='dd0000'>**递归解法**</font>"
   ]
  },
  {
   "cell_type": "code",
   "execution_count": 9,
   "metadata": {},
   "outputs": [],
   "source": [
    "public ListNode swapPairs2(ListNode head) {\n",
    "    if(head == null || head.next == null)\n",
    "        return head;\n",
    "    ListNode next = head.next;\n",
    "    head.next = swapPairs2(next.next);\n",
    "    next.next = head;\n",
    "    return next;\n",
    "}"
   ]
  },
  {
   "cell_type": "markdown",
   "metadata": {},
   "source": [
    "<font color='dd0000'>\n",
    "\n",
    "**思路：**\n",
    "\n",
    "1.找终止条件：当head为空或head后面没有结点了自然不需要交换，返回head；\n",
    "\n",
    "2.找返回值：返回值应是交换完后的一个子链表的头结点；\n",
    "\n",
    "3.每一步做什么：应对当前这对结点(head和head.next)的后一个结点递归，且head连接这个返回值，head.next连接到head，返回head.next\n",
    "</font>"
   ]
  },
  {
   "cell_type": "markdown",
   "metadata": {},
   "source": [
    "## 234. Palindrome Linked List (easy)"
   ]
  },
  {
   "cell_type": "markdown",
   "metadata": {},
   "source": [
    "Given a singly linked list, determine if it is a palindrome.\n",
    "\n",
    "Example 1:\n",
    "\n",
    "Input: 1->2\n",
    "Output: false\n",
    "\n",
    "Example 2:\n",
    "\n",
    "Input: 1->2->2->1\n",
    "Output: true\n",
    "\n",
    "Follow up:\n",
    "Could you do it in O(n) time and O(1) space?"
   ]
  },
  {
   "cell_type": "code",
   "execution_count": 4,
   "metadata": {},
   "outputs": [],
   "source": [
    "public boolean isPalindrome(ListNode head){\n",
    "    if(head == null)\n",
    "        return true;\n",
    "    \n",
    "    // 利用快慢指针来确定链表中点:快指针一次走两步，慢指针一次走一步\n",
    "    ListNode slow = head;\n",
    "    ListNode fast = head;\n",
    "    while(fast.next != null && fast.next.next != null){\n",
    "        slow = slow.next;\n",
    "        fast = fast.next.next;\n",
    "    }\n",
    "    // 此时slow指向链表的中点,反转slow后的链表\n",
    "    ListNode cur = slow.next;\n",
    "    while(cur != null && cur.next != null){  // 注意: cur不动\n",
    "        ListNode temp = cur.next;\n",
    "        cur.next = temp.next;\n",
    "        temp.next = slow.next;\n",
    "        slow.next = temp;\n",
    "    }\n",
    "    // 分别从头和slow后进行比较\n",
    "    if(slow != null){\n",
    "        ListNode i = head;\n",
    "        ListNode j = slow.next;\n",
    "        while(j != null){\n",
    "            if(i.val != j.val)\n",
    "                return false;\n",
    "            i = i.next;\n",
    "            j = j.next;\n",
    "        }\n",
    "    }\n",
    "    return true;\n",
    "}"
   ]
  },
  {
   "cell_type": "markdown",
   "metadata": {},
   "source": [
    "<font color='dd0000'>**快慢指针思想：**一个快指针*fast*一个慢指针*slow*，每次前进时```fast = fast.next.next, slow = slow.next```这样的话，fast指针移动速度就是slow指针的两倍，用来取中点、判断环形链表很有用</font>"
   ]
  },
  {
   "cell_type": "markdown",
   "metadata": {},
   "source": [
    "<font color='dd0000'>也可以用**栈**做，把链表都压入栈或只把后半部分压入栈</font>"
   ]
  },
  {
   "cell_type": "markdown",
   "metadata": {},
   "source": [
    "## 141. Linked List Cycle (easy)"
   ]
  },
  {
   "cell_type": "markdown",
   "metadata": {},
   "source": [
    "Given a linked list, determine if it has a cycle in it.\n",
    "\n",
    "To represent a cycle in the given linked list, we use an integer pos which represents the position (0-indexed) in the linked list where tail connects to. If pos is -1, then there is no cycle in the linked list."
   ]
  },
  {
   "cell_type": "code",
   "execution_count": 6,
   "metadata": {},
   "outputs": [],
   "source": [
    "public boolean hasCycle(ListNode head) {\n",
    "    if(head == null)\n",
    "        return false;\n",
    "    \n",
    "    // 快慢指针\n",
    "    ListNode slow = head;\n",
    "    ListNode fast = head;\n",
    "    while(fast.next != null && fast.next.next != null){  // 注意判断条件:因为fast更快所以只需判断fast.next和fast.next.next\n",
    "        slow = slow.next;\n",
    "        fast = fast.next;\n",
    "        if(slow.val == fast.val)\n",
    "            return true;\n",
    "    }\n",
    "    return false;\n",
    "}"
   ]
  },
  {
   "cell_type": "markdown",
   "metadata": {},
   "source": [
    "<font color='dd0000'>想象两个速度不同的跑步者在环形操场跑步，速度快的一定会在某个时刻追上速度慢的</font>"
   ]
  },
  {
   "cell_type": "markdown",
   "metadata": {},
   "source": [
    "## <font color='dddd00'>725. Split Linked List in Parts (easy)"
   ]
  },
  {
   "cell_type": "markdown",
   "metadata": {},
   "source": [
    "Given a (singly) linked list with head node root, write a function to split the linked list into k consecutive linked list \"parts\".\n",
    "\n",
    "The length of each part should be as equal as possible: no two parts should have a size differing by more than 1. This may lead to some parts being null.\n",
    "\n",
    "The parts should be in order of occurrence in the input list, and parts occurring earlier should always have a size greater than or equal parts occurring later.\n",
    "\n",
    "Return a List of ListNode's representing the linked list parts that are formed.\n",
    "\n",
    "Examples 1->2->3->4, k = 5 \n",
    "\n",
    "// 5 equal parts [ [1], [2], [3], [4], null ]\n"
   ]
  },
  {
   "cell_type": "code",
   "execution_count": 3,
   "metadata": {},
   "outputs": [],
   "source": [
    "public ListNode[] splitListToParts(ListNode root, int k) {\n",
    "    ListNode[] ans = new ListNode[k];\n",
    "        \n",
    "    int length = 0;\n",
    "    for(ListNode cur = root; cur != null; cur = cur.next)  // 用for循环求链表长度\n",
    "        length++;\n",
    "        \n",
    "    int l = length / k;\n",
    "    int r = length % k;\n",
    "    ListNode head = root;\n",
    "    ListNode pre = null;\n",
    "    for(int i = 0; i < k; i++, r--){  // 一共k个小组\n",
    "        ans[i] = head;\n",
    "        for(int j = 0; j < (l + (r > 0 ? 1 : 0)); j++){  // 每个小组的长度\n",
    "            pre = head;\n",
    "            head = head.next;\n",
    "        }\n",
    "        if(pre != null)\n",
    "            pre.next = null;\n",
    "    }\n",
    "    return ans;\n",
    "}"
   ]
  },
  {
   "cell_type": "markdown",
   "metadata": {},
   "source": [
    "<font color='dd0000'>注意点：\n",
    "1. 用for循环求链表长度\n",
    "\n",
    "2. pre和head前后节点的使用\n",
    "\n",
    "3. 三元判断表达式的使用\n",
    "</font>"
   ]
  },
  {
   "cell_type": "markdown",
   "metadata": {},
   "source": [
    "## <font color='dddd00'>328. Odd Even Linked List (medium)"
   ]
  },
  {
   "cell_type": "markdown",
   "metadata": {},
   "source": [
    "Given a singly linked list, group all odd nodes together followed by the even nodes. Please note here we are talking about the node number and not the value in the nodes.\n",
    "\n",
    "You should try to do it in place. The program should run in O(1) space complexity and O(nodes) time complexity.\n",
    "\n",
    "Example 1:\n",
    "\n",
    "Input: 1->2->3->4->5->NULL\n",
    "\n",
    "Output: 1->3->5->2->4->NULL\n",
    "\n",
    "The relative order inside both the even and odd groups should remain as it was in the input.\n",
    "\n",
    "The first node is considered odd, the second node even and so on ..."
   ]
  },
  {
   "cell_type": "code",
   "execution_count": 5,
   "metadata": {},
   "outputs": [],
   "source": [
    "public ListNode oddEvenList(ListNode head){\n",
    "    if(head == null){\n",
    "        return null;\n",
    "    }\n",
    "    ListNode odd = head;\n",
    "    ListNode evenHead = head.next;\n",
    "    ListNode even = evenHead;\n",
    "    while(even != null && even.next != null){\n",
    "        odd.next = even.next;  // 奇数尾连接偶数尾的下一个\n",
    "        odd = odd.next;\n",
    "        even.next = odd.next;  // 偶数尾连接奇数尾的下一个\n",
    "        even = even.next;\n",
    "    }\n",
    "    odd.next = evenHead;  // 将奇链表和偶链表连接\n",
    "    return head;\n",
    "}"
   ]
  },
  {
   "cell_type": "markdown",
   "metadata": {},
   "source": [
    "<font color='dd0000'>**思路：**将链表拆成奇偶两个链表，再把奇链表的尾和偶链表的头连接起来。先evenHead保存偶链表的头，再分别用奇、偶两个指针一遍遍历一遍连接，最后合在一起。</font>"
   ]
  }
 ],
 "metadata": {
  "kernelspec": {
   "display_name": "Java",
   "language": "java",
   "name": "java"
  },
  "language_info": {
   "codemirror_mode": "java",
   "file_extension": ".jshell",
   "mimetype": "text/x-java-source",
   "name": "Java",
   "pygments_lexer": "java",
   "version": "12.0.2+10"
  }
 },
 "nbformat": 4,
 "nbformat_minor": 2
}
