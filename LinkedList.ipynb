{
 "cells": [
  {
   "cell_type": "markdown",
   "metadata": {},
   "source": [
    "<a name=\"top\"></a>\n",
    "<p style=\"text-align: right\"><a href=\"#bottom\" style=\"text-decoration: none;color: pink\"><strong>Bottom</strong></a></p>"
   ]
  },
  {
   "cell_type": "markdown",
   "metadata": {},
   "source": [
    "# <center>LinkedList"
   ]
  },
  {
   "cell_type": "code",
   "execution_count": 1,
   "metadata": {},
   "outputs": [],
   "source": [
    "public class ListNode {\n",
    "    int val;\n",
    "    ListNode next;\n",
    "    ListNode(int x) { val = x; }\n",
    "}"
   ]
  },
  {
   "cell_type": "markdown",
   "metadata": {},
   "source": [
    "## [2. Add Two Numbers (medium)](https://leetcode-cn.com/problems/add-two-numbers/)"
   ]
  },
  {
   "cell_type": "markdown",
   "metadata": {},
   "source": [
    "You are given two non-empty linked lists representing two non-negative integers. The digits are stored in reverse order and each of their nodes contain a single digit. Add the two numbers and return it as a linked list.\n",
    "\n",
    "You may assume the two numbers do not contain any leading zero, except the number 0 itself.\n",
    "\n",
    "Example:\n",
    "\n",
    "Input: (2 -> 4 -> 3) + (5 -> 6 -> 4)\n",
    "\n",
    "Output: 7 -> 0 -> 8\n",
    "\n",
    "Explanation: 342 + 465 = 807."
   ]
  },
  {
   "cell_type": "markdown",
   "metadata": {},
   "source": [
    "<font color='dd0000'>**链表技巧：*dummy node***</font>"
   ]
  },
  {
   "cell_type": "code",
   "execution_count": 7,
   "metadata": {},
   "outputs": [],
   "source": [
    "public ListNode addTwoNumbers(ListNode l1, ListNode l2) {\n",
    "    ListNode dummy = new ListNode(-1);  // dummy node 作为新链表的虚拟头\n",
    "    ListNode cur = dummy;    // 新链表指针\n",
    "    int res = 0;\n",
    "    int next = 0;  // 进位\n",
    "    while(l1 != null && l2 != null){\n",
    "        res = l1.val + l2.val + next;\n",
    "        next = res / 10;\n",
    "        res %= 10;\n",
    "        cur.next = new ListNode(res);\n",
    "        cur = cur.next;\n",
    "        l1 = l1.next;\n",
    "        l2 = l2.next;\n",
    "    }\n",
    "    while(l1 != null){\n",
    "        res = l1.val + next;\n",
    "        next = res / 10;\n",
    "        res %= 10;\n",
    "        cur.next = new ListNode(res);\n",
    "        cur = cur.next;\n",
    "        l1 = l1.next;\n",
    "    }\n",
    "    while(l2 != null){\n",
    "        res = l2.val + next;\n",
    "        next = res / 10;\n",
    "        res %= 10;\n",
    "        cur.next = new ListNode(res);\n",
    "        cur = cur.next;\n",
    "        l2 = l2.next;\n",
    "    }\n",
    "    if (next != 0)\n",
    "        cur.next = new ListNode(next); //!!!考虑最后还有进位的情况!!!\n",
    "    return dummy.next;\n",
    "}"
   ]
  },
  {
   "cell_type": "markdown",
   "metadata": {},
   "source": [
    "## [445. Add Two Numbers II (medium)](https://leetcode-cn.com/problems/add-two-numbers-ii/)"
   ]
  },
  {
   "cell_type": "markdown",
   "metadata": {},
   "source": [
    "You are given two non-empty linked lists representing two non-negative integers. The most significant digit comes first and each of their nodes contain a single digit. Add the two numbers and return it as a linked list.\n",
    "\n",
    "You may assume the two numbers do not contain any leading zero, except the number 0 itself.\n",
    "\n",
    "Follow up:\n",
    "What if you cannot modify the input lists? In other words, reversing the lists is not allowed.\n",
    "\n",
    "Example:\n",
    "\n",
    "Input: (7 -> 2 -> 4 -> 3) + (5 -> 6 -> 4)\n",
    "\n",
    "Output: 7 -> 8 -> 0 -> 7"
   ]
  },
  {
   "cell_type": "markdown",
   "metadata": {},
   "source": [
    "<font color='dd0000'>用栈保存链表前面的元素\n",
    "\n",
    "**头插法**构造新链表</font>"
   ]
  },
  {
   "cell_type": "code",
   "execution_count": 11,
   "metadata": {},
   "outputs": [],
   "source": [
    "public ListNode addTwoNumbers(ListNode l1, ListNode l2) {\n",
    "    Stack<Integer> s1 = new Stack<>();\n",
    "    Stack<Integer> s2 = new Stack<>();\n",
    "    ListNode cur1 = l1;\n",
    "    ListNode cur2 = l2;\n",
    "    while(cur1 != null){\n",
    "        s1.push(cur1.val);\n",
    "        cur1 = cur1.next;\n",
    "    }\n",
    "    while(cur2 != null){\n",
    "        s2.push(cur2.val);\n",
    "        cur2 = cur2.next;\n",
    "    }\n",
    "\n",
    "    ListNode dummy = new ListNode(-1);\n",
    "    int carry = 0;\n",
    "    while(!s1.isEmpty() || !s2.isEmpty()){  // 用或来判断循环,当有一个栈为空时,直接看作是+0就可以了\n",
    "        int a = s1.isEmpty() ? 0 : s1.pop();\n",
    "        int b = s2.isEmpty() ? 0 : s2.pop();\n",
    "        int res = a + b + carry;\n",
    "        carry = res / 10;\n",
    "        res %= 10;\n",
    "\n",
    "        ListNode node = new ListNode(res);  // 头插法直接构造新链表,不必再用一个栈来保存结果\n",
    "        node.next = dummy.next;\n",
    "        dummy.next = node;\n",
    "    }\n",
    "    if(carry > 0){  // 考虑最后可能剩的进位!!!\n",
    "        ListNode node = new ListNode(carry);\n",
    "        node.next = dummy.next;\n",
    "        dummy.next = node;\n",
    "    }\n",
    "    return dummy.next;\n",
    "}"
   ]
  },
  {
   "cell_type": "markdown",
   "metadata": {},
   "source": [
    "## [160. Intersection of Two Linked Lists (easy)](https://leetcode-cn.com/problems/intersection-of-two-linked-lists/)"
   ]
  },
  {
   "cell_type": "markdown",
   "metadata": {},
   "source": [
    "Write a program to find the node at which the intersection of two singly linked lists begins."
   ]
  },
  {
   "cell_type": "markdown",
   "metadata": {},
   "source": [
    "<font color='dd0000'>\n",
    "    \n",
    "**思路：** \n",
    "\n",
    "2个链表的长度不一定相等，如果用双指针分别从头开始遍历的话会错位。\n",
    "\n",
    "设A链表长度为a + c，B链表长度为b + c，其中c为公共部分长度，则有：a + c + b = b + c + a，\n",
    "\n",
    "所以，**当A的指针走完后，从B的起点继续，同样B的指针走完后，从A的起点继续**，这样两个指针的总路程就相等，\n",
    "\n",
    "且终点就是交叉点，**当两个指针相等时，说明到达终点，即找到了交叉点**，\n",
    "\n",
    "若两个链表不相交，即c = 0，那么同样有a + b = b + a，两个指针走完全程时同为null，返回即可\n",
    "</font>"
   ]
  },
  {
   "cell_type": "code",
   "execution_count": 12,
   "metadata": {},
   "outputs": [],
   "source": [
    "public ListNode getIntersectionNode(ListNode headA, ListNode headB){\n",
    "    if(headA == null || headB == null){\n",
    "        return null;\n",
    "    }\n",
    "    ListNode a = headA;\n",
    "    ListNode b = headB;\n",
    "    while(a != b){\n",
    "        a = (a.next == null) ? headB : a.next;\n",
    "        b = (b.next == null) ? headA : b.next;\n",
    "        if(a == b)\n",
    "            return a;\n",
    "    }\n",
    "    return a;\n",
    "}"
   ]
  },
  {
   "cell_type": "markdown",
   "metadata": {},
   "source": [
    "## [206. Reverse Linked List (easy)](https://leetcode-cn.com/problems/reverse-linked-list/)"
   ]
  },
  {
   "cell_type": "markdown",
   "metadata": {},
   "source": [
    "Reverse a singly linked list."
   ]
  },
  {
   "cell_type": "code",
   "execution_count": 25,
   "metadata": {},
   "outputs": [],
   "source": [
    "public ListNode reverseList(ListNode head) {\n",
    "    ListNode dummy = new ListNode(-1);\n",
    "    ListNode cur = head;\n",
    "    while(cur != null){\n",
    "        ListNode temp = cur.next;\n",
    "        cur.next = dummy.next;\n",
    "        dummy.next = cur;\n",
    "        cur = temp;\n",
    "    }\n",
    "    return dummy.next;\n",
    "    }"
   ]
  },
  {
   "cell_type": "markdown",
   "metadata": {},
   "source": [
    "⭐<font color='dd0000'>**递归解法**</font>"
   ]
  },
  {
   "cell_type": "code",
   "execution_count": 13,
   "metadata": {},
   "outputs": [],
   "source": [
    "public ListNode reverseList2(ListNode head) {\n",
    "    if(head == null || head.next == null)  // Base Case:当结点为空或只有一个结点时,不必反转,直接返回它本身\n",
    "        return head;\n",
    "    ListNode last = reverseList(head.next);  // 返回值是反转后链表的头\n",
    "    head.next.next = head;  // 反转后,宏观上的操作:应让head后面的结点指向自己,且自己指向null\n",
    "    head.next = null;\n",
    "    return last;\n",
    "}"
   ]
  },
  {
   "cell_type": "markdown",
   "metadata": {},
   "source": [
    "<font color='dd0000'>图解见笔记本</font>"
   ]
  },
  {
   "cell_type": "markdown",
   "metadata": {},
   "source": [
    "## [92. Reverse Linked List II (medium)](https://leetcode-cn.com/problems/reverse-linked-list-ii/)"
   ]
  },
  {
   "cell_type": "markdown",
   "metadata": {},
   "source": [
    "Reverse a linked list from position m to n. Do it in one-pass.\n",
    "\n",
    "Note: 1 ≤ m ≤ n ≤ length of list.\n",
    "\n",
    "Example:\n",
    "\n",
    "Input: 1->2->3->4->5->NULL, m = 2, n = 4\n",
    "\n",
    "Output: 1->4->3->2->5->NULL"
   ]
  },
  {
   "cell_type": "code",
   "execution_count": 14,
   "metadata": {},
   "outputs": [],
   "source": [
    "public ListNode reverseBetween(ListNode head, int m, int n) {\n",
    "    ListNode dummy = new ListNode(-1);  // 遍历反转的时候需要前一个结点,设置一个dummy node方便头结点的处理\n",
    "    dummy.next = head;\n",
    "    ListNode start = head;\n",
    "    ListNode pre = dummy;\n",
    "    for(int i = 1; i < m; i++){  // 把start定位到第m个结点\n",
    "        pre = start;\n",
    "        start = start.next;\n",
    "    }\n",
    "    for(int i = m; i < n; i++){\n",
    "        ListNode temp = start.next;  // start为反转后的尾结点,所以不动\n",
    "        start.next = temp.next;\n",
    "        temp.next = pre.next;\n",
    "        pre.next = temp;\n",
    "    }\n",
    "    return dummy.next;\n",
    "}"
   ]
  },
  {
   "cell_type": "markdown",
   "metadata": {},
   "source": [
    "⭐<font color='dd0000'>**递归解法**</font>"
   ]
  },
  {
   "cell_type": "markdown",
   "metadata": {},
   "source": [
    "1. 递归解决<font color='dd0000'>**反转链表前N个结点**</font>"
   ]
  },
  {
   "cell_type": "code",
   "execution_count": 17,
   "metadata": {},
   "outputs": [],
   "source": [
    "ListNode successor = null;   // 记录后继结点\n",
    "public ListNode reverseN(ListNode head, int n){\n",
    "    if(n == 1){\n",
    "        successor = head.next;  // 后继结点为第n + 1个结点\n",
    "        return head;\n",
    "    }   \n",
    "    ListNode last = reverseN(head.next, n - 1);  // 返回值是反转后的头结点\n",
    "    head.next.next = head;\n",
    "    head.next = successor;  // 现在的头结点应连接到第n + 1个结点\n",
    "    return last;\n",
    "}"
   ]
  },
  {
   "cell_type": "markdown",
   "metadata": {},
   "source": [
    "<font color='dd0000'>图解见笔记本</font>"
   ]
  },
  {
   "cell_type": "markdown",
   "metadata": {},
   "source": [
    "2. 递归解决<font color='dd0000'>**反转从m到n的结点**</font>"
   ]
  },
  {
   "cell_type": "markdown",
   "metadata": {},
   "source": [
    "<font color='dd0000'>\n",
    "    \n",
    "思路：\n",
    "\n",
    "如果m = 1，则同反转前N个结点\n",
    "\n",
    "如果m > 1: \n",
    "\n",
    "若将head.next看作头，则反转区间变为[m-1, n-1]\n",
    "\n",
    "若将head.next.next看作头，则反转区间变为[m - 2, n - 2]\n",
    "\n",
    "…… 直到变为[1, n - m + 1]，转为反转前N个结点，即为Base Case\n",
    "</font>"
   ]
  },
  {
   "cell_type": "code",
   "execution_count": 18,
   "metadata": {},
   "outputs": [],
   "source": [
    "public ListNode reverseBetween2(ListNode head, int m, int n){\n",
    "    if(m == 1)\n",
    "        return reverseN(head, n);\n",
    "    head.next = reverseBetween2(head.next, m - 1, n - 1);  // 返回值是反转后的头结点\n",
    "    return head;\n",
    "}"
   ]
  },
  {
   "cell_type": "markdown",
   "metadata": {},
   "source": [
    "## [21. Merge Two Sorted Lists (easy)](https://leetcode-cn.com/problems/merge-two-sorted-lists/)"
   ]
  },
  {
   "cell_type": "markdown",
   "metadata": {},
   "source": [
    "Merge two sorted linked lists and return it as a new list. The new list should be made by splicing together the nodes of the first two lists."
   ]
  },
  {
   "cell_type": "code",
   "execution_count": 19,
   "metadata": {},
   "outputs": [],
   "source": [
    "public ListNode mergeTwoLists(ListNode l1, ListNode l2) {\n",
    "    ListNode dummy = new ListNode(-1);\n",
    "    ListNode i = l1;\n",
    "    ListNode j = l2;\n",
    "    ListNode cur = dummy;\n",
    "    while(i != null && j != null){\n",
    "        if(i.val <= j.val){\n",
    "            cur.next = i;\n",
    "            cur = cur.next;\n",
    "            i = i.next;\n",
    "        } else if(i.val > j.val){\n",
    "            cur.next = j;\n",
    "            cur = cur.next;\n",
    "            j = j.next;\n",
    "        }\n",
    "    }\n",
    "    if( i != null){\n",
    "        cur.next = i;\n",
    "    }\n",
    "    if( j != null){\n",
    "        cur.next = j;\n",
    "    }\n",
    "    return dummy.next;\n",
    "}"
   ]
  },
  {
   "cell_type": "markdown",
   "metadata": {},
   "source": [
    "⭐<font color='dd0000'>**递归解法**</font>"
   ]
  },
  {
   "cell_type": "markdown",
   "metadata": {},
   "source": [
    "<font color='dd0000'>思路：如果 l1(l2) 的值更小，则将 l1(l2) 和 l2.next(l1.next) 进行排序合并。Base Case: 当 l1(l2) 为null时，返回 l1(l2)。</font>"
   ]
  },
  {
   "cell_type": "code",
   "execution_count": 2,
   "metadata": {},
   "outputs": [],
   "source": [
    "public ListNode mergeTwoLists2(ListNode l1, ListNode l2) {\n",
    "    if(l1 == null)\n",
    "        return l2;\n",
    "    else if(l2 == null)\n",
    "        return l1;\n",
    "    else if(l1.val < l2.val){\n",
    "        l1.next = mergeTwoLists(l1.next, l2);\n",
    "        return l1;\n",
    "    }\n",
    "    else{\n",
    "        l2.next = mergeTwoLists(l1, l2.next);\n",
    "        return l2;\n",
    "    }\n",
    "}"
   ]
  },
  {
   "cell_type": "markdown",
   "metadata": {},
   "source": [
    "## [83. Remove Duplicates from Sorted List (easy)](https://leetcode-cn.com/problems/remove-duplicates-from-sorted-list/)"
   ]
  },
  {
   "cell_type": "markdown",
   "metadata": {},
   "source": [
    "Given a sorted linked list, delete all duplicates such that each element appear only once."
   ]
  },
  {
   "cell_type": "code",
   "execution_count": 4,
   "metadata": {},
   "outputs": [],
   "source": [
    "public ListNode deleteDuplicates(ListNode head) {\n",
    "    if(head == null)\n",
    "        return null;\n",
    "    ListNode pre = head;\n",
    "    ListNode cur = head.next;\n",
    "    while(cur != null){\n",
    "        if(pre.val == cur.val){\n",
    "            cur = cur.next;\n",
    "            pre.next = cur;\n",
    "            continue;\n",
    "        }\n",
    "        pre = cur;\n",
    "        cur = cur.next;\n",
    "    }\n",
    "    return head;\n",
    " }"
   ]
  },
  {
   "cell_type": "markdown",
   "metadata": {},
   "source": [
    "⭐<font color='dd0000'>**递归解法**</font>"
   ]
  },
  {
   "cell_type": "markdown",
   "metadata": {},
   "source": [
    "<font color='dd0000'>\n",
    "    \n",
    "**思路：**\n",
    "\n",
    "1.找终止条件：当head只指向一个结点时，自然没有重复，直接返回head（包括为空的情况）；\n",
    "\n",
    "2.想想返回值应该是什么：返回的应该是去重后链表的头结点；\n",
    "\n",
    "3.每一步应该做什么：宏观上考虑，此时当前head指向已去重的子链表的头结点，根据第2步，最终应返回去重的头结点，所以这一步应该做的是，判断head和head.next是否相等，如果相等，应返回head.next，若不等，返回head\n",
    "</font>"
   ]
  },
  {
   "cell_type": "code",
   "execution_count": 6,
   "metadata": {},
   "outputs": [],
   "source": [
    "public ListNode deleteDuplicates2(ListNode head) {\n",
    "    if(head == null || head.next == nnull)\n",
    "        return head;\n",
    "    head.next = deleteDuplicates2(head.next);\n",
    "    if(head.val == head.next.val)\n",
    "        head = head.next;\n",
    "    return head;\n",
    "}"
   ]
  },
  {
   "cell_type": "markdown",
   "metadata": {},
   "source": [
    "## [82. Remove Duplicates from Sorted List II (medium)](https://leetcode-cn.com/problems/remove-duplicates-from-sorted-list-ii/)"
   ]
  },
  {
   "cell_type": "markdown",
   "metadata": {},
   "source": [
    "Given a sorted linked list, delete all nodes that have duplicate numbers, leaving only distinct numbers from the original list.\n",
    "\n",
    "Return the linked list sorted as well."
   ]
  },
  {
   "cell_type": "code",
   "execution_count": null,
   "metadata": {},
   "outputs": [],
   "source": [
    "public ListNode deleteDuplicates(ListNode head) {\n",
    "    ListNode dummy = new ListNode(-1);\n",
    "    dummy.next = head;\n",
    "    ListNode pre = dummy, cur = head;\n",
    "    while(cur != null && cur.next != null){\n",
    "        int value = cur.val;\n",
    "        if(cur.next.val == value){\n",
    "            while(cur != null && cur.val == value){\n",
    "                cur = cur.next;\n",
    "            }\n",
    "            pre.next = cur;\n",
    "        } else {\n",
    "            pre = cur;\n",
    "            cur = cur.next;\n",
    "        }\n",
    "    }\n",
    "    return dummy.next;\n",
    "}"
   ]
  },
  {
   "cell_type": "markdown",
   "metadata": {},
   "source": [
    "## [19. Remove Nth Node From End of List (medium)](https://leetcode-cn.com/problems/remove-nth-node-from-end-of-list/)"
   ]
  },
  {
   "cell_type": "markdown",
   "metadata": {},
   "source": [
    "Given a linked list, remove the n-th node from the end of list and return its head.\n",
    "\n",
    "Example:\n",
    "\n",
    "Given linked list: 1->2->3->4->5, and n = 2.\n",
    "\n",
    "After removing the second node from the end, the linked list becomes 1->2->3->5."
   ]
  },
  {
   "cell_type": "markdown",
   "metadata": {},
   "source": [
    "<font color='dd0000'>\n",
    "\n",
    "**思路：**\n",
    "\n",
    "目标是找到倒数第N个结点的前一个结点，这样才能进行删除。最初的想法是遍历的同时把下标和结点存入一个哈希表，遍历完后用最后一位-n-1得到。\n",
    "\n",
    "用*快慢双指针*可以不必用哈希表，先让快指针先走n步，再两个指针同时出发，当快指针到最后一个结点时慢指针恰好到前一个结点\n",
    "\n",
    "</font>"
   ]
  },
  {
   "cell_type": "code",
   "execution_count": 7,
   "metadata": {},
   "outputs": [],
   "source": [
    "public ListNode removeNthFromEnd(ListNode head, int n) {\n",
    "    if(head == null)\n",
    "        return null;\n",
    "    ListNode dummy = new ListNode(-1);\n",
    "    dummy.next = head;\n",
    "    ListNode slow = dummy, fast = dummy;  // 快慢双指针\n",
    "    for(int i = 1; i <= n; i++)   // 让快指针先走n步\n",
    "        fast = fast.next;\n",
    "    while(fast.next != null){     // 再让两个指针同时往前走,当fast走到链表尾时,slow正好在待删除结点的前一个\n",
    "        slow = slow.next;\n",
    "        fast = fast.next;\n",
    "    }\n",
    "    slow.next = slow.next.next;\n",
    "    return dummy.next;\n",
    "}"
   ]
  },
  {
   "cell_type": "markdown",
   "metadata": {},
   "source": [
    "## [24. Swap Nodes in Pairs (medium)](https://leetcode-cn.com/problems/swap-nodes-in-pairs/)"
   ]
  },
  {
   "cell_type": "markdown",
   "metadata": {},
   "source": [
    "Given a linked list, swap every two adjacent nodes and return its head.\n",
    "\n",
    "You may not modify the values in the list's nodes, only nodes itself may be changed.\n",
    "\n",
    " \n",
    "\n",
    "Example:\n",
    "\n",
    "Given 1->2->3->4, you should return the list as 2->1->4->3."
   ]
  },
  {
   "cell_type": "markdown",
   "metadata": {},
   "source": [
    "<font color='dd0000'>\n",
    "\n",
    "**思路：**\n",
    "\n",
    "交换两个结点，需要对三个结点操作，要交换的两个和这对的前一个。所以使用三个指针，因为对head而言没有前一个结点，所以设置dummy node。注意，当前驱节点的后面没有结点或只有一个结点时就不要交换，循环结束。\n",
    "</font>"
   ]
  },
  {
   "cell_type": "code",
   "execution_count": 8,
   "metadata": {},
   "outputs": [],
   "source": [
    "public ListNode swapPairs(ListNode head) {\n",
    "    ListNode dummy = new ListNode(-1);\n",
    "    dummy.next = head;\n",
    "    ListNode cur = dummy;\n",
    "    while(cur.next != null && cur.next.next != null){\n",
    "        ListNode i = cur.next;\n",
    "        ListNode j = cur.next.next;\n",
    "        i.next = j.next;\n",
    "        j.next = i;\n",
    "        cur.next = j;\n",
    "        cur = cur.next.next;  // 前驱结点每次前进两步\n",
    "    }\n",
    "    return dummy.next;\n",
    "}"
   ]
  },
  {
   "cell_type": "markdown",
   "metadata": {},
   "source": [
    "⭐<font color='dd0000'>**递归解法**</font>"
   ]
  },
  {
   "cell_type": "markdown",
   "metadata": {},
   "source": [
    "<font color='dd0000'>\n",
    "\n",
    "**思路：**\n",
    "\n",
    "1.找终止条件：当head为空或head后面没有结点了自然不需要交换，返回head；\n",
    "\n",
    "2.找返回值：返回值应是交换完后的一个子链表的头结点；\n",
    "\n",
    "3.每一步做什么：应对当前这对结点(head和head.next)的后一个结点递归，且head连接这个返回值，head.next连接到head，返回head.next\n",
    "</font>"
   ]
  },
  {
   "cell_type": "code",
   "execution_count": 9,
   "metadata": {},
   "outputs": [],
   "source": [
    "public ListNode swapPairs2(ListNode head) {\n",
    "    if(head == null || head.next == null)\n",
    "        return head;\n",
    "    ListNode next = head.next;\n",
    "    head.next = swapPairs2(next.next);\n",
    "    next.next = head;\n",
    "    return next;\n",
    "}"
   ]
  },
  {
   "cell_type": "markdown",
   "metadata": {},
   "source": [
    "## [234. Palindrome Linked List (easy)](https://leetcode-cn.com/problems/palindrome-linked-list/)"
   ]
  },
  {
   "cell_type": "markdown",
   "metadata": {},
   "source": [
    "Given a singly linked list, determine if it is a palindrome.\n",
    "\n",
    "Example 1:\n",
    "\n",
    "Input: 1->2\n",
    "Output: false\n",
    "\n",
    "Example 2:\n",
    "\n",
    "Input: 1->2->2->1\n",
    "Output: true\n",
    "\n",
    "Follow up:\n",
    "Could you do it in O(n) time and O(1) space?"
   ]
  },
  {
   "cell_type": "markdown",
   "metadata": {},
   "source": [
    "<font color='dd0000'>**快慢指针思想：**一个快指针*fast*一个慢指针*slow*，每次前进时```fast = fast.next.next, slow = slow.next```这样的话，fast指针移动速度就是slow指针的两倍，用来取中点、判断环形链表很有用</font>"
   ]
  },
  {
   "cell_type": "code",
   "execution_count": 4,
   "metadata": {},
   "outputs": [],
   "source": [
    "public boolean isPalindrome(ListNode head){\n",
    "    if(head == null)\n",
    "        return true;\n",
    "    \n",
    "    // 利用快慢指针来确定链表中点:快指针一次走两步，慢指针一次走一步\n",
    "    ListNode slow = head;\n",
    "    ListNode fast = head;\n",
    "    while(fast.next != null && fast.next.next != null){\n",
    "        slow = slow.next;\n",
    "        fast = fast.next.next;\n",
    "    }\n",
    "    // 此时slow指向链表的中点,反转slow后的链表\n",
    "    ListNode cur = slow.next;\n",
    "    while(cur != null && cur.next != null){  // 注意: cur不动\n",
    "        ListNode temp = cur.next;\n",
    "        cur.next = temp.next;\n",
    "        temp.next = slow.next;\n",
    "        slow.next = temp;\n",
    "    }\n",
    "    // 分别从头和slow后进行比较\n",
    "    if(slow != null){\n",
    "        ListNode i = head;\n",
    "        ListNode j = slow.next;\n",
    "        while(j != null){\n",
    "            if(i.val != j.val)\n",
    "                return false;\n",
    "            i = i.next;\n",
    "            j = j.next;\n",
    "        }\n",
    "    }\n",
    "    return true;\n",
    "}"
   ]
  },
  {
   "cell_type": "markdown",
   "metadata": {},
   "source": [
    "<font color='dd0000'>也可以用**栈**做，把链表都压入栈或只把后半部分压入栈</font>"
   ]
  },
  {
   "cell_type": "markdown",
   "metadata": {},
   "source": [
    "## [141. Linked List Cycle (easy)](https://leetcode-cn.com/problems/linked-list-cycle/)"
   ]
  },
  {
   "cell_type": "markdown",
   "metadata": {},
   "source": [
    "Given a linked list, determine if it has a cycle in it."
   ]
  },
  {
   "cell_type": "markdown",
   "metadata": {},
   "source": [
    "<font color='dd0000'>想象两个速度不同的跑步者在环形操场跑步，速度快的一定会在某个时刻追上速度慢的</font>"
   ]
  },
  {
   "cell_type": "code",
   "execution_count": 6,
   "metadata": {},
   "outputs": [],
   "source": [
    "public boolean hasCycle(ListNode head) {\n",
    "    if(head == null)\n",
    "        return false;\n",
    "    \n",
    "    // 快慢指针\n",
    "    ListNode slow = head;\n",
    "    ListNode fast = head;\n",
    "    while(fast.next != null && fast.next.next != null){  // 注意判断条件:因为fast更快所以只需判断fast.next和fast.next.next\n",
    "        slow = slow.next;\n",
    "        fast = fast.next.next;\n",
    "        if(slow.val == fast.val)\n",
    "            return true;\n",
    "    }\n",
    "    return false;\n",
    "}"
   ]
  },
  {
   "cell_type": "markdown",
   "metadata": {},
   "source": [
    "## [142. Linked List Cycle II (medium)](https://leetcode-cn.com/problems/linked-list-cycle-ii/)"
   ]
  },
  {
   "cell_type": "markdown",
   "metadata": {},
   "source": [
    "Given a linked list, return the node where the cycle begins. If there is no cycle, return ```null```."
   ]
  },
  {
   "cell_type": "markdown",
   "metadata": {},
   "source": [
    "<font color='dd0000'>先用快慢指针找到两个指针相交的点，此时再将一个指针放回头节点，开始两个指针同步前进，当再次相遇时，相遇点就是入环点</font>"
   ]
  },
  {
   "cell_type": "code",
   "execution_count": 7,
   "metadata": {},
   "outputs": [],
   "source": [
    "public ListNode detectCycle(ListNode head) {\n",
    "    ListNode slow = head, fast = head;\n",
    "    while(fast != null && fast.next != null){\n",
    "        slow = slow.next;\n",
    "        fast = fast.next.next;\n",
    "        if(slow == fast){  // 第一次相遇后，把快指针放回头节点，两个指针同步前进\n",
    "            fast = head;\n",
    "            while(fast != slow){\n",
    "                slow = slow.next;\n",
    "                fast = fast.next;\n",
    "            }\n",
    "            return fast;\n",
    "        }\n",
    "    }\n",
    "    return null;\n",
    "}"
   ]
  },
  {
   "cell_type": "code",
   "execution_count": 8,
   "metadata": {},
   "outputs": [],
   "source": [
    "// 方法二：用HashSet，当遍历时遇到set里有的节点时，说明遇到了环的入口\n",
    "public ListNode detectCycle2(ListNode head) {\n",
    "    HashSet<ListNode> set = new HashSet<>();\n",
    "    ListNode cur = head;\n",
    "    while(cur != null){\n",
    "        if(set.contains(cur)){\n",
    "            return cur;\n",
    "        }\n",
    "        set.add(cur);\n",
    "        cur = cur.next;\n",
    "    }\n",
    "    return null;\n",
    "}"
   ]
  },
  {
   "cell_type": "markdown",
   "metadata": {},
   "source": [
    "## [725. Split Linked List in Parts (easy)](https://leetcode-cn.com/problems/split-linked-list-in-parts/)"
   ]
  },
  {
   "cell_type": "markdown",
   "metadata": {},
   "source": [
    "Given a (singly) linked list with head node root, write a function to split the linked list into k consecutive linked list \"parts\".\n",
    "\n",
    "The length of each part should be as equal as possible: no two parts should have a size differing by more than 1. This may lead to some parts being null.\n",
    "\n",
    "The parts should be in order of occurrence in the input list, and parts occurring earlier should always have a size greater than or equal parts occurring later.\n",
    "\n",
    "Return a List of ListNode's representing the linked list parts that are formed.\n",
    "\n",
    "Examples 1->2->3->4, k = 5  // 5 equal parts [ [1], [2], [3], [4], null ]"
   ]
  },
  {
   "cell_type": "markdown",
   "metadata": {},
   "source": [
    "<font color='dd0000'>注意点：\n",
    "1. 用for循环求链表长度\n",
    "\n",
    "2. pre和head前后节点的使用\n",
    "\n",
    "3. 三元判断表达式的使用\n",
    "</font>"
   ]
  },
  {
   "cell_type": "code",
   "execution_count": 3,
   "metadata": {},
   "outputs": [],
   "source": [
    "public ListNode[] splitListToParts(ListNode root, int k) {\n",
    "    ListNode[] ans = new ListNode[k];\n",
    "        \n",
    "    int length = 0;\n",
    "    for(ListNode cur = root; cur != null; cur = cur.next)  // 用for循环求链表长度\n",
    "        length++;\n",
    "        \n",
    "    int l = length / k;\n",
    "    int r = length % k;\n",
    "    ListNode head = root;\n",
    "    ListNode pre = null;\n",
    "    for(int i = 0; i < k; i++, r--){  // 一共k个小组\n",
    "        ans[i] = head;\n",
    "        for(int j = 0; j < (l + (r > 0 ? 1 : 0)); j++){  // 每个小组的长度\n",
    "            pre = head;\n",
    "            head = head.next;\n",
    "        }\n",
    "        if(pre != null)\n",
    "            pre.next = null;\n",
    "    }\n",
    "    return ans;\n",
    "}"
   ]
  },
  {
   "cell_type": "markdown",
   "metadata": {},
   "source": [
    "## [328. Odd Even Linked List (medium)](https://leetcode-cn.com/problems/odd-even-linked-list/)"
   ]
  },
  {
   "cell_type": "markdown",
   "metadata": {},
   "source": [
    "Given a singly linked list, group all odd nodes together followed by the even nodes. Please note here we are talking about the node number and not the value in the nodes.\n",
    "\n",
    "You should try to do it in place. The program should run in O(1) space complexity and O(nodes) time complexity.\n",
    "\n",
    "Example 1:\n",
    "\n",
    "Input: 1->2->3->4->5->NULL\n",
    "\n",
    "Output: 1->3->5->2->4->NULL\n",
    "\n",
    "The relative order inside both the even and odd groups should remain as it was in the input.\n",
    "\n",
    "The first node is considered odd, the second node even and so on ..."
   ]
  },
  {
   "cell_type": "markdown",
   "metadata": {},
   "source": [
    "<font color='dd0000'>**思路：**将链表拆成奇偶两个链表，再把奇链表的尾和偶链表的头连接起来。先evenHead保存偶链表的头，再分别用奇、偶两个指针一遍遍历一遍连接，最后合在一起。</font>"
   ]
  },
  {
   "cell_type": "code",
   "execution_count": 5,
   "metadata": {},
   "outputs": [],
   "source": [
    "public ListNode oddEvenList(ListNode head){\n",
    "    if(head == null){\n",
    "        return null;\n",
    "    }\n",
    "    ListNode odd = head;\n",
    "    ListNode evenHead = head.next;\n",
    "    ListNode even = evenHead;\n",
    "    while(even != null && even.next != null){\n",
    "        odd.next = even.next;  // 奇数尾连接偶数尾的下一个\n",
    "        odd = odd.next;\n",
    "        even.next = odd.next;  // 偶数尾连接奇数尾的下一个\n",
    "        even = even.next;\n",
    "    }\n",
    "    odd.next = evenHead;  // 将奇链表和偶链表连接\n",
    "    return head;\n",
    "}"
   ]
  },
  {
   "cell_type": "markdown",
   "metadata": {},
   "source": [
    "## [86. Partition List (medium)](https://leetcode-cn.com/problems/partition-list/)"
   ]
  },
  {
   "cell_type": "markdown",
   "metadata": {},
   "source": [
    "Given a linked list and a value x, partition it such that all nodes less than x come before nodes greater than or equal to x.\n",
    "\n",
    "You should preserve the original relative order of the nodes in each of the two partitions."
   ]
  },
  {
   "cell_type": "code",
   "execution_count": 2,
   "metadata": {},
   "outputs": [],
   "source": [
    "public ListNode partition(ListNode head, int x) {\n",
    "    ListNode smallHead = new ListNode(-1);\n",
    "    ListNode small = smallHead;\n",
    "    ListNode bigHead = new ListNode(-1);\n",
    "    ListNode big = bigHead;\n",
    "    ListNode cur = head;\n",
    "    while(cur != null){\n",
    "        ListNode temp = cur.next;\n",
    "        cur.next = null;\n",
    "        if(cur.val < x){\n",
    "            small.next = cur;\n",
    "            small = small.next;\n",
    "        } else {\n",
    "            big.next = cur;\n",
    "            big = big.next;\n",
    "        }\n",
    "        cur = temp;\n",
    "    }\n",
    "    small.next = bigHead.next;\n",
    "    return smallHead.next;\n",
    "}"
   ]
  },
  {
   "cell_type": "markdown",
   "metadata": {},
   "source": [
    "## [138. Copy List with Random Pointer (medium)](https://leetcode-cn.com/problems/copy-list-with-random-pointer/)"
   ]
  },
  {
   "cell_type": "markdown",
   "metadata": {},
   "source": [
    "A linked list is given such that each node contains an additional random pointer which could point to any node in the list or null.\n",
    "\n",
    "Return a ```deep copy``` of the list."
   ]
  },
  {
   "cell_type": "code",
   "execution_count": 5,
   "metadata": {},
   "outputs": [],
   "source": [
    "class Node {\n",
    "    int val;\n",
    "    Node next;\n",
    "    Node random;\n",
    "\n",
    "    public Node(int val) {\n",
    "        this.val = val;\n",
    "        this.next = null;\n",
    "        this.random = null;\n",
    "    }\n",
    "}"
   ]
  },
  {
   "cell_type": "code",
   "execution_count": 6,
   "metadata": {},
   "outputs": [],
   "source": [
    "// 方法一：哈希表，存储对应节点的复制节点\n",
    "\n",
    "public Node copyRandomList(Node head) {\n",
    "    HashMap<Node, Node> map = new HashMap<>();\n",
    "    Node cur = head;\n",
    "    while(cur != null){\n",
    "        map.put(cur, new Node(cur.val));\n",
    "        cur = cur.next;\n",
    "    }\n",
    "    cur = head;\n",
    "    Node dummy = new Node(-1);\n",
    "    Node tail = dummy;\n",
    "    while(cur != null){\n",
    "        tail.next = map.get(cur);\n",
    "        tail = tail.next;\n",
    "        tail.random = map.get(cur.random);\n",
    "        cur = cur.next;\n",
    "    }\n",
    "    return dummy.next;\n",
    "}"
   ]
  },
  {
   "cell_type": "code",
   "execution_count": null,
   "metadata": {},
   "outputs": [],
   "source": [
    "// 方法二：将节点复制，插到原链表中间，在分离\n",
    "\n",
    " public Node copyRandomList(Node head) {\n",
    "    if(head == null) return null;\n",
    "        \n",
    "    //1.从左到右遍历链表，复制每个结点，并把它插在当前结点和下一个结点之间\n",
    "    Node cur = head;\n",
    "    Node copy = null;\n",
    "    while(cur != null){\n",
    "        copy = new Node(cur.val);\n",
    "        copy.next = cur.next;\n",
    "        cur.next = copy;\n",
    "        cur = cur.next.next;\n",
    "    }\n",
    "    //2.再从左至右遍历链表，设置每个复制节点的random值\n",
    "    cur = head;\n",
    "    while(cur != null){\n",
    "        copy = cur.next;\n",
    "        Node rand = cur.random;\n",
    "        copy.random = rand == null ? null : rand.next; //每个复制结点在原结点后面，所以复制节点的random值就在原节点random值的后面\n",
    "        cur = cur.next.next;\n",
    "    }\n",
    "    //3.分离出复制链表(保持原链表不修改)\n",
    "    cur = head;\n",
    "    Node copyHead = head.next;\n",
    "    while(cur != null){\n",
    "        Node temp = cur.next.next;\n",
    "        copy = cur.next;\n",
    "        cur.next = temp;\n",
    "        copy.next = temp == null ? null : temp.next;\n",
    "        cur = cur.next;\n",
    "    }\n",
    "    return copyHead;\n",
    "}"
   ]
  },
  {
   "cell_type": "markdown",
   "metadata": {},
   "source": [
    "## [203. Remove Linked List Elements(easy)](https://leetcode-cn.com/problems/remove-linked-list-elements/)"
   ]
  },
  {
   "cell_type": "markdown",
   "metadata": {},
   "source": [
    "Remove all elements from a linked list of integers that have value ***val***."
   ]
  },
  {
   "cell_type": "code",
   "execution_count": 9,
   "metadata": {},
   "outputs": [],
   "source": [
    "// 方法一：遍历\n",
    "public ListNode removeElements(ListNode head, int val) {\n",
    "    ListNode dummy = new ListNode(-1);\n",
    "    dummy.next = head;\n",
    "    ListNode pre = dummy, cur = head;\n",
    "    while(cur != null){\n",
    "        if(cur.val == val){\n",
    "            pre.next = cur.next;\n",
    "        }\n",
    "        else{\n",
    "            pre = cur;\n",
    "        }\n",
    "        cur = cur.next;\n",
    "    }\n",
    "    return dummy.next;\n",
    "}\n",
    "\n",
    "//方法二：递归\n",
    "public ListNode removeElements2(ListNode head, int val) {\n",
    "    if(head == null){\n",
    "        return null;\n",
    "    }\n",
    "    head.next = removeElements2(head.next, val);\n",
    "    return head.val == val ? head.next : head;\n",
    "}"
   ]
  },
  {
   "cell_type": "markdown",
   "metadata": {},
   "source": [
    "## [237. Delete Node in a Linked List (easy)](https://leetcode-cn.com/problems/delete-node-in-a-linked-list/)"
   ]
  },
  {
   "cell_type": "markdown",
   "metadata": {},
   "source": [
    "Write a function to delete a node (except the tail) in a singly linked list, given only access to that node."
   ]
  },
  {
   "cell_type": "markdown",
   "metadata": {},
   "source": [
    "<font color='dd0000'>脑筋急转弯</font>"
   ]
  },
  {
   "cell_type": "code",
   "execution_count": 10,
   "metadata": {},
   "outputs": [],
   "source": [
    "public void deleteNode(ListNode node) {\n",
    "    node.val = node.next.val;\n",
    "    node.next = node.next.next;\n",
    "}"
   ]
  },
  {
   "cell_type": "markdown",
   "metadata": {},
   "source": [
    "## [25. Reverse Nodes in k-Group (hard)](https://leetcode-cn.com/problems/reverse-nodes-in-k-group/)"
   ]
  },
  {
   "cell_type": "markdown",
   "metadata": {},
   "source": [
    "Given a linked list, reverse the nodes of a linked list *k* at a time and return its modified list.\n",
    "\n",
    "*k* is a positive integer and is less than or equal to the length of the linked list. If the number of nodes is not a multiple of *k* then left-out nodes in the end should remain as it is."
   ]
  },
  {
   "cell_type": "code",
   "execution_count": 12,
   "metadata": {},
   "outputs": [],
   "source": [
    "// 方法一：遍历调整\n",
    "public ListNode reverseKGroup(ListNode head, int k) {\n",
    "    if(head == null || k < 0){\n",
    "        return null;\n",
    "    }\n",
    "\n",
    "    int len = 0;\n",
    "    for(ListNode i = head; i != null; i = i.next) len++;\n",
    "    ListNode dummy = new ListNode(-1);\n",
    "    dummy.next = head;\n",
    "    ListNode pre = dummy, cur = head;\n",
    "    while(len >= k){\n",
    "        for(int i = 1; i < k; i++){\n",
    "            ListNode temp = cur.next;\n",
    "            cur.next = temp.next;\n",
    "            temp.next = pre.next;\n",
    "            pre.next = temp;\n",
    "        }\n",
    "        pre = cur;\n",
    "        cur = cur.next;\n",
    "        len -= k;\n",
    "    }\n",
    "    return dummy.next;\n",
    "}\n",
    "\n",
    "// 方法二：用递归代替循环\n",
    "public ListNode reverseKGroup2(ListNode head, int k) {\n",
    "    ListNode pre = new ListNode(-1);\n",
    "    pre.next = head;\n",
    "    int count = 0;\n",
    "    ListNode cur = head;\n",
    "    while(cur != null && count < k){ // 先找到k个节点\n",
    "        cur = cur.next;\n",
    "        count++;\n",
    "    }\n",
    "    if(count == k){ // 足够k个，翻转\n",
    "        cur = head;\n",
    "        for(int i = 1; i < k; i++){\n",
    "            ListNode temp = cur.next;\n",
    "            cur.next = temp.next;\n",
    "            temp.next = pre.next;\n",
    "            pre.next = temp;\n",
    "        }\n",
    "        cur.next = reverseKGroup(cur.next, k); // 递归\n",
    "        return pre.next;\n",
    "    } \n",
    "    else{ // 不足k个，直接返回\n",
    "        return head;\n",
    "    }\n",
    "}"
   ]
  },
  {
   "cell_type": "code",
   "execution_count": null,
   "metadata": {},
   "outputs": [],
   "source": [
    "// 方法三：用栈\n",
    "\n",
    "public ListNode reverseKGroup(ListNode head, int k) {\n",
    "    if(head == null){\n",
    "        return null;\n",
    "    }\n",
    "    // 依次入栈，到达k个出栈连接\n",
    "    Stack<ListNode> s = new Stack<>();\n",
    "    ListNode dummy = new ListNode(-1);\n",
    "    ListNode tail = dummy;\n",
    "    ListNode cur = head;\n",
    "    while(cur != null){\n",
    "        ListNode temp = cur.next;\n",
    "        s.push(cur);  // 先压栈，避免k==n不进行翻转的情况\n",
    "        if(s.size() == k){\n",
    "            while(!s.isEmpty()){\n",
    "                tail.next = s.pop();\n",
    "                tail = tail.next;\n",
    "            }\n",
    "        } \n",
    "        cur = temp;\n",
    "    }\n",
    "    tail.next = null;\n",
    "    while(!s.isEmpty()){ // 栈中剩下的节点不足k个，按原顺序连接\n",
    "        ListNode p = s.pop();\n",
    "        p.next = tail.next;\n",
    "        tail.next = p;\n",
    "    }   \n",
    "    return dummy.next;\n",
    "}"
   ]
  },
  {
   "cell_type": "markdown",
   "metadata": {},
   "source": [
    "## [23. Merge k Sorted Lists (hard)](https://leetcode-cn.com/problems/merge-k-sorted-lists/)"
   ]
  },
  {
   "cell_type": "markdown",
   "metadata": {},
   "source": [
    "Merge k sorted linked lists and return it as one sorted list. Analyze and describe its complexity."
   ]
  },
  {
   "cell_type": "markdown",
   "metadata": {},
   "source": [
    "<font color='dd0000'>\n",
    "    \n",
    "方法1：TreeMap\n",
    "\n",
    "方法2：优先队列\n",
    "\n",
    "方法3：分治\n",
    "\n",
    "时间复杂度均为$O(nlog(n))$。分治法无需额外数据结构，会更快一些\n",
    "\n",
    "</font>"
   ]
  },
  {
   "cell_type": "code",
   "execution_count": null,
   "metadata": {},
   "outputs": [],
   "source": [
    "// TreeMap 额外花费创建节点的时间（不好）\n",
    "\n",
    "public ListNode mergeKLists(ListNode[] lists) {\n",
    "    Map<Integer, Integer> map = new TreeMap<>();\n",
    "    for(ListNode node : lists){\n",
    "        for(ListNode i = node; i != null; i = i.next){\n",
    "            map.put(i.val, map.getOrDefault(i.val, 0) + 1); // 按照每个节点值的大小关系插入TreeMap\n",
    "        }\n",
    "    }\n",
    "    ListNode head = new ListNode(-1);\n",
    "    ListNode tail = head;\n",
    "    for(Map.Entry<Integer, Integer> entry : map.entrySet()){\n",
    "        int count = entry.getValue();\n",
    "        int num = entry.getKey();\n",
    "        while(count-- > 0){\n",
    "            tail.next = new ListNode(num);\n",
    "            tail = tail.next;\n",
    "        }\n",
    "    }\n",
    "    return head.next;\n",
    "}\n",
    "\n",
    "// 优先队列 可直接将节点插入队列中\n",
    "\n",
    "public ListNode mergeKLists(ListNode[] lists) {\n",
    "    Queue<ListNode> pq = new PriorityQueue<>(new Comparator<ListNode>(){\n",
    "        public int compare(ListNode n1, ListNode n2){\n",
    "            return n1.val - n2.val;\n",
    "        }\n",
    "    });\n",
    "    for(ListNode head : lists){  // 按头节点的大小 整个链表入队\n",
    "        pq.offer(head);\n",
    "    }\n",
    "    ListNode dummy = new ListNode(-1);\n",
    "    ListNode tail = dummy;\n",
    "    while(!pq.isEmpty()){\n",
    "        ListNode cur = pq.poll();\n",
    "        tail.next = cur;\n",
    "        tail = cur;\n",
    "        if(cur.next != null){   // 把当前节点的下一个节点再加入优先队列中，最后一个连接的节点一定是最大的，即next为空\n",
    "            pq.offer(cur.next);\n",
    "        }\n",
    "    }\n",
    "    return dummy.next;\n",
    "}\n",
    "\n",
    "// 分治\n",
    "\n",
    "public ListNode mergeKLists(ListNode[] lists) {\n",
    "    if(lists.length < 1) return null;\n",
    "    return split(lists, 0, lists.length - 1);\n",
    "}\n",
    "\n",
    "private ListNode split(ListNode[] lists, int left, int right){\n",
    "    if(left == right){\n",
    "        return lists[left];\n",
    "    }\n",
    "    int mid = left + (right - left) / 2;\n",
    "    ListNode l = split(lists, left, mid);\n",
    "    ListNode r = split(lists, mid + 1, right);\n",
    "    return merge(l, r);\n",
    "}\n",
    "\n",
    "private ListNode merge(ListNode l, ListNode r){\n",
    "    ListNode i = l, j = r;\n",
    "    ListNode dummy = new ListNode(-1);\n",
    "    ListNode tail = dummy;\n",
    "    while(i != null && j != null){\n",
    "        if(i.val <= j.val){\n",
    "            tail.next = i;\n",
    "            i = i.next;\n",
    "            tail = tail.next;\n",
    "        } else {\n",
    "            tail.next = j;\n",
    "            j = j.next;\n",
    "            tail = tail.next;\n",
    "        }\n",
    "    }\n",
    "    if(i != null){\n",
    "        tail.next = i;\n",
    "    }\n",
    "    if(j != null){\n",
    "        tail.next = j;\n",
    "    }\n",
    "    return dummy.next;\n",
    "}"
   ]
  },
  {
   "cell_type": "markdown",
   "metadata": {},
   "source": [
    "## [面试题 02.01. Remove Duplicate Node (easy)](https://leetcode-cn.com/problems/remove-duplicate-node-lcci/)"
   ]
  },
  {
   "cell_type": "markdown",
   "metadata": {},
   "source": [
    "Write code to remove duplicates from an unsorted linked list.\n",
    "\n",
    "**Note:**\n",
    "\n",
    "1. The length of the list is within the range[0, 20000].\n",
    "2. The values of the list elements are within the range [0, 20000]."
   ]
  },
  {
   "cell_type": "code",
   "execution_count": null,
   "metadata": {},
   "outputs": [],
   "source": [
    "public ListNode removeDuplicateNodes(ListNode head) {\n",
    "    int[] counter = new int[20001]; // 给了数据范围，用数组模拟哈希表\n",
    "    ListNode dummy = new ListNode(-1);\n",
    "    dummy.next = head;\n",
    "    ListNode prev = dummy, cur = head; // 删除节点需要用到前一个节点\n",
    "    while(cur != null){\n",
    "        int value = cur.val;\n",
    "        if(counter[value] > 0){ // 如果当前节点的值已经存在了，删去\n",
    "            prev.next = cur.next;\n",
    "        } else {\n",
    "            counter[value]++;\n",
    "            prev = cur;\n",
    "        }\n",
    "        cur = cur.next;\n",
    "    }\n",
    "    return dummy.next;\n",
    "}"
   ]
  },
  {
   "cell_type": "markdown",
   "metadata": {},
   "source": [
    "<a name=\"bottom\"></a>\n",
    "<p style=\"text-align: right\"><a href=\"#top\" style=\"text-decoration: none;color: pink\"><strong>Top</strong></a></p>"
   ]
  }
 ],
 "metadata": {
  "kernelspec": {
   "display_name": "Java",
   "language": "java",
   "name": "java"
  },
  "language_info": {
   "codemirror_mode": "java",
   "file_extension": ".jshell",
   "mimetype": "text/x-java-source",
   "name": "Java",
   "pygments_lexer": "java",
   "version": "12.0.2+10"
  }
 },
 "nbformat": 4,
 "nbformat_minor": 2
}
