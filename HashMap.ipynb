{
 "cells": [
  {
   "cell_type": "markdown",
   "metadata": {},
   "source": [
    "# <center>HashMap"
   ]
  },
  {
   "cell_type": "markdown",
   "metadata": {},
   "source": [
    "## [1. Two Sum (easy)](https://leetcode-cn.com/problems/two-sum/)"
   ]
  },
  {
   "cell_type": "markdown",
   "metadata": {},
   "source": [
    "Given an array of integers, return indices of the two numbers such that they add up to a specific target.\n",
    "\n",
    "You may assume that each input would have exactly one solution, and you may not use the same element twice.\n",
    "\n",
    "Example:\n",
    "\n",
    "Given nums = [2, 7, 11, 15], target = 9,\n",
    "\n",
    "Because nums[0] + nums[1] = 2 + 7 = 9,\n",
    "\n",
    "return [0, 1]."
   ]
  },
  {
   "cell_type": "markdown",
   "metadata": {},
   "source": [
    "<font color='dd0000'>利用哈希表，把已经遍历过的元素的值和下标存入map中，如果target和当前元素的差在map里，则说明是这两个数</font>"
   ]
  },
  {
   "cell_type": "code",
   "execution_count": 2,
   "metadata": {},
   "outputs": [],
   "source": [
    "public int[] twoSum(int[] nums, int target) {\n",
    "    Map<Integer, Integer> map = new HashMap<>();\n",
    "    int diff = 0;\n",
    "    for(int i = 0; i < nums.length; i++){\n",
    "        diff = target - nums[i];\n",
    "        if(map.containsKey(diff)){\n",
    "            return new int[]{map.get(diff), i};\n",
    "        }\n",
    "        map.put(nums[i], i);\n",
    "    }\n",
    "    return new int[]{-1, -1};\n",
    "}"
   ]
  },
  {
   "cell_type": "markdown",
   "metadata": {},
   "source": [
    "## [⭐3. Longest Substring Without Repeating Characters (medium)](https://leetcode-cn.com/problems/longest-substring-without-repeating-characters/)"
   ]
  },
  {
   "cell_type": "markdown",
   "metadata": {},
   "source": [
    "Given a string, find the length of the longest substring without repeating characters."
   ]
  },
  {
   "cell_type": "markdown",
   "metadata": {},
   "source": [
    "<font color='dd0000'>**核心**：\n",
    "    \n",
    "1.ASCII字符集最多只有128个字符，所以可以用一个大小为128的数组来代替哈希表进行记录某个字符是否出现(解法1)或者出现的位置(解法2)；\n",
    "    \n",
    "2.滑动窗口思想，一边遍历一边记录</font>"
   ]
  },
  {
   "cell_type": "code",
   "execution_count": 1,
   "metadata": {},
   "outputs": [],
   "source": [
    "// 解法1：复杂度O(n*128)\n",
    "\n",
    "public int lengthOfLongestSubstring(String s){\n",
    "    int n = s.length();\n",
    "    int ans = 0;\n",
    "    for(int i = 0; i < n; i++){\n",
    "        int[] seen = new int[128]; // 每次重置\n",
    "        int j = i;\n",
    "        while(j < n && seen[s.charAt(j)] == 0)\n",
    "            seen[s.charAt(j++)]++;\n",
    "        ans = Math.max(ans, j - i);\n",
    "    }\n",
    "    return ans;\n",
    "}"
   ]
  },
  {
   "cell_type": "code",
   "execution_count": 1,
   "metadata": {},
   "outputs": [],
   "source": [
    "// 解法2：复杂度O(n)\n",
    "\n",
    "public int lengthOfLongestSubstring2(String s){\n",
    "    int n = s.length();\n",
    "    int[] seen = new int[128]; // 保存每个字符最新出现的位置\n",
    "    for(int k = 0; k < seen.length; k++)\n",
    "        seen[k] = -1;  // 初始值设为-1，表示都还没出现\n",
    "    int ans = 0;\n",
    "    int i = 0;  // i表示不重复子串的开头位置\n",
    "    for(int j = 0; j < n; j++){  // j遍历整个字符串\n",
    "        char c = s.charAt(j);\n",
    "        i = Math.max(i, seen[c] + 1);//seen[s.charAt(j)]表示当前字符上次出现的位置,所以取【这个位置的后一位】和【当前i】大的那个\n",
    "        ans = Math.max(ans, j - i + 1);  // 每次更新结果\n",
    "        seen[c] = j;  // 每次记录新位置\n",
    "    }\n",
    "    return ans;\n",
    "}"
   ]
  },
  {
   "cell_type": "markdown",
   "metadata": {},
   "source": [
    "## [1160. Find Words That Can Be Formed by Characters (easy)](https://leetcode-cn.com/problems/find-words-that-can-be-formed-by-characters/)"
   ]
  },
  {
   "cell_type": "markdown",
   "metadata": {},
   "source": [
    "You are given an array of strings ```words``` and a string ```chars```.\n",
    "\n",
    "A string is good if it can be formed by characters from ```chars``` (each character can only be used once).\n",
    "\n",
    "Return the sum of lengths of all good strings in ```words```.\n",
    "\n",
    "All strings contain lowercase English letters only."
   ]
  },
  {
   "cell_type": "markdown",
   "metadata": {},
   "source": [
    "<font color='dd0000'>因为所有字符都是小写字母，所以可以用长度为26的数组作为哈希表来记录可用的字母的个数</font>"
   ]
  },
  {
   "cell_type": "code",
   "execution_count": 2,
   "metadata": {},
   "outputs": [],
   "source": [
    "// 思路一：对每一个word，用一个字母就从表里减少一个，如果表里没有这个字母了说明不能组成这个word，再看下一个word\n",
    "\n",
    "public int countCharacters(String[] words, String chars) {\n",
    "    int[] counts = new int[26];\n",
    "    for(int i = 0; i < chars.length(); i++){\n",
    "        counts[chars.charAt(i) - 'a']++;\n",
    "    }\n",
    "    \n",
    "    int len = 0;\n",
    "    int res = 0;\n",
    "    for(String word : words){\n",
    "        int[] temp = new int[26];\n",
    "        System.arraycopy(counts, 0, temp, 0, 26); // 每一个word都从一个完整的chars里面的字母找\n",
    "        for(int i = 0; i < word.length(); i++){\n",
    "            if(temp[word.charAt(i) - 'a'] > 0){\n",
    "                len++;\n",
    "                temp[word.charAt(i) - 'a']--;\n",
    "            } else {     // 如果该字母已经用完了，则表示不能组成此word，len置0，跳出循环看下一个word\n",
    "                len = 0;\n",
    "                break;\n",
    "            }\n",
    "        }\n",
    "        res += len;\n",
    "        len = 0;\n",
    "    }\n",
    "    return res;\n",
    "}"
   ]
  },
  {
   "cell_type": "code",
   "execution_count": 4,
   "metadata": {},
   "outputs": [],
   "source": [
    "// 思路二：对每一个word，统计它每个字母的次数，存入一个长为26的数组，再和chars的数组每个位置进行对比\n",
    "\n",
    "public int countCharacters(String[] words, String chars) {\n",
    "    int[] counts = new int[26];\n",
    "    for(int i = 0; i < chars.length(); i++){\n",
    "        counts[chars.charAt(i) - 'a']++;\n",
    "    }\n",
    "    \n",
    "    int res = 0;\n",
    "    boolean isGood = true;\n",
    "    for(String word : words){\n",
    "        int[] temp = new int[26];\n",
    "        for(int i = 0; i < word.length(); i++){\n",
    "            temp[word.charAt(i) - 'a']++;\n",
    "        }\n",
    "        for(int j = 0; j < temp.length; j++){\n",
    "            if(temp[j] > counts[j]){\n",
    "                isGood = false;\n",
    "                break;\n",
    "            }\n",
    "        }\n",
    "        if(isGood) res += word.length();\n",
    "    }\n",
    "    return res;\n",
    "}"
   ]
  },
  {
   "cell_type": "markdown",
   "metadata": {},
   "source": [
    "## [409. Longest Palindrome (easy)](https://leetcode-cn.com/problems/longest-palindrome/)"
   ]
  },
  {
   "cell_type": "markdown",
   "metadata": {},
   "source": [
    "Given a string which consists of lowercase or uppercase letters, find the length of the longest palindromes that can be built with those letters.\n",
    "\n",
    "This is case sensitive, for example ```\"Aa\"``` is not considered a palindrome here."
   ]
  },
  {
   "cell_type": "markdown",
   "metadata": {},
   "source": [
    "<font color='dd0000'>\n",
    "    \n",
    "最长回文串的构成为：所有偶数个数的字母 + 最长的奇数个数的字母。\n",
    "\n",
    "**注意：**不是要把每个字母的所有个数都用上，所以如果有奇数个数的字母，-1成为偶数也可加入回文串\n",
    "\n",
    "最后，再 +1 成为最长回文串（如果全部字母都是偶数个数就不加）\n",
    "\n",
    "</font>"
   ]
  },
  {
   "cell_type": "code",
   "execution_count": 2,
   "metadata": {},
   "outputs": [],
   "source": [
    "public int longestPalindrome(String s) {\n",
    "    int[] map = new int[58]; // 所有大写字母+小写字母可用长【58】的数组来代替哈希表，开头为A\n",
    "    for(int i = 0; i < s.length(); i++){\n",
    "        map[s.charAt(i) - 'A']++;\n",
    "    }\n",
    "    \n",
    "    int res = 0;\n",
    "    boolean haveOdd = false;\n",
    "    for(int i = 0; i < map.length; i++){\n",
    "        if((map[i] & 1) == 0) res += map[i];  // 第i个字母个数为偶数，结果直接加上它的个数\n",
    "        else if((map[i] & 1) == 1) {\n",
    "            res += map[i] - 1;        // 为奇数，加上个数-1\n",
    "            haveOdd = true;          // 同时标记有奇数\n",
    "        }\n",
    "    }\n",
    "    return haveOdd ? res + 1 : res;  // 有奇数的话还要再 +1\n",
    "}\n",
    "\n",
    "// 更简洁的代码：用位运算\n",
    "public int longestPalindrome2(String s) {\n",
    "    int[] map = new int[58]; \n",
    "    for(int i = 0; i < s.length(); i++){\n",
    "        map[s.charAt(i) - 'A']++;\n",
    "    }\n",
    "    \n",
    "    int res = 0;\n",
    "    for(int i = 0; i < map.length; i++){\n",
    "        res += map[i] - (map[i] & 1); // 偶数的话-0，奇数的话-1，省去if判断\n",
    "    }\n",
    "    return res < s.length() ? res + 1 : res;  //如果res的长度小于s的长度，说明存在奇数个数的字母，返回的最长回文串再加1\n",
    "}"
   ]
  },
  {
   "cell_type": "markdown",
   "metadata": {},
   "source": [
    "## [⭐560. Subarray Sum Equals K (medium)](https://leetcode-cn.com/problems/subarray-sum-equals-k/submissions/)"
   ]
  },
  {
   "cell_type": "markdown",
   "metadata": {},
   "source": [
    "Given an array of integers and an integer **k**, you need to find the total number of continuous subarrays whose sum equals to **k**."
   ]
  },
  {
   "cell_type": "markdown",
   "metadata": {},
   "source": [
    "<font color='dd0000'>\n",
    "    \n",
    "**核心思想：【前缀和】**\n",
    "\n",
    "解法一：首先求一个每一位的【前缀和数组】，再两层遍历原数组，用两个指针的前缀和作差，看是否等于**k**。时间复杂度$O(n^2)$\n",
    "\n",
    "解法二：使用哈希表，记录每一个【前缀和出现的次数】，遍历时求到当前位置的前缀和时，与**k**作差，看差值的出现次数。时间复杂度$O(n)$\n",
    "\n",
    "</font>"
   ]
  },
  {
   "cell_type": "code",
   "execution_count": 4,
   "metadata": {},
   "outputs": [],
   "source": [
    "// 解法一：前缀和数组\n",
    "\n",
    "public int subarraySum(int[] nums, int k) {\n",
    "    int n = nums.length;\n",
    "    int[] prefix = new int[n + 1];  // 前缀和数组，prefix[i]表示第0~i-1位的和\n",
    "    for(int i = 1; i < n; i++){\n",
    "        prefix[i] = prefix[i - 1] + nums[i - 1];\n",
    "    }\n",
    "    int res = 0;\n",
    "    for(int i = 0; i < n; i++){\n",
    "        for(int j = i; j < n; j++){\n",
    "            if(prefix[j + 1] - prefix[i] == k){ // 即 从第i位~第j位这个子数组的和为k\n",
    "                res++;\n",
    "            }\n",
    "        }\n",
    "    }\n",
    "    return res;\n",
    "}"
   ]
  },
  {
   "cell_type": "code",
   "execution_count": 6,
   "metadata": {},
   "outputs": [],
   "source": [
    "// 解法二：哈希表\n",
    "\n",
    "public int subarraySum(int[] nums, int k) {\n",
    "    Map<Integer, Integer> map = new HashMap<>();  // key为前缀和，value为出现的次数\n",
    "    map.put(0, 1);  // 初始化：遍历之前，前缀和0出现一次\n",
    "    int sum = 0;\n",
    "    int res = 0;\n",
    "    for(int i = 0; i < num.length; i++){\n",
    "        sum += nums[i];\n",
    "        if(map.containsKey(sum - k)){  // 即：前i位的和为sum，又存在一些j，前j位的和为sum-k，所以这些从j到i的子数组的和都为k\n",
    "            res += map.get(sum - k);\n",
    "        }\n",
    "        map.put(sum, map.getOrDefault(sum, 0) + 1);\n",
    "    }\n",
    "    return res;\n",
    "}"
   ]
  },
  {
   "cell_type": "markdown",
   "metadata": {},
   "source": [
    "## [1248. Count Number of Nice Subarrays (medium)](https://leetcode-cn.com/problems/count-number-of-nice-subarrays/)"
   ]
  },
  {
   "cell_type": "markdown",
   "metadata": {},
   "source": [
    "Given an array of integers ```nums``` and an integer ```k```. A subarray is called nice if there are ```k``` odd numbers on it.\n",
    "\n",
    "Return the number of **nice** sub-arrays."
   ]
  },
  {
   "cell_type": "markdown",
   "metadata": {},
   "source": [
    "<font color='dd0000'>\n",
    "\n",
    "思路一：将数组中的偶数全部转换成0，奇数转换成1，问题就变成了求和为k的子数组个数，和上题一样，可以用哈希表解\n",
    "\n",
    "思路二：统计含有k个奇数的子数组，将它的左右边界分别进行扩散，扩散到有奇数出现为止。设左边扩展的长度为*left*，右边为*right*，那么从这个子数组扩展出来的子数组个数为$1 + left + right + left * right$\n",
    "\n",
    "</font>"
   ]
  },
  {
   "cell_type": "code",
   "execution_count": 8,
   "metadata": {},
   "outputs": [],
   "source": [
    "// 方法一：哈希表\n",
    "\n",
    "public int numberOfSubarrays(int[] nums, int k) {\n",
    "    // 将素原组奇偶数进行转换\n",
    "    for(int i = 0; i < nums.length; i++){\n",
    "        nums[i] = nums[i] & 1;\n",
    "    }\n",
    "    // 题目给出了1 <= nums.length <= 50000，所以可以用数组代替哈希表\n",
    "    int[] map = new int[50000];  // 极端情况是全为1，最大前缀和为50000，所以长度设为50000\n",
    "    map[0] = 1;\n",
    "    int sum = 0;\n",
    "    int res = 0;\n",
    "    for(int num : nums){\n",
    "        sum += num;\n",
    "        if(map[sum - k] > 0){\n",
    "            res += map[sum - k];\n",
    "        }\n",
    "        map[sum]++;\n",
    "    }\n",
    "    return res;\n",
    "}"
   ]
  },
  {
   "cell_type": "code",
   "execution_count": 9,
   "metadata": {},
   "outputs": [],
   "source": [
    "// 方法二：用一个数组记录每个奇数的下标，每次以k个奇数作为一个窗口。左边扩展到上一个奇数下标为止，右边扩展到下一个奇数下标为止\n",
    "//         注意处理边界情况\n",
    "\n",
    "public int numberOfSubarrays(int[] nums, int k) {\n",
    "    int n = nums.length;\n",
    "    int[] oddIndex = new int[n];  // 极端情况全部是奇数，长度设为数组长度\n",
    "    int index = 0;\n",
    "    for(int i = 0; i < n; i++){\n",
    "        if((nums[i] & 1) == 1){\n",
    "            oddIndex[index++] = i;\n",
    "        }\n",
    "    }\n",
    "    int res = 0;\n",
    "    // 此时index的值为最后一个奇数下标+1\n",
    "    for(int t = 0; t <= index - k; t++){  // 遍历所有奇数\n",
    "        int i = oddIndex[t];          // i: 窗口左边界\n",
    "        int j = oddIndex[t + k - 1]; //  j: 窗口右边界，窗口中有k个奇数\n",
    "        int left = t == 0 ? i : i - oddIndex[t-1] - 1;  // left: i到上一个奇数为止的长度。当i是第一个奇数时，最左扩展到数组开头\n",
    "        int right = t == index - k ? n - 1 - j : oddIndex[t + k] - j - 1; // right: j到下一个奇数为止的长度。当j是最后一个时，最远扩展到数组结尾\n",
    "        res += 1 + left + right + left * right;\n",
    "    }\n",
    "    /*\n",
    "     for(int i = 0, j = i + k - 1; i < index && j < index; i++, j++){\n",
    "        int lc = i == 0 ? oddIndex[i] : oddIndex[i] - oddIndex[i - 1] - 1;\n",
    "        int rc = j == index - 1 ? nums.length - 1 - oddIndex[j] : oddIndex[j + 1] - oddIndex[j] - 1;\n",
    "        res += lc + rc + lc * rc + 1;\n",
    "    }\n",
    "    */\n",
    "    return res;\n",
    "}"
   ]
  },
  {
   "cell_type": "markdown",
   "metadata": {},
   "source": [
    "## [⭐1371. Find the Longest Substring Containing Vowels in Even Counts (medium)](https://leetcode-cn.com/problems/find-the-longest-substring-containing-vowels-in-even-counts/)"
   ]
  },
  {
   "cell_type": "markdown",
   "metadata": {},
   "source": [
    "Given the string ```s```, return the size of the longest substring containing each vowel an even number of times. That is, 'a', 'e', 'i', 'o', and 'u' must appear an even number of times."
   ]
  },
  {
   "cell_type": "markdown",
   "metadata": {},
   "source": [
    "<font color='dd0000'>\n",
    "    \n",
    "**思想：**\n",
    "\n",
    "1. \"前缀和\"思想，0 ~ i 的状态与 0 ~ j 的状态\"作差\"可以得到一个符合条件的 i ~ j 的子串\n",
    "\n",
    "2. \"前缀和\" 配合哈希表使用，用来记录状态\n",
    "\n",
    "3. 用 0 和 1 表示【偶数次数】和【奇数次数】，不需要统计实际出现了多少次\n",
    "</font>"
   ]
  },
  {
   "cell_type": "code",
   "execution_count": 1,
   "metadata": {},
   "outputs": [],
   "source": [
    "public int findTheLongestSubstring(String s) {\n",
    "    char[] vowels = \"aeiou\".toCharArray();  // 作为一个字典，用来后续判断某个字符是否是元音\n",
    "    \n",
    "    /* 用5个位【00000】来表示一个0~i的前缀中每个元音出现的奇偶次数\n",
    "       一共32种状态，所以用一个32维的数组来作为哈希表\n",
    "       哈希表记录状态和这个状态【第一次出现的下标】，因为要求最长的子串\n",
    "       初始状态为00000，表示每个元音都出现0次，下标表示为-1\n",
    "       当某个状态再次出现时，说明从i~j的这一部分子串中元音字母出现了偶数次，对一个状态位，再次出现偶数次相当于复原\n",
    "    */\n",
    "    int[] map = new int[32]; // 一共32种状态\n",
    "    Arrays.fill(map, Integer.MAX_VALUE); // 用MAX_VALUE标记该状态未出现\n",
    "    int state = 0;  \n",
    "    map[0] = -1;\n",
    "    int res = 0;\n",
    "    for(int i = 0; i < s.length(); i++){\n",
    "        char c = s.charAt(i); // 当前字符\n",
    "        for(int j = 0; j < 5; j++){ // 检查是不是元音\n",
    "            if(c == vowels[j]){\n",
    "                state ^= (1 << j);  // 某个状态位出现，相当于对那个状态位取反，即异或1\n",
    "                break;\n",
    "            }\n",
    "        }\n",
    "        if(map[state] < Integer.MAX_VALUE){  // 该状态出现过，计算子串长度\n",
    "            res = Math.max(res, i - map[state]);\n",
    "        } else {\n",
    "            map[state] = i; // 该状态未出现过，记录下标\n",
    "        }\n",
    "        \n",
    "    }\n",
    "    return res;\n",
    "}"
   ]
  },
  {
   "cell_type": "markdown",
   "metadata": {},
   "source": [
    "## [974. Subarray Sums Divisible by K (medium)](https://leetcode-cn.com/problems/subarray-sums-divisible-by-k/)"
   ]
  },
  {
   "cell_type": "markdown",
   "metadata": {},
   "source": [
    "Given an array ```A``` of integers, return the number of (contiguous, non-empty) subarrays that have a sum divisible by ```K```."
   ]
  },
  {
   "cell_type": "markdown",
   "metadata": {},
   "source": [
    "<font color='dd0000'>\n",
    "\n",
    "**重点：**\n",
    "\n",
    "1.连续子数组和：**前缀和**\n",
    "\n",
    "2.两个前缀和之差是否整除：**同余定理**\n",
    "\n",
    "**判断子数组的和能否被 $K$ 整除就等价于判断 $(Prefix[j] - Prefix[i]) \\bmod K == 0$，根据同余定理，只要 $Prefix[j] \\bmod K == Prefix[i] \\bmod K$，就可以保证上面的等式成立。**\n",
    "\n",
    "所以用哈希表记录每个前缀和$mod K$结果的次数，对当前前缀和，取模后如果在表中有记录，就加上这个次数。\n",
    "\n",
    "**注意 % 是取余操作，前缀和为负数的话结果为负数，应修正为正数，才能正确运用上述定理**\n",
    "\n",
    "</font>"
   ]
  },
  {
   "cell_type": "code",
   "execution_count": 1,
   "metadata": {},
   "outputs": [],
   "source": [
    "public int subarraysDivByK(int[] A, int K) {\n",
    "    int[] map = new int[K]; // 取模的范围为0 ~ K-1，所以用大小为K的数组表示哈希表\n",
    "    map[0] = 1;  // 遍历前，前缀和为0的情况出现一次\n",
    "    int res = 0;\n",
    "    int sum = 0;\n",
    "    for(int a : A){\n",
    "        sum += a;\n",
    "        int mod = sum % K;    // 取余，如果为负修正为正数\n",
    "        if(mod < 0){\n",
    "            mod += K;\n",
    "        }\n",
    "        res += map[mod]; // 加上同余的前缀和的个数\n",
    "        map[mod]++;\n",
    "    }\n",
    "    return res;\n",
    "}"
   ]
  },
  {
   "cell_type": "markdown",
   "metadata": {},
   "source": [
    "## [202. 快乐数 (easy)](https://leetcode-cn.com/problems/happy-number/comments/)"
   ]
  },
  {
   "cell_type": "markdown",
   "metadata": {},
   "source": [
    "编写一个算法来判断一个数 n 是不是快乐数。\n",
    "\n",
    "「快乐数」定义为：对于一个正整数，每一次将该数替换为它每个位置上的数字的平方和，然后重复这个过程直到这个数变为 1，也可能是 **无限循环** 但始终变不到 1。如果 **可以变为**  1，那么这个数就是快乐数。\n",
    "\n",
    "如果 n 是快乐数就返回 ```True``` ；不是，则返回 ```False``` 。"
   ]
  },
  {
   "cell_type": "markdown",
   "metadata": {},
   "source": [
    "<font color='dd0000'>可通过找规律发现：不是快乐数的数称为不快乐数（unhappy number），所有不快乐数的数位平方和计算，最後都会进入 4 → 16 → 37 → 58 → 89 → 145 → 42 → 20 → 4 的循环中。</font>\n",
    "\n",
    "<font color='dd0000'>思路一：不断计算数位平方和，用```set```记录，如果再次出现同样的数，说明进入了循环，返回```false```</font>\n",
    "\n",
    "<font color='dd0000'>思路二：判断循环的问题，用**快慢指针**</font>"
   ]
  },
  {
   "cell_type": "code",
   "execution_count": 1,
   "metadata": {},
   "outputs": [],
   "source": [
    "// 方法一：HashSet\n",
    "public boolean isHappy(int n) {\n",
    "    Set<Integer> set = new HashSet<>();\n",
    "    while(n != 1){\n",
    "        n = helper(n);\n",
    "        if(set.contains(n)){\n",
    "            return false;\n",
    "        }\n",
    "        set.add(n);\n",
    "    }\n",
    "    return true;\n",
    "}\n",
    "\n",
    "private int helper(int n){\n",
    "    int res = 0;\n",
    "    while(n > 0){\n",
    "        int digit = n % 10;\n",
    "        n /= 10;\n",
    "        res += digit * digit;\n",
    "    }\n",
    "    return res;\n",
    "}"
   ]
  },
  {
   "cell_type": "code",
   "execution_count": 2,
   "metadata": {},
   "outputs": [],
   "source": [
    "// 方法二：快慢指针\n",
    "//         用一个慢指针记录一次数位平方和计算，快指针记录两次数位平方和计算\n",
    "//         当快指针和慢指针相等时，如果值为1，说明为true；如果不为1，说明有循环，结果为false\n",
    "\n",
    "public boolean isHappy(int n) {\n",
    "    int fast = n, slow = n;\n",
    "    do{\n",
    "        slow = helper(slow);\n",
    "        fast = helper(fast);\n",
    "        fast = helper(fast);\n",
    "    } while(fast != slow);\n",
    "    return fast == 1;\n",
    "}\n",
    "\n",
    "private int helper(int n){\n",
    "    int res = 0;\n",
    "    while(n > 0){\n",
    "        int digit = n % 10;\n",
    "        n /= 10;\n",
    "        res += digit * digit;\n",
    "    }\n",
    "    return res;\n",
    "}"
   ]
  },
  {
   "cell_type": "markdown",
   "metadata": {},
   "source": [
    "## [128. Longest Consecutive Sequence (hard)](https://leetcode-cn.com/problems/longest-consecutive-sequence/)"
   ]
  },
  {
   "cell_type": "markdown",
   "metadata": {},
   "source": [
    "Given an unsorted array of integers, find the length of the longest consecutive elements sequence.\n",
    "\n",
    "Your algorithm should run in O(n) complexity."
   ]
  },
  {
   "cell_type": "code",
   "execution_count": 1,
   "metadata": {},
   "outputs": [],
   "source": [
    "// 方法一：用HashMap，key保存数字值，value保存以这个数字为端点(起点或终点)的连续序列长度\n",
    "//         遍历数组，每次对数字左右两边的长度进行计算，再更新端点长度\n",
    "\n",
    "public int longestConsecutive(int[] nums) {\n",
    "    HashMap<Integer, Integer> map = new HashMap<>();\n",
    "    int res = 0;\n",
    "    for(int num : nums){\n",
    "        if(map.containsKey(num)){ // 跳过重复的数字\n",
    "            continue;\n",
    "        }\n",
    "        int left = 0, right = 0; // 当前数字左右的连续长度\n",
    "        if(map.containsKey(num + 1)){\n",
    "            right = map.get(num + 1);\n",
    "        }\n",
    "        if(map.containsKey(num - 1)){\n",
    "            left = map.get(num - 1);\n",
    "        }\n",
    "        int len = left + right + 1;  // 当前数字所在的连续序列总长度\n",
    "        res = Math.max(res, len);\n",
    "        // 更新端点的长度\n",
    "        map.put(num - left, len);\n",
    "        map.put(num + right, len);\n",
    "    }\n",
    "    return res;\n",
    "}"
   ]
  },
  {
   "cell_type": "code",
   "execution_count": null,
   "metadata": {},
   "outputs": [],
   "source": [
    "// 方法二：用HashSet，加入全部数字，起到去重的作用\n",
    "//         再遍历数组，对能作为开头的数字(即set中不含num - 1)，统计set里有多少以它开始连续的数\n",
    "\n",
    "public int longestConsecutive(int[] nums) {\n",
    "    Set<Integer> set = new HashSet<>();\n",
    "    for(int num : nums){\n",
    "        set.add(num);\n",
    "    }\n",
    "    int res = 0;\n",
    "    for(int num : nums){\n",
    "        if(!set.contains(num - 1)){ // 说明num是一个序列的开头值\n",
    "            int len = 0;\n",
    "            while(set.contains(num)){ // 每次+1，看最多有多少个连续的数\n",
    "                len++;\n",
    "                num++;\n",
    "            }\n",
    "            res = Math.max(res, len);\n",
    "        }\n",
    "    }\n",
    "    return res;\n",
    "}"
   ]
  },
  {
   "cell_type": "markdown",
   "metadata": {},
   "source": [
    "## [41. First Missing Positive (hard)](https://leetcode-cn.com/problems/first-missing-positive/)"
   ]
  },
  {
   "cell_type": "markdown",
   "metadata": {},
   "source": [
    "Given an unsorted integer array, find the smallest missing positive integer.\n",
    "\n",
    "**Note:**\n",
    "\n",
    "Your algorithm should run in O(n) time and uses constant extra space."
   ]
  },
  {
   "cell_type": "markdown",
   "metadata": {},
   "source": [
    "<font color='dd0000'>时间复杂度 $O(n)$ 且不能使用额外空间，只能做原地修改。因为有【正整数】这样的条件，所以可以做一个映射，将```nums[i]```通过交换，放在第```nums[i]-1```的位置上，这样数组中就将按照```1,2,....```排列，找到第一个```nums[i] != i + 1```的数即为结果，因为数组中最多保存到```nums.length```个数，所以只对这个范围内的数做正确的交换</font>"
   ]
  },
  {
   "cell_type": "code",
   "execution_count": null,
   "metadata": {},
   "outputs": [],
   "source": [
    "// 原地哈希思想\n",
    "public int firstMissingPositive(int[] nums) {\n",
    "    int n = nums.length;\n",
    "    // 一次遍历,将数组中的数按照1,2,3,...,n的顺序放置\n",
    "    // 即 将nums[i]放在nums[i] - 1的下标上\n",
    "    for(int i = 0; i < n; i++){\n",
    "        // 检查当前数是否在1~n的范围中,并且是否在它正确的位置\n",
    "        while(nums[i] >= 1 && nums[i] <= n && nums[i] != nums[nums[i] - 1]){\n",
    "            swap(nums, i, nums[i] - 1);\n",
    "        }\n",
    "    }\n",
    "    // 经过上述操作,再次遍历,如果发现不满足nums[i] == i+1,那么缺失的就是i+1\n",
    "    for(int i = 0; i < n; i++){\n",
    "        if(nums[i] != i + 1){\n",
    "            return i + 1;\n",
    "        }\n",
    "    }\n",
    "    // 如果都满足,说明1,2,...,n都是不缺的\n",
    "    return n + 1;\n",
    "}\n",
    "\n",
    "private void swap(int[] nums, int i, int j){\n",
    "    int temp = nums[i];\n",
    "    nums[i] = nums[j];\n",
    "    nums[j] = temp;\n",
    "}"
   ]
  }
 ],
 "metadata": {
  "kernelspec": {
   "display_name": "Java",
   "language": "java",
   "name": "java"
  },
  "language_info": {
   "codemirror_mode": "java",
   "file_extension": ".jshell",
   "mimetype": "text/x-java-source",
   "name": "Java",
   "pygments_lexer": "java",
   "version": "12.0.2+10"
  }
 },
 "nbformat": 4,
 "nbformat_minor": 2
}
