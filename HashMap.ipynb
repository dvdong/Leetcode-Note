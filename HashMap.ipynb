{
 "cells": [
  {
   "cell_type": "markdown",
   "metadata": {},
   "source": [
    "# <center>HashMap"
   ]
  },
  {
   "cell_type": "markdown",
   "metadata": {},
   "source": [
    "## 1. Two Sum (easy)"
   ]
  },
  {
   "cell_type": "markdown",
   "metadata": {},
   "source": [
    "Given an array of integers, return indices of the two numbers such that they add up to a specific target.\n",
    "\n",
    "You may assume that each input would have exactly one solution, and you may not use the same element twice.\n",
    "\n",
    "Example:\n",
    "\n",
    "Given nums = [2, 7, 11, 15], target = 9,\n",
    "\n",
    "Because nums[0] + nums[1] = 2 + 7 = 9,\n",
    "\n",
    "return [0, 1]."
   ]
  },
  {
   "cell_type": "code",
   "execution_count": 2,
   "metadata": {},
   "outputs": [],
   "source": [
    "public int[] twoSum(int[] nums, int target) {\n",
    "    Map<Integer, Integer> map = new HashMap<>();\n",
    "    int diff = 0;\n",
    "    for(int i = 0; i < nums.length; i++){\n",
    "        diff = target - nums[i];\n",
    "        if(map.containsKey(diff)){\n",
    "            return new int[]{map.get(diff), i};\n",
    "        }\n",
    "        map.put(nums[i], i);\n",
    "    }\n",
    "    return new int[]{-1, -1};\n",
    "}"
   ]
  },
  {
   "cell_type": "markdown",
   "metadata": {},
   "source": [
    "<font color='dd0000'>利用哈希表，把已经遍历过的元素的值和下标存入map中，如果target和当前元素的差在map里，则说明是这两个数</font>"
   ]
  },
  {
   "cell_type": "markdown",
   "metadata": {},
   "source": [
    "## <font color='dddd00'>3. Longest Substring Without Repeating Characters (medium)"
   ]
  },
  {
   "cell_type": "markdown",
   "metadata": {},
   "source": [
    "Given a string, find the length of the longest substring without repeating characters."
   ]
  },
  {
   "cell_type": "code",
   "execution_count": 1,
   "metadata": {},
   "outputs": [],
   "source": [
    "// 解法1：复杂度O(n*128)\n",
    "\n",
    "public int lengthOfLongestSubstring(String s){\n",
    "    int n = s.length();\n",
    "    int ans = 0;\n",
    "    for(int i = 0; i < n; i++){\n",
    "        int[] seen = new int[128];\n",
    "        int j = i;\n",
    "        while(j < n && seen[s.charAt(j)] == 0)\n",
    "            seen[s.charAt(j++)]++;\n",
    "        ans = Math.max(ans, j - i);\n",
    "    }\n",
    "    return ans;\n",
    "}"
   ]
  },
  {
   "cell_type": "code",
   "execution_count": 3,
   "metadata": {},
   "outputs": [],
   "source": [
    "// 解法2：复杂度O(n)\n",
    "\n",
    "public int lengthOfLongestSubstring2(String s){\n",
    "    int n = s.length();\n",
    "    int[] seen = new int[128];\n",
    "    for(int k = 0; k < seen.length; k++)\n",
    "        seen[k] = -1;\n",
    "    int ans = 0;\n",
    "    int i = 0;\n",
    "    for(int j = 0; j < n; j++){\n",
    "        i = Math.max(i, seen[s.charAt(j)] + 1);\n",
    "        ans = Math.max(ans, j - i + 1);\n",
    "        seen[s.charAt(j)] = j;\n",
    "    }\n",
    "    return ans;\n",
    "}"
   ]
  },
  {
   "cell_type": "markdown",
   "metadata": {},
   "source": [
    "<font color='dd0000'>**核心**：\n",
    "    \n",
    "1.ASCII字符集最多只有128个字符，所以可以用一个大小为128的数组来代替哈希表进行记录某个字符是否出现(解法1)或者出现的位置(解法2)；\n",
    "    \n",
    "2.滑动窗口思想，一边遍历一边记录</font>"
   ]
  },
  {
   "cell_type": "code",
   "execution_count": null,
   "metadata": {},
   "outputs": [],
   "source": []
  }
 ],
 "metadata": {
  "kernelspec": {
   "display_name": "Java",
   "language": "java",
   "name": "java"
  },
  "language_info": {
   "codemirror_mode": "java",
   "file_extension": ".jshell",
   "mimetype": "text/x-java-source",
   "name": "Java",
   "pygments_lexer": "java",
   "version": "12.0.2+10"
  }
 },
 "nbformat": 4,
 "nbformat_minor": 2
}
