{
 "cells": [
  {
   "cell_type": "markdown",
   "metadata": {},
   "source": [
    "# <center> Backtracking"
   ]
  },
  {
   "cell_type": "markdown",
   "metadata": {},
   "source": [
    "## [46. Permutations (medium)](https://leetcode-cn.com/problems/permutations/)"
   ]
  },
  {
   "cell_type": "markdown",
   "metadata": {},
   "source": [
    "Given a collection of **distinct** integers, return all possible permutations."
   ]
  },
  {
   "cell_type": "markdown",
   "metadata": {},
   "source": [
    "<font color='dd0000'>回溯算法，在每个位置尝试取每一个值，取过的值进行标记，后面的位置不能再取，求到最后一个位置则记录结果，再回到上一步</font>"
   ]
  },
  {
   "cell_type": "code",
   "execution_count": 1,
   "metadata": {},
   "outputs": [],
   "source": [
    "List<List<Integer>> res;\n",
    "int[] temp;\n",
    "boolean[] chosen;\n",
    "public List<List<Integer>> permute(int[] nums) {\n",
    "    int n = nums.length;\n",
    "    res = new ArrayList<>();\n",
    "    temp = new int[n];\n",
    "    chosen = new boolean[n];\n",
    "    helper(nums, 0, n);\n",
    "    return res;\n",
    "}\n",
    "\n",
    "private void helper(int[] nums, int i, int n){  // i表示当前填的位置\n",
    "    if(i == n){\n",
    "        List<Integer> list = new ArrayList<>();\n",
    "        for(int num : temp){\n",
    "            list.add(num);\n",
    "        }\n",
    "        res.add(list);\n",
    "        return;\n",
    "    }\n",
    "    for(int k = 0; k < n; k++){ // k表示nums的下标,每个i位置依次选择nums的每个数字\n",
    "        if(chosen[k]){\n",
    "            continue;\n",
    "        }\n",
    "        temp[i] = nums[k];\n",
    "        chosen[k] = true;\n",
    "        helper(nums, i + 1, n);  // 填下一个位置\n",
    "        chosen[k] = false;  // 当前的选择撤销\n",
    "    }\n",
    "}"
   ]
  }
 ],
 "metadata": {
  "kernelspec": {
   "display_name": "Java",
   "language": "java",
   "name": "java"
  },
  "language_info": {
   "codemirror_mode": "java",
   "file_extension": ".jshell",
   "mimetype": "text/x-java-source",
   "name": "Java",
   "pygments_lexer": "java",
   "version": "12.0.2+10"
  }
 },
 "nbformat": 4,
 "nbformat_minor": 2
}
