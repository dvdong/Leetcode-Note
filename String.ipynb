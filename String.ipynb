{
 "cells": [
  {
   "cell_type": "markdown",
   "metadata": {},
   "source": [
    "# <center>String"
   ]
  },
  {
   "cell_type": "markdown",
   "metadata": {},
   "source": [
    "## [1071. Greatest Common Divisor of Strings (easy)](https://leetcode-cn.com/problems/greatest-common-divisor-of-strings/)"
   ]
  },
  {
   "cell_type": "markdown",
   "metadata": {},
   "source": [
    "For strings ```S``` and ```T```, we say \"```T``` divides ```S```\" if and only if ```S = T + ... + T```  (```T``` concatenated with itself 1 or more times)\n",
    "\n",
    "Return the largest string ```X``` such that ```X``` divides ```str1``` and ```X``` divides ```str2```."
   ]
  },
  {
   "cell_type": "code",
   "execution_count": 5,
   "metadata": {},
   "outputs": [],
   "source": [
    "// 最大公因子子串的长度一定是str1、str2长度的公因数\n",
    "// 所以，先用欧几里得法求出最大公因长度，再逐渐减小长度，检查是否能整除\n",
    "\n",
    "public String gcdOfStrings(String str1, String str2) {\n",
    "    int len1 = str1.length(), len2 = str2.length();\n",
    "    int gcdLen = gcd(len1, len2);\n",
    "    for(int i = gcdLen; i >= 1; i--){\n",
    "       if(len1 % i == 0 && len2 % i == 0){\n",
    "            String sub = str1.substring(0, gcdLen);\n",
    "            if(check(str1, sub) && check(str2, sub)) return sub;\n",
    "       }\n",
    "    }\n",
    "    return \"\";\n",
    "}\n",
    "\n",
    "// 其实可以证明：如果最大公约数子串符合要求，那么它就是结果；如果它不符合要求，就无解\n",
    "// 可简写为\n",
    "public String gcdOfStrings2(String str1, String str2) {\n",
    "    int len1 = str1.length(), len2 = str2.length();\n",
    "    int gcdLen = gcd(len1, len2);\n",
    "    String sub = str1.substring(0, gcdLength);\n",
    "    return check(str1, sub) && check(str2, sub) ? sub : \"\";\n",
    "}\n",
    "\n",
    "private boolean check(String s, String sub){\n",
    "    int L = s.length();\n",
    "    int l = sub.length();\n",
    "    String res = \"\";\n",
    "    for(int i = 0; i < L / l; i++){\n",
    "        res += sub;\n",
    "    }\n",
    "    return res.equals(s);\n",
    "}\n",
    "\n",
    "private int gcd(int p, int q){\n",
    "    return q == 0 ? p : gcd(q, p % q);\n",
    "}"
   ]
  },
  {
   "cell_type": "markdown",
   "metadata": {},
   "source": [
    "<font color='dd0000'>\n",
    "    \n",
    "更进一步的数学性质：如果 ```str1``` 和 ```str2``` 拼接后等于 ```str2``` 和 ```str1``` 拼接起来的字符串（注意拼接顺序不同），那么一定存在符合条件的字符串 ```X```。\n",
    "\n",
    "又根据前面的性质，有解的话，那么这个解就是最大公因子子串\n",
    "</font>"
   ]
  },
  {
   "cell_type": "code",
   "execution_count": 1,
   "metadata": {},
   "outputs": [],
   "source": [
    "public String gcdOfStrings(String str1, String str2) {\n",
    "    if(!(str1 + str2).equals(str2 + str1)) return \"\";\n",
    "    \n",
    "    int len1 = str1.length();\n",
    "    int len2 = str2.length();\n",
    "    return str1.substring(0, gcd(len1, len2));\n",
    "}"
   ]
  },
  {
   "cell_type": "markdown",
   "metadata": {},
   "source": [
    "## [面试题 01.06. Compress String LCCI (easy)](https://leetcode-cn.com/problems/compress-string-lcci/)"
   ]
  },
  {
   "cell_type": "markdown",
   "metadata": {},
   "source": [
    "Implement a method to perform basic string compression using the counts of repeated characters. For example, the string aabcccccaaa would become a2blc5a3. If the \"compressed\" string would not become smaller than the original string, your method should return the original string. You can assume the string has only uppercase and lowercase letters (a - z)."
   ]
  },
  {
   "cell_type": "code",
   "execution_count": 2,
   "metadata": {},
   "outputs": [],
   "source": [
    "// 遍历时统计相同字符的个数\n",
    "public String compressString(String S) {\n",
    "    if(S.length() <= 1)\n",
    "        return S;\n",
    "    \n",
    "    int count = 1; // 记录相同字符的个数\n",
    "    char cur = S.charAt(0); // 保存当前看的字符,从第0个字符开始\n",
    "    StringBuilder sb = new StringBuilder(); // 用来做字符串连接\n",
    "    for(int i = 1; i < S.length(); i++){\n",
    "        char c = S.charAt(i);\n",
    "        if(c != cur){  // 如果遍历到的字符和当前看的字符不同时,进行连接,并把count置为1\n",
    "            sb.append(cur);\n",
    "            sb.append(count);\n",
    "            cur = c;\n",
    "            count = 1;\n",
    "        }\n",
    "        else count++;\n",
    "    }\n",
    "    sb.append(cur);\n",
    "    sb.append(count); // 处理结尾的情况\n",
    "    String res = sb.toString();\n",
    "    return res.length() < S.length() ? res : S;\n",
    "}\n",
    "\n",
    "// 用双指针i、j遍历,相同字符的长度用j-i计算\n",
    "public String compressString2(String S) {\n",
    "    if(S.length() <= 1)\n",
    "        return S;\n",
    "    \n",
    "    int i = 0, j = 0;\n",
    "    StringBuilder sb = new StringBuilder();\n",
    "    while(j < S.length()){\n",
    "        if(S.charAt(i) == S.charAt(j)){ // 当两个指针的字符相同时,快指针前移\n",
    "            j++;\n",
    "        }\n",
    "        else{\n",
    "            sb.append(S.charAt(i));  // 当两个指针的字符不同时,进行字符串连接,并将慢指针移到快指针的位置\n",
    "            sb.append(j - i);\n",
    "            i = j;\n",
    "        }\n",
    "    }\n",
    "    sb.append(S.charAt(i));\n",
    "    sb.append(j - i);\n",
    "    String res = sb.toString();\n",
    "    return res.length() < S.length() ? res : S;\n",
    "}"
   ]
  },
  {
   "cell_type": "markdown",
   "metadata": {},
   "source": [
    "## [820. Short Encoding of Words (medium)](https://leetcode-cn.com/problems/short-encoding-of-words/)"
   ]
  },
  {
   "cell_type": "markdown",
   "metadata": {},
   "source": [
    "Given a list of words, we may encode it by writing a reference string ```S``` and a list of indexes ```A```.\n",
    "\n",
    "For example, if the list of words is ```[\"time\", \"me\", \"bell\"]```, we can write it as ```S = \"time#bell#\"``` and ```indexes = [0, 2, 5]```.\n",
    "\n",
    "Then for each index, we will recover the word by reading from the reference string from that index until we reach a ```\"#\"``` character.\n",
    "\n",
    "What is the length of the shortest reference string S possible that encodes the given words?"
   ]
  },
  {
   "cell_type": "markdown",
   "metadata": {},
   "source": [
    "<font color='dd0000'>**思路1：**Trie。构造一个Trie类，注意点是，因为满足要求的是后缀匹配，所以单词插入树时应逆序插入，**并且应先将长的单词先插入树中**。遍历```words```，对每个```word```先判断它是否在树中，如果在，说明存在以它为后缀的单词，继续循环，如果不在，就插入树中，并记录长度。</font>"
   ]
  },
  {
   "cell_type": "code",
   "execution_count": 3,
   "metadata": {},
   "outputs": [],
   "source": [
    "public int minimumLengthEncoding(String[] words) {\n",
    "    //先按照单词的长度从长到短排序\n",
    "    Arrays.sort(words, (s1, s2) -> (s2.length() - s1.length()));\n",
    "    Trie t = new Trie();\n",
    "    int res = 0;\n",
    "    for(String word : words){\n",
    "        if(t.find(word)) continue;\n",
    "        t.insert(word);\n",
    "        res += word.length() + 1;\n",
    "    }\n",
    "    return res;\n",
    "}\n",
    "\n",
    "class Trie{\n",
    "    class TrieNode{\n",
    "        final int N = 26;\n",
    "        TrieNode[] children;\n",
    "        \n",
    "        public TrieNode(){\n",
    "            children = new TrieNode[N];\n",
    "        }\n",
    "    }\n",
    "    \n",
    "    TrieNode root;\n",
    "    \n",
    "    public Trie(){\n",
    "        root = new TrieNode();\n",
    "    }\n",
    "    \n",
    "    public void insert(String word){\n",
    "        TrieNode cur = root;\n",
    "        for(int i = word.length() - 1; i >= 0; i--){  //倒着插\n",
    "            int index = word.charAt(i) - 'a';\n",
    "            if(cur.children[index] == null){\n",
    "                cur.children[index] = new TrieNode();\n",
    "            }\n",
    "            cur = cur.children[index];\n",
    "        }\n",
    "    }\n",
    "    \n",
    "    public boolean find(String word){\n",
    "        TrieNode cur = root;\n",
    "        for(int i = word.length() - 1; i>= 0; i--){\n",
    "            int index = word.charAt(i) - 'a';\n",
    "            if(cur.childrem[index] == null) return false;\n",
    "            cur = cur.children[index];\n",
    "        }\n",
    "        return true;\n",
    "    }\n",
    "}"
   ]
  },
  {
   "cell_type": "markdown",
   "metadata": {},
   "source": [
    "<font color='dd0000'>**思路2：**对```words```按```word```每个字母从后往前的排序，且更短的排在前面。这样，具有相同后缀的单词就相邻，如果一个词是另一个词的后缀，那它一定在另一个词前面一个位置，所以通过判断后一个词的结尾部分是不是前一个词，就可以得到长度的加或不加。</font>"
   ]
  },
  {
   "cell_type": "code",
   "execution_count": 5,
   "metadata": {},
   "outputs": [],
   "source": [
    "public int minimumLengthEncoding2(String[] words) {\n",
    "    //先排序：按照字符串倒着排序\n",
    "    Arrays.sort(words, new Comparator<String>(){\n",
    "        public int compare(String s1, String s2){\n",
    "            int n1 = s1.length(), n2 = s2.length();\n",
    "            for(int i = 0; i < Math.min(n1, n2); i++){\n",
    "                char c1 = s1.charAt(n1 - 1 - i);\n",
    "                char c2 = s2.charAt(n2 - 1 - i);\n",
    "                if(c1 != c2) return c1 - c2;\n",
    "            }\n",
    "            return n1 - n2; \n",
    "        }\n",
    "    });\n",
    "    // 遍历words，比较当前word和后一个\n",
    "    int res = 0;\n",
    "    for(int i = 0; i < words.length - 1; i++){\n",
    "        if(i + 1 < words.length && words[i+1].endsWith(words[i])){ // endsWith()\n",
    "            continue;\n",
    "        }\n",
    "        res += words[i].length() + 1;\n",
    "    }\n",
    "    return res;\n",
    "}"
   ]
  },
  {
   "cell_type": "markdown",
   "metadata": {},
   "source": [
    "<font color='dd0000'>**思路3：**哈希表。把所有单词都存入一个*Set*中，再遍历```words```，把每个单词的所有后缀子串从*Set*中删去。这样*Set*中留下的就是能直接编码的串了。</font>"
   ]
  },
  {
   "cell_type": "code",
   "execution_count": 7,
   "metadata": {},
   "outputs": [],
   "source": [
    "public int minimumLengthEncoding3(String[] words) {\n",
    "    Set<String> set = new HashSet<>(Arrays.asList(words)); // 数组->集合\n",
    "    for(String word : words){\n",
    "        for(int i = 1; i < word.length(); i++){\n",
    "            set.remove(word.substring(i));   // set的remove方法会自己判断是否存在，不需要额外自己写\n",
    "        }\n",
    "    }\n",
    "    // 现在set中剩下的都是不会重叠的字符串\n",
    "    int res = 0;\n",
    "    for(String s : set){\n",
    "        res += s.length() + 1;\n",
    "    }\n",
    "    return res;\n",
    "}"
   ]
  },
  {
   "cell_type": "markdown",
   "metadata": {},
   "source": [
    "<font color='dd0000'>**暴力解法：**主要熟悉字符串的一些方法</font> ```str.contains(substr)、str.concat(str2)```"
   ]
  },
  {
   "cell_type": "code",
   "execution_count": 9,
   "metadata": {},
   "outputs": [],
   "source": [
    "public int minimumLengthEncoding4(String[] words) {\n",
    "    //首先按照从长到短排序\n",
    "    Arrays.sort(words, (s1, s2) -> s2.length() - s1.length());\n",
    "\n",
    "    String res = new String();  // 因为StringBuilder没有contains方法，所以用String\n",
    "    for (String word : words) {\n",
    "        if (!res.contains(word + \"#\")) { // 因为长的串在前，遇到不包含的字符串就直接连接成结果，如果已经包含就跳过\n",
    "            res = res.concat(word + \"#\"); // 速度：StringBuilder.append > String.concat > String +\n",
    "        }\n",
    "    }\n",
    "    return sb.length();\n",
    "}"
   ]
  },
  {
   "cell_type": "markdown",
   "metadata": {},
   "source": [
    "## [1111. Maximum Nesting Depth of Two Valid Parentheses Strings (medium)](https://leetcode-cn.com/problems/maximum-nesting-depth-of-two-valid-parentheses-strings/)"
   ]
  },
  {
   "cell_type": "markdown",
   "metadata": {},
   "source": [
    "A string is a valid parentheses string (denoted VPS) if and only if it consists of \"(\" and \")\" characters only, and:\n",
    "\n",
    "- It is the empty string, or\n",
    "- It can be written as ```AB``` (```A``` concatenated with ```B```), where ```A``` and ```B``` are VPS's, or\n",
    "- It can be written as ```(A)```, where ```A``` is a VPS.\n",
    "\n",
    "We can similarly define the nesting depth ```depth(S)``` of any VPS ```S``` as follows:\n",
    "\n",
    "- ```depth(\"\") = 0```\n",
    "- ```depth(A + B) = max(depth(A), depth(B))```, where ```A``` and ```B``` are VPS's\n",
    "- ```depth(\"(\" + A + \")\") = 1 + depth(A)```, where ```A``` is a VPS.\n",
    "\n",
    "For example,  ```\"\"```, ```\"()()\"```, and ```\"()(()())\"``` are VPS's (with nesting depths 0, 1, and 2), and ```\")(\"``` and ```\"(()\"``` are not VPS's.\n",
    "\n",
    "Given a VPS seq, split it into two disjoint subsequences ```A``` and ```B```, such that ```A``` and ```B``` are VPS's (and ```A.length + B.length = seq.length```).\n",
    "\n",
    "Now choose **any** such ```A``` and ```B``` such that ```max(depth(A), depth(B))``` is the minimum possible value.\n",
    "\n",
    "Return an answer array (of length ```seq.length```) that encodes such a choice of ```A``` and ```B```:  ```answer[i] = 0``` if ```seq[i]``` is part of ```A```, else ```answer[i] = 1```.  Note that even though multiple answers may exist, you may return any of them."
   ]
  },
  {
   "cell_type": "markdown",
   "metadata": {},
   "source": [
    "<font color='dd0000'>理解题意：即对输入的括号串用0、1分组，目的是尽量减少嵌套，所以遇到连续的```(```就把它们分为不同组</font>"
   ]
  },
  {
   "cell_type": "code",
   "execution_count": 2,
   "metadata": {},
   "outputs": [],
   "source": [
    "// 数组模拟栈\n",
    "public int[] maxDepthAfterSplit(String seq) {\n",
    "    int n = seq.length();\n",
    "    int[] s = new int[ n / 2];\n",
    "    int top = -1;\n",
    "    int[] res = new int[n];\n",
    "    for(int i = 0; i < n; i++){\n",
    "        if(seq.charAt(i) == '('){\n",
    "            s[++top] = i;\n",
    "        } else{\n",
    "            res[s[top]] = res[i] = top & 1; // 当前')'和它对应的'('用位运算控制是0还是1\n",
    "            top--;\n",
    "        }\n",
    "    }\n",
    "    return res;\n",
    "}\n",
    "\n",
    "// 只有'('一种字符需要入栈，所以可以只用一个辅助变量代替栈\n",
    "public int[] maxDepthAfterSplit2(String seq) {\n",
    "    int count = 0;\n",
    "    int[] res = new int[seq.length()];\n",
    "    for(int i = 0; i < seq.length(); i++){\n",
    "        if(seq.charAt(i) == '('){\n",
    "            count++;\n",
    "            res[i] = count & 1;\n",
    "        } else {\n",
    "            res[i] = count & 1;\n",
    "            count--;\n",
    "        }\n",
    "    }\n",
    "    return res;\n",
    "}"
   ]
  },
  {
   "cell_type": "markdown",
   "metadata": {},
   "source": [
    "## [8. String to Integer (atoi) (medium)](https://leetcode-cn.com/problems/string-to-integer-atoi/)"
   ]
  },
  {
   "cell_type": "markdown",
   "metadata": {},
   "source": [
    "请你来实现一个```atoi```函数，使其能将字符串转换成整数。\n",
    "\n",
    "首先，该函数会根据需要丢弃无用的开头空格字符，直到寻找到第一个非空格的字符为止。接下来的转化规则如下：\n",
    "\n",
    "- 如果第一个非空字符为正或者负号时，则将该符号与之后面尽可能多的连续数字字符组合起来，形成一个有符号整数。\n",
    "- 假如第一个非空字符是数字，则直接将其与之后连续的数字字符组合起来，形成一个整数。\n",
    "- 该字符串在有效的整数部分之后也可能会存在多余的字符，那么这些字符可以被忽略，它们对函数不应该造成影响。\n",
    "注意：假如该字符串中的第一个非空格字符不是一个有效整数字符、字符串为空或字符串仅包含空白字符时，则你的函数不需要进行转换，即无法进行有效转换。\n",
    "\n",
    "在任何情况下，若函数不能进行有效的转换时，请返回 0 。\n",
    "\n",
    "**提示：**\n",
    "\n",
    "- 本题中的空白字符只包括空格字符 ' ' 。\n",
    "- 假设我们的环境只能存储 32 位大小的有符号整数，那么其数值范围为 $[−2^{31},  2^{31} − 1]$。如果数值超过这个范围，请返回  INT_MAX $(2^{31} − 1)$ 或 INT_MIN $(−2^{31}) $。"
   ]
  },
  {
   "cell_type": "code",
   "execution_count": null,
   "metadata": {},
   "outputs": [],
   "source": [
    "public int myAtoi(String str) {\n",
    "    String str = str.trim(); // 去掉开头的空格字符\n",
    "    boolean isNegative = false; // 标记正负数 默认是正数\n",
    "    int res = 0;\n",
    "    for(int i = 0; i < str.length(); i++){\n",
    "        char c = str.charAt(i);\n",
    "        // 判断第一位正负号\n",
    "        if(c == '-' && i == 0){\n",
    "            isNegative = true;\n",
    "            continue;\n",
    "        }\n",
    "        if(c == '+' && i == 0){\n",
    "            continue;\n",
    "        }\n",
    "        if(!Character.isDigit(c)){  // 遇到非数字跳出循环\n",
    "            break;\n",
    "        }\n",
    "        int digit = c - '0';\n",
    "        if(res > (Integer.MAX_VALUE - dight) / 10){ // 溢出的情况，因为如果结果已经溢出就无法比较，所以移项做除法比较\n",
    "            if(isNegative){\n",
    "                return Integer.MIN_VALUE;\n",
    "            } else{\n",
    "                return Integer.MAX_VALUE;\n",
    "            }\n",
    "        } else {\n",
    "            res = res * 10 + dight; // 从高到低逐位计算数字的方法\n",
    "        }\n",
    "    }\n",
    "    return res;\n",
    "}"
   ]
  },
  {
   "cell_type": "markdown",
   "metadata": {},
   "source": [
    "## [151. Reverse Words in a String (medium)](https://leetcode-cn.com/problems/reverse-words-in-a-string/)"
   ]
  },
  {
   "cell_type": "markdown",
   "metadata": {},
   "source": [
    "Given an input string, reverse the string word by word.\n",
    "\n",
    "Your reversed string should not contain leading or trailing spaces.\n",
    "\n",
    "You need to reduce multiple spaces between two words to a single space in the reversed string."
   ]
  },
  {
   "cell_type": "code",
   "execution_count": 1,
   "metadata": {},
   "outputs": [],
   "source": [
    "// 使用trim()、split()、Collections.reverse()、join()\n",
    "public String reverseWords(String s) {\n",
    "    String[] words = s.trim().split(\" +\");\n",
    "    Collections.reverse(Arrays.asList(words));\n",
    "    return String.join(\" \", words);\n",
    "}\n",
    "\n",
    "// 使用trim()、split()\n",
    "public String reverseWords2(String s) {\n",
    "    s = s.trim();\n",
    "    String[] arr = s.split(\" +\");\n",
    "    StringBuilder sb = new StringBuilder();\n",
    "    for(int i = arr.length - 1; i >= 0; i--){\n",
    "        sb.append(arr[i]);\n",
    "        sb.append(i == 0 ? \"\" : \" \");\n",
    "    }\n",
    "    return sb.toString();\n",
    "}\n",
    "\n",
    "// 手动翻转\n",
    "public String reverseWords3(String s) {\n",
    "    if(s.length() < 1) return s;\n",
    "    //去首尾空格\n",
    "    int i = 0, j = s.length() - 1;\n",
    "    while(i <= j && s.charAt(i) == ' '){\n",
    "        i++;\n",
    "    }\n",
    "    while(j >= i && s.charAt(j) == ' '){\n",
    "        j--;\n",
    "    }\n",
    "    // k用来遍历，从尾部开始\n",
    "    int k = j;\n",
    "    StringBuilder sb = new StringBuilder();\n",
    "    while(k >= i){\n",
    "        if(s.charAt(k) != ' '){ // 遇到的不是空字符就继续前移\n",
    "            k--;\n",
    "        } else{\n",
    "            sb.append(s.substring(k + 1, j + 1)); // k指向空字符了，取出[k+1,j]的这部分子串，连接到结果中\n",
    "            sb.append(\" \");  // 加上空格\n",
    "            j = k;\n",
    "            while(s.charAt(j) == ' '){ // 调整j到下一个单词的结尾\n",
    "                j--;\n",
    "            }\n",
    "            k = j; // k从结尾往前走\n",
    "        }\n",
    "    }\n",
    "    sb.append(s.substring(k + 1, j + 1)); // 处理收尾的情况\n",
    "    return sb.toString();\n",
    "}"
   ]
  },
  {
   "cell_type": "markdown",
   "metadata": {},
   "source": [
    "## [5. Longest Palindromic Substring (medium)](https://leetcode-cn.com/problems/longest-palindromic-substring/)"
   ]
  },
  {
   "cell_type": "markdown",
   "metadata": {},
   "source": [
    "Given a string s, find the longest palindromic substring in s. You may assume that the maximum length of s is 1000."
   ]
  },
  {
   "cell_type": "markdown",
   "metadata": {},
   "source": [
    "<font color='dd0000'>\n",
    "\n",
    "**方法一：**一维DP。\n",
    "\n",
    "状态设计：$dp[i]$ 表示在第 $i$ 个位置，包括字符 $s[i]$ 的最长回文长度。\n",
    "\n",
    "状态转移：如果 $s[i] == s[i-1-dp[i-1]]$ ，则$dp[i] = dp[i-1] + 2$；否则，遍历检查从 $i-dp[i-1]$ 开始以 $s[i]$ 结尾的最大回文长度\n",
    "\n",
    "</font>"
   ]
  },
  {
   "cell_type": "code",
   "execution_count": null,
   "metadata": {},
   "outputs": [],
   "source": [
    "//可将dp数组压缩成滚动变量节省空间\n",
    "\n",
    "public String longestPalindrome(String s) {\n",
    "    if(s.length() < 1){\n",
    "        return s;\n",
    "    }\n",
    "    int n = s.length();\n",
    "    int[] dp = new int[n];\n",
    "    dp[0] = 1;\n",
    "    int maxIndex = 0;\n",
    "    int maxLen = 1;\n",
    "    for(int i = 1; i < n; i++){\n",
    "        char c = s.charAt(i);\n",
    "        if(i - 1 - dp[i - 1] >= 0 && c == s.charAt(i - 1 - dp[i - 1])){\n",
    "            dp[i] = dp[i-1] + 2;\n",
    "        } else {\n",
    "            int l = i - dp[i - 1];\n",
    "            while(l <= i){\n",
    "                if(s.charAt(l) != c){\n",
    "                    l++;\n",
    "                } else {\n",
    "                    if(check(s, l, i)){\n",
    "                        dp[i] = i - l + 1;\n",
    "                        break;\n",
    "                    }\n",
    "                    l++;\n",
    "                }\n",
    "            }\n",
    "        }\n",
    "        if(dp[i] > maxLen){\n",
    "            maxLen = dp[i];\n",
    "            maxIndex = i;\n",
    "        }\n",
    "    }\n",
    "    return s.substring(maxIndex - maxLen + 1, maxIndex + 1);\n",
    "}\n",
    "\n",
    "private boolean check(String s, int i, int j){\n",
    "    while(i <= j){\n",
    "        if(s.charAt(i) != s.charAt(j)){\n",
    "            return false;\n",
    "        }\n",
    "        i++;\n",
    "        j--;\n",
    "    }\n",
    "    return true;\n",
    "}"
   ]
  },
  {
   "cell_type": "markdown",
   "metadata": {},
   "source": [
    "<font color='dd0000'>**方法二：**中心扩展法。遍历数组，对每个字符，考虑以它(奇数)或它和它的后一位(偶数)为中心向两边扩展成回文串，取最大长度。注意处理边界。</font>"
   ]
  },
  {
   "cell_type": "code",
   "execution_count": null,
   "metadata": {},
   "outputs": [],
   "source": [
    "public String longestPalindrome2(String s) {\n",
    "    int n = s.length();\n",
    "    int start = 0;  // 保存结果子串的起点\n",
    "    int len = 0;   // 保存结果字串的长度\n",
    "    for(int i = 0; i < n; i++){\n",
    "        int length = Math.max(getLen(s, i, i), getLen(s, i, i + 1)); // 每次用s[i]和s[i]s[i+1]进行扩展，取长的那个\n",
    "        if(length > len){ \n",
    "            len = length;\n",
    "            start = i - (length - 1) / 2;  // 用当前中心i和长度length计算子串的起点\n",
    "        }\n",
    "    }\n",
    "    return s.substring(start, start + len);\n",
    "}\n",
    "\n",
    "private int getLen(String s, int left, int right){\n",
    "    while(left >= 0 && right < s.length() && s.charAt(left) == s.charAt(right)){ // 当左右指针不越界且两个字符相等时向外扩展\n",
    "        left--;\n",
    "        right++;\n",
    "    }\n",
    "    return right - left - 1;  // 返回这个扩展出来的回文串的长度\n",
    "}"
   ]
  },
  {
   "cell_type": "markdown",
   "metadata": {},
   "source": [
    "<font color='dd0000'>\n",
    "\n",
    "**方法三：**二维DP。\n",
    "\n",
    "状态设计：$dp[i][j]$ 表示以 $s[i]$ 开头，$s[j]$ 结尾的串是不是回文串\n",
    "\n",
    "状态转移：$dp[i][j] = dp[i+1][j-1]$ && $s[j] == s[i]$, 如果 $j - i <= 2$ && $s[i] == s[j]$ 则 $dp[i][j] = true$\n",
    "\n",
    "初始化：$dp[i][i] = true$, 单个字符是回文\n",
    "\n",
    "**注意点：状态转移用到了 $i+1$ 的状态，所以要先填列，再填行。且只用填 $i<j$ 的部分**\n",
    "\n",
    "</font>"
   ]
  },
  {
   "cell_type": "code",
   "execution_count": null,
   "metadata": {},
   "outputs": [],
   "source": [
    "public String longestPalindrome3(String s) {\n",
    "    char[] chars = s.toCharArray();\n",
    "    int n = s.length();\n",
    "    boolean[][] dp = new boolean[n][n];\n",
    "    // 初始化\n",
    "    for(int i = 0; i < n; i++){\n",
    "        dp[i][i] = true;\n",
    "    }\n",
    "    int start = 0, len = 0;\n",
    "    for(int j = 1; j < n; j++){\n",
    "        for(int i = 0; i < j; i++){\n",
    "            if(chars[j] == chars[i]){  // 如果起点和终点字符相同，当只有两个字符或者它内部的部分回文它本身就回文\n",
    "                if(j - i < 2 || dp[i + 1][j - 1]){\n",
    "                    dp[i][j] = true;\n",
    "                    if(j - i + 1 > len){ // 计算长度\n",
    "                        start = i;\n",
    "                        len = j - i + 1;\n",
    "                    }\n",
    "                } \n",
    "            }\n",
    "        }\n",
    "    }\n",
    "    return s.substring(start, start + len);\n",
    "}"
   ]
  },
  {
   "cell_type": "markdown",
   "metadata": {},
   "source": [
    "## [242. Valid Anagram (easy)](https://leetcode-cn.com/problems/valid-anagram/)"
   ]
  },
  {
   "cell_type": "markdown",
   "metadata": {},
   "source": [
    "Given two strings s and t , write a function to determine if t is an anagram of s.\n",
    "\n",
    "anagram: 字母一样但顺序不同"
   ]
  },
  {
   "cell_type": "markdown",
   "metadata": {},
   "source": [
    "<font color='dd0000'>\n",
    "\n",
    "**方法一：**计数统计。如果两个字符串有字符数量不一样，则返回$false$\n",
    "\n",
    "**方法二：**排序。对两个字符串按默认顺序排序，再判断两个是否相同\n",
    "\n",
    "</font>"
   ]
  },
  {
   "cell_type": "code",
   "execution_count": 1,
   "metadata": {},
   "outputs": [],
   "source": [
    "// 计数统计\n",
    "public boolean isAnagram1(String s, String t) {\n",
    "    if(s.length() != t.length()){\n",
    "        return false;\n",
    "    }\n",
    "    int[] counter = new int[128];\n",
    "    for(char c : s.toCharArray()){\n",
    "        counter[c]++;\n",
    "    }\n",
    "    for(char c : t.toCharArray()){\n",
    "        if(--counter[c] < 0){\n",
    "            return false;\n",
    "        }\n",
    "    }\n",
    "    return true;\n",
    "}\n",
    "\n",
    "// 排序\n",
    "public boolean isAnagram1(String s, String t) {\n",
    "    char[] sArray = s.toCharArray();\n",
    "    char[] tArray = t.toCharArray();\n",
    "    Arrays.sort(sArray);\n",
    "    Arrays.sort(tArray);\n",
    "    return String.valueOf(sArray).equals(String.valueOf(tArray)); // 用字符数组构造字符串\n",
    "}"
   ]
  },
  {
   "cell_type": "markdown",
   "metadata": {},
   "source": [
    "## [14. Longest Common Prefix (easy)](https://leetcode-cn.com/problems/longest-common-prefix/)"
   ]
  },
  {
   "cell_type": "markdown",
   "metadata": {},
   "source": [
    "Write a function to find the longest common prefix string amongst an array of strings.\n",
    "\n",
    "If there is no common prefix, return an empty string ```\"\"```."
   ]
  },
  {
   "cell_type": "markdown",
   "metadata": {},
   "source": [
    "<font color='dd0000'>对字符串数组按ASCII码排序，比较第一个字符串和最后一个字符串的公共前缀。（还有更多方法，参看原题链接）</font>"
   ]
  },
  {
   "cell_type": "code",
   "execution_count": null,
   "metadata": {},
   "outputs": [],
   "source": [
    "public String longestCommonPrefix(String[] strs) {\n",
    "    if(strs.length == 0){\n",
    "        return \"\";\n",
    "    }\n",
    "    if(strs.length == 1){\n",
    "        return strs[0];\n",
    "    }\n",
    "    Arrays.sort(strs);\n",
    "    String begin = strs[0];\n",
    "    String end = strs[strs.length - 1];\n",
    "    int i = 0;\n",
    "    while(i < begin.length() && i < end.length()){\n",
    "        if(begin.charAt(i) != end.charAt(i)){\n",
    "            break;\n",
    "        }\n",
    "        i++;\n",
    "    }\n",
    "    return begin.substring(0, i);\n",
    "}"
   ]
  },
  {
   "cell_type": "markdown",
   "metadata": {},
   "source": [
    "## [67. Add Binary (easy)](https://leetcode-cn.com/problems/add-binary/)"
   ]
  },
  {
   "cell_type": "markdown",
   "metadata": {},
   "source": [
    "Given two binary strings, return their sum (also a binary string).\n",
    "\n",
    "The input strings are both **non-empty** and contains only characters ```1``` or ```0```."
   ]
  },
  {
   "cell_type": "markdown",
   "metadata": {},
   "source": [
    "<font color='dd0000'>\n",
    "\n",
    "双指针逐位相加，注意考虑进位\n",
    "\n",
    "</font>"
   ]
  },
  {
   "cell_type": "code",
   "execution_count": null,
   "metadata": {},
   "outputs": [],
   "source": [
    "public String addBinary(String a, String b) {\n",
    "    char[] aChars = a.toCharArray();\n",
    "    char[] bChars = b.toCharArray();\n",
    "    int i = aChars.length - 1, j = bChars.length - 1;\n",
    "    StringBuilder sb = new StringBuilder();\n",
    "    int next = 0;\n",
    "    while(i >= 0 || j >= 0){\n",
    "        int c1 = i < 0 ? 0 : aChars[i] - '0';\n",
    "        int c2 = j < 0 ? 0 : bChars[j] - '0';\n",
    "        int add = c1 + c2 + next;\n",
    "        switch(add){\n",
    "            case 0: sb.append('0');\n",
    "                    next = 0;\n",
    "                    break;\n",
    "            case 1: sb.append('1');\n",
    "                    next = 0;\n",
    "                    break;\n",
    "            case 2: sb.append('0');\n",
    "                    next = 1;\n",
    "                    break;\n",
    "            case 3: sb.append('1');\n",
    "                    next = 1;\n",
    "                    break;\n",
    "        }\n",
    "        i--;\n",
    "        j--;\n",
    "    }\n",
    "    if(next > 0){\n",
    "        sb.append('1');\n",
    "    }\n",
    "    return sb.reverse().toString();\n",
    "}"
   ]
  },
  {
   "cell_type": "markdown",
   "metadata": {},
   "source": [
    "## [面试题 16.18. 模式匹配 (medium)](https://leetcode-cn.com/problems/pattern-matching-lcci/)"
   ]
  },
  {
   "cell_type": "markdown",
   "metadata": {},
   "source": [
    "你有两个字符串，即```pattern```和```value```。 ```pattern```字符串由字母```\"a\"```和```\"b\"```组成，用于描述字符串中的模式。例如，字符串```\"catcatgocatgo\"```匹配模式```\"aabab\"```（其中```\"cat\"```是```\"a\"```，```\"go\"```是```\"b\"```），该字符串也匹配像```\"a\"```、```\"ab\"```和```\"b\"```这样的模式。但需注意```\"a\"```和```\"b\"```不能同时表示相同的字符串。编写一个方法判断```value```字符串是否匹配```pattern```字符串。"
   ]
  },
  {
   "cell_type": "markdown",
   "metadata": {},
   "source": [
    "<font color='dd0000'>\n",
    "\n",
    "**思路：**如果匹配至少需要满足 $len\\_a * count\\_a + len\\_b * count\\_b = len\\_value$, 其中 $count\\_a$ 和 $count\\_b$ 都是已知的，所以可以通过**枚举** $len\\_a$，再进一步检查长度和字符串的匹配情况。\n",
    "\n",
    "</font>"
   ]
  },
  {
   "cell_type": "code",
   "execution_count": null,
   "metadata": {},
   "outputs": [],
   "source": [
    "// 枚举法\n",
    "public boolean patternMatching(String pattern, String value) {\n",
    "    if(pattern.length() == 0){\n",
    "        return value.length() == 0;\n",
    "    }\n",
    "    // 统计pattern中a和b的个数\n",
    "    char[] patternArr = pattern.toCharArray();\n",
    "    int count_a = 0, count_b = 0;\n",
    "    for(char c : patternArr){\n",
    "        if(c == 'a') count_a++;\n",
    "        if(c == 'b') count_b++;\n",
    "    }\n",
    "    // 如果count_a < count_b,交换a和b,保证枚举len_a且枚举次数更少。因为如果count_a为0，则无法枚举len_a\n",
    "    if(count_a < count_b){\n",
    "        int temp = count_a;\n",
    "        count_a = count_b;\n",
    "        count_b = temp;\n",
    "        for(int i = 0; i < patternArr.length; i++){\n",
    "            patternArr[i] = patternArr[i] == 'a' ? 'b' : 'a'; // pattern中交换a和b\n",
    "        }\n",
    "        pattern = new String(patternArr);\n",
    "    }\n",
    "    // 判断特殊情况\n",
    "    if(value.length() == 0){ // 如果value为空\n",
    "        return count_b == 0; // 只有一个a模式时才为true。因为count_b更小，只能它为0，两者同时为0已经在开头特判\n",
    "    }\n",
    "    // 枚举len_a\n",
    "    int len = value.length();\n",
    "    for(int len_a = 0; len_a <= len / count_a; len_a++){\n",
    "        // 判断当前len_a是否合法,即len_b有没有正数解\n",
    "        int rest = len - count_a * len_a;\n",
    "        if((count_b == 0 && rest == 0) || (count_b > 0 && rest % count_b == 0)){ \n",
    "            // 长度合法 遍历pattern和value 依次比较\n",
    "            int len_b = count_b == 0 ? 0 : rest / count_b; // b对应的长度\n",
    "            int pos = 0; // value串的指针\n",
    "            String str_a = \"\", str_b = \"\"; //保存a和b对应的串\n",
    "            boolean flag = true; // 标记能否匹配成功\n",
    "            for(char c : pattern.toCharArray()){\n",
    "                // 匹配a串\n",
    "                if(c == 'a'){\n",
    "                    String s = value.substring(pos, pos + len_a); // 当前len_a长度的串\n",
    "                    if(str_a.length() == 0){ //第一次匹配,保存\n",
    "                        str_a = s;\n",
    "                    } else { //后续匹配到,进行比较\n",
    "                        if(!s.equals(str_a)){ // 匹配失败,标记,跳出循环,枚举下一个len_a\n",
    "                            flag = false;\n",
    "                            break;\n",
    "                        }\n",
    "                    }\n",
    "                    pos += len_a;\n",
    "                }\n",
    "                // 匹配b串\n",
    "                else{\n",
    "                    String s = value.substring(pos, pos + len_b); // 当前len_a长度的串\n",
    "                    if(str_b.length() == 0){ //第一次匹配,保存\n",
    "                        str_b = s;\n",
    "                    } else { //后续匹配到,进行比较\n",
    "                        if(!s.equals(str_b)){ // 匹配失败,标记,跳出循环,枚举下一个len_a\n",
    "                            flag = false;\n",
    "                            break;\n",
    "                        }\n",
    "                    }\n",
    "                    pos += len_b;\n",
    "                }\n",
    "            }\n",
    "            // 进行完一次遍历,判断flag和str_a是否等于str_b，条件a串不能等于b串\n",
    "            if(flag && !str_a.equals(str_b)){\n",
    "                return true;\n",
    "            }\n",
    "        }\n",
    "    }\n",
    "    // 枚举结束, 在中间没有找到解返回, 则返回false\n",
    "    return false;\n",
    "}"
   ]
  }
 ],
 "metadata": {
  "kernelspec": {
   "display_name": "Java",
   "language": "java",
   "name": "java"
  },
  "language_info": {
   "codemirror_mode": "java",
   "file_extension": ".jshell",
   "mimetype": "text/x-java-source",
   "name": "Java",
   "pygments_lexer": "java",
   "version": "12.0.2+10"
  }
 },
 "nbformat": 4,
 "nbformat_minor": 2
}
