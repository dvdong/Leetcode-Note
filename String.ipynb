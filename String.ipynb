{
 "cells": [
  {
   "cell_type": "markdown",
   "metadata": {},
   "source": [
    "# <center>String"
   ]
  },
  {
   "cell_type": "markdown",
   "metadata": {},
   "source": [
    "## 1071. Greatest Common Divisor of Strings (easy)"
   ]
  },
  {
   "cell_type": "markdown",
   "metadata": {},
   "source": [
    "For strings ```S``` and ```T```, we say \"```T``` divides ```S```\" if and only if ```S = T + ... + T```  (```T``` concatenated with itself 1 or more times)\n",
    "\n",
    "Return the largest string ```X``` such that ```X``` divides ```str1``` and ```X``` divides ```str2```."
   ]
  },
  {
   "cell_type": "markdown",
   "metadata": {},
   "source": [
    "https://leetcode-cn.com/problems/greatest-common-divisor-of-strings/"
   ]
  },
  {
   "cell_type": "code",
   "execution_count": 5,
   "metadata": {},
   "outputs": [],
   "source": [
    "// 最大公因子子串的长度一定是str1、str2长度的公因数\n",
    "// 所以，先用欧几里得法求出最大公因长度，再逐渐减小长度，检查是否能整除\n",
    "\n",
    "public String gcdOfStrings(String str1, String str2) {\n",
    "    int len1 = str1.length(), len2 = str2.length();\n",
    "    int gcdLen = gcd(Math.max(len1, len2), Math.min(len1, len2));\n",
    "    for(int i = gcdLen; i >= 1; i--){\n",
    "       if(len1 % i == 0 && len2 % i == 0){\n",
    "            String sub = str1.substring(0, gcdLen);\n",
    "            if(check(str1, sub) && check(str2, sub)) return sub;\n",
    "       }\n",
    "    }\n",
    "    return \"\";\n",
    "}\n",
    "\n",
    "// 其实可以证明：如果最大公约数子串符合要求，那么它就是结果；如果它不符合要求，就无解\n",
    "// 可简写为\n",
    "public String gcdOfStrings2(String str1, String str2) {\n",
    "    int len1 = str1.length(), len2 = str2.length();\n",
    "    int gcdLen = gcd(Math.max(len1, len2), Math.min(len1, len2));\n",
    "    String sub = str1.substring(0, gcdLength);\n",
    "    return check(str1, sub) && check(str2, sub) ? sub : \"\";\n",
    "}\n",
    "\n",
    "private boolean check(String s, String sub){\n",
    "    int L = s.length();\n",
    "    int l = sub.length();\n",
    "    String res = \"\";\n",
    "    for(int i = 0; i < L / l; i++){\n",
    "        res += sub;\n",
    "    }\n",
    "    return res.equals(s);\n",
    "}\n",
    "\n",
    "private int gcd(int p, int q){\n",
    "    return q == 0 ? p : gcd(q, p % q);\n",
    "}"
   ]
  },
  {
   "cell_type": "markdown",
   "metadata": {},
   "source": [
    "<font color='dd0000'>\n",
    "    \n",
    "更进一步的数学性质：如果 ```str1``` 和 ```str2``` 拼接后等于 ```str2``` 和 ```str1``` 拼接起来的字符串（注意拼接顺序不同），那么一定存在符合条件的字符串 ```X```。\n",
    "\n",
    "又根据前面的性质，有解的话，那么这个解就是最大公因子子串\n",
    "</font>"
   ]
  },
  {
   "cell_type": "code",
   "execution_count": 6,
   "metadata": {},
   "outputs": [],
   "source": [
    "public String gcdOfStrings(String str1, String str2) {\n",
    "    if(!(str1 + str2).equals(str2 + str1)) return \"\";\n",
    "    \n",
    "    int len1 = str1.length();\n",
    "    int len2 = str2.length();\n",
    "    return str1.substring(0, gcd(Math.max(len1, len2), Math.min(len1, len2)));\n",
    "}"
   ]
  },
  {
   "cell_type": "markdown",
   "metadata": {},
   "source": [
    "## 面试题 01.06. Compress String LCCI (easy)"
   ]
  },
  {
   "cell_type": "markdown",
   "metadata": {},
   "source": [
    "Implement a method to perform basic string compression using the counts of repeated characters. For example, the string aabcccccaaa would become a2blc5a3. If the \"compressed\" string would not become smaller than the original string, your method should return the original string. You can assume the string has only uppercase and lowercase letters (a - z)."
   ]
  },
  {
   "cell_type": "markdown",
   "metadata": {},
   "source": [
    "https://leetcode-cn.com/problems/compress-string-lcci/"
   ]
  },
  {
   "cell_type": "code",
   "execution_count": 2,
   "metadata": {},
   "outputs": [],
   "source": [
    "// 遍历时统计相同字符的个数\n",
    "public String compressString(String S) {\n",
    "    if(S.length() <= 1)\n",
    "        return S;\n",
    "    \n",
    "    int count = 1; // 记录相同字符的个数\n",
    "    char cur = S.charAt(0); // 保存当前看的字符,从第0个字符开始\n",
    "    StringBuilder sb = new StringBuilder(); // 用来做字符串连接\n",
    "    for(int i = 1; i < S.length(); i++){\n",
    "        char c = S.charAt(i);\n",
    "        if(c != cur){  // 如果遍历到的字符和当前看的字符不同时,进行连接,并把count置为1\n",
    "            sb.append(cur);\n",
    "            sb.append(count);\n",
    "            cur = c;\n",
    "            count = 1;\n",
    "        }\n",
    "        else count++;\n",
    "    }\n",
    "    sb.append(cur);\n",
    "    sb.append(count); // 处理结尾的情况\n",
    "    String res = sb.toString();\n",
    "    return res.length() < S.length() ? res : S;\n",
    "}\n",
    "\n",
    "// 用双指针i、j遍历,相同字符的长度用j-i计算\n",
    "public String compressString2(String S) {\n",
    "    if(S.length() <= 1)\n",
    "        return S;\n",
    "    \n",
    "    int i = 0, j = 0;\n",
    "    StringBuilder sb = new StringBuilder();\n",
    "    while(j < S.length()){\n",
    "        if(S.charAt(i) == S.charAt(j)){ // 当两个指针的字符相同时,快指针前移\n",
    "            j++;\n",
    "        }\n",
    "        else{\n",
    "            sb.append(S.charAt(i));  // 当两个指针的字符不同时,进行字符串连接,并将慢指针移到快指针的位置\n",
    "            sb.append(j - i);\n",
    "            i = j;\n",
    "        }\n",
    "    }\n",
    "    sb.append(S.charAt(i));\n",
    "    sb.append(j - i);\n",
    "    String res = sb.toString();\n",
    "    return res.length() < S.length() ? res : S;\n",
    "}"
   ]
  }
 ],
 "metadata": {
  "kernelspec": {
   "display_name": "Java",
   "language": "java",
   "name": "java"
  },
  "language_info": {
   "codemirror_mode": "java",
   "file_extension": ".jshell",
   "mimetype": "text/x-java-source",
   "name": "Java",
   "pygments_lexer": "java",
   "version": "12.0.2+10"
  }
 },
 "nbformat": 4,
 "nbformat_minor": 2
}
