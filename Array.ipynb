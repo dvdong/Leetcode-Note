{
 "cells": [
  {
   "cell_type": "markdown",
   "metadata": {},
   "source": [
    "# <center>Array"
   ]
  },
  {
   "cell_type": "markdown",
   "metadata": {},
   "source": [
    "## [1013. Partition Array Into Three Parts With Equal Sum (easy)](https://leetcode-cn.com/problems/partition-array-into-three-parts-with-equal-sum/)"
   ]
  },
  {
   "cell_type": "markdown",
   "metadata": {},
   "source": [
    "Given an array ```A``` of integers, return true if and only if we can partition the array into three non-empty parts with equal sums.\n",
    "\n",
    "Formally, we can partition the array if we can find indexes ```i+1 < j``` with ```(A[0] + A[1] + ... + A[i] == A[i+1] + A[i+2] + ... + A[j-1] == A[j] + A[j-1] + ... + A[A.length - 1])```"
   ]
  },
  {
   "cell_type": "code",
   "execution_count": 3,
   "metadata": {},
   "outputs": [],
   "source": [
    "public boolean canThreePartsEqualSum(int[] A) {\n",
    "    int sum = 0;\n",
    "    for(int a : A) // 求和\n",
    "        sum += a;\n",
    "    if(sum % 3 != 0) return false; // 如果不能等分成三份，返回false\n",
    "    int part = sum / 3;  // 每一部分的值\n",
    "    int count = 0;\n",
    "    int add = 0;\n",
    "    for(int i = 0; i < A.length - 1; i++){ // 最多只循环到倒数第二位，确保还有第3段，避免和为0的情况\n",
    "        add += A[i];\n",
    "        if(add == part){\n",
    "            add = 0;\n",
    "            count++;\n",
    "            if(count == 2) return true; // 已经找到2段，又在循环控制必定有第三段，所以此时一定为true\n",
    "        }\n",
    "    }\n",
    "    return false;\n",
    "}"
   ]
  },
  {
   "cell_type": "markdown",
   "metadata": {},
   "source": [
    "## [169. Majority Element (easy)](https://leetcode-cn.com/problems/majority-element/)"
   ]
  },
  {
   "cell_type": "markdown",
   "metadata": {},
   "source": [
    "Given an array of size n, find the majority element. The majority element is the element that appears **more than** ```⌊ n/2 ⌋``` times.\n",
    "\n",
    "You may assume that the array is non-empty and the majority element always exist in the array.\n"
   ]
  },
  {
   "cell_type": "code",
   "execution_count": 4,
   "metadata": {},
   "outputs": [],
   "source": [
    "// 方法一：投票法\n",
    "// 从第一个数开始count=1，遇到相同的就加1，遇到不同的就减1，减到0就换成下一个数重新开始计数，最终保存下来的数就是Majority Element\n",
    "\n",
    "public int majorityElement(int[] nums) {\n",
    "    int cur = nums[0];\n",
    "    int count = 1;\n",
    "    for(int i = 1; i < nums.length; i++){\n",
    "        if(nums[i] == cur) count++;\n",
    "        else if(--count == 0){\n",
    "            cur = nums[i + 1];  // 因为当i是最后一位时，count不可能为0，所以此处i+1不会越界\n",
    "        }\n",
    "    }\n",
    "    return cur;\n",
    "}"
   ]
  },
  {
   "cell_type": "code",
   "execution_count": 1,
   "metadata": {},
   "outputs": [],
   "source": [
    "// 方法二：用哈希表统计每个元素次数\n",
    "\n",
    "public int majorityElement2(int[] nums) {\n",
    "    int n = nums.length;\n",
    "    Map<Integer, Integer> map = new HashMap<>();\n",
    "    int ans = 0;\n",
    "    for(int num : nums){\n",
    "        if(!map.containsKey(num)){\n",
    "            map.put(num, 1);\n",
    "        } else{\n",
    "            map.put(num, map.get(num) + 1);\n",
    "        }\n",
    "        if(map.get(num) > n / 2){\n",
    "            ans = num;\n",
    "            break;\n",
    "        }\n",
    "    }\n",
    "    return ans;\n",
    "}"
   ]
  },
  {
   "cell_type": "code",
   "execution_count": 7,
   "metadata": {},
   "outputs": [],
   "source": [
    "// 方法三：分治法\n",
    "//         分：当数组只剩一个元素时，Majority Element就是该元素\n",
    "//         合：看两个数组的Majority element哪个在合起来的数组里更多\n",
    "\n",
    "public int majorityElement3(int[] nums) {\n",
    "    return split(nums, 0, nums.length - 1);\n",
    "}\n",
    "\n",
    "private int split(int[] nums, int left, int right){\n",
    "    if(left >= right) return nums[left];\n",
    "    \n",
    "    int mid = left + (right - left) / 2;\n",
    "    int a = split(nums, left, mid);\n",
    "    int b = split(nums, mid + 1, right);\n",
    "    return merge(nums, a, b, left, right);\n",
    "}\n",
    "\n",
    "private int merge(int[] nums, int a, int b, int left, int right){ // 两个数组合并后的数组中众数一定是a b中的一个\n",
    "    if(a == b) return a;                                         // 反证法：如果x既不是左边数组的众数也不是右边数组的众数\n",
    "                                                                //          那么x_l <= l/2 且 x_r <= r/2\n",
    "    int count1 = 0, count2 = 0;                                 //          则 x_l + x_r = x <= (l + r)/2, 即x不是众数\n",
    "    for(int i = left; i <= right; i++){\n",
    "        if(nums[i] == a) count1++;\n",
    "        else if(nums[i] == b) count2++;\n",
    "    }\n",
    "    return count1 >= count2 ? a : b;\n",
    "}"
   ]
  },
  {
   "cell_type": "code",
   "execution_count": 8,
   "metadata": {},
   "outputs": [],
   "source": [
    "// 方法四：排序 因为Majority Element的数量大于n/2，所以如果排好序，它一定会在n/2的位置\n",
    "\n",
    "public int majorityElement4(int[] nums) {\n",
    "    Arrays.sort(nums);\n",
    "    return nums[nums.length / 2];\n",
    "}"
   ]
  },
  {
   "cell_type": "markdown",
   "metadata": {},
   "source": [
    "## [945. Minimum Increment to Make Array Unique (easy)](https://leetcode-cn.com/problems/minimum-increment-to-make-array-unique/)"
   ]
  },
  {
   "cell_type": "markdown",
   "metadata": {},
   "source": [
    "Given an array of integers A, a move consists of choosing any ```A[i]```, and incrementing it by ```1```.\n",
    "\n",
    "Return the least number of moves to make every value in ```A``` unique.\n",
    "\n",
    "Note:\n",
    "\n",
    "1. ```0 <= A.length <= 40000```\n",
    "2. ```0 <= A[i] < 40000```"
   ]
  },
  {
   "cell_type": "code",
   "execution_count": 2,
   "metadata": {},
   "outputs": [],
   "source": [
    "// 方法一：对数组排序再遍历，如果后一个数<=前一个数，则把后一个数加为前一个数+1，差值就是这一步操作的增量\n",
    "\n",
    "public int minIncrementForUnique(int[] A) {\n",
    "    Arrays.sort(A);\n",
    "    int count = 0;\n",
    "    for(int = 0; i < A.length - 1; i++){\n",
    "        if(A[i + 1] <= A[i]){\n",
    "            int pre = A[i + 1];\n",
    "            A[i + 1] = A[i] + 1;\n",
    "            count += A[i + 1] - pre;\n",
    "        }\n",
    "    }\n",
    "    return count;\n",
    "}"
   ]
  },
  {
   "cell_type": "code",
   "execution_count": 4,
   "metadata": {},
   "outputs": [],
   "source": [
    "// 方法二：计数排序\n",
    "// 因为数组长度有限，所以统计每个数字出现的次数，再从小到大减少每个数字的次数到1，将多出来的次数移到后一个数字上，依次类推直到最后\n",
    "\n",
    "public int minIncrementForUnique2(int[] A) {\n",
    "    if(A.length < 1) return 0;  // 考虑空数组情况，因为max初始值为-1\n",
    "\n",
    "    int[] counter = new int[40000];  // 根据A[i]的范围new大小为40000的计数数组\n",
    "    int max = -1;   // max用来记录A数组中最大的那个数，用来作为移动的终点\n",
    "    for(int a : A){\n",
    "        counter[a]++;  // 统计每个数字的次数\n",
    "        if(a > max) max = a;\n",
    "    }\n",
    "    int count = 0;\n",
    "    int move = 0;\n",
    "    for(int i = 0; i < max; i++){\n",
    "        if(counter[i] > 1){\n",
    "            move = counter[i] - 1;  // 保留一个，移走counter[i] - 1个\n",
    "            counter[i + 1] += move;     // 后一位数字增加个数\n",
    "            count += move;\n",
    "        }\n",
    "    }\n",
    "    // 直到最后一位，因为后面的次数都为0，所以移动次数为n + (n-1) + (n-2) + ... + 1，用求和公式求得\n",
    "    move = counter[max] - 1;\n",
    "    count += (move + 1) * move / 2;\n",
    "    return count;\n",
    "}"
   ]
  },
  {
   "cell_type": "code",
   "execution_count": 5,
   "metadata": {},
   "outputs": [],
   "source": [
    "// 方法三：线性探测 + 路径压缩\n",
    "// 思想：将数组中的每个数映射到唯一的数字(地址)上，首先找和这个数相同的地址，如果没有被占用，就映射到这个地址，如果被占用，就地址+1向后找\n",
    "//       这样地址值 >= 数字值，每次的move数就是 地址值 - 数字值\n",
    "// 【关键：路径压缩】：如果有大量重复数字，每次都从和它相同的地址+1地向后找，会超时\n",
    "//      所以，【在每次映射到新地址时，都将找到这个地址的路径上的映射值置为这个新地址，这样遇到被占用的情况就可以跳过中间的寻找过程】\n",
    "\n",
    "int[] map = new int[80000]; // 最坏情况是，40000个40000映射到40000, 40001, 40002 ..., 79999;所以初始化大小为80000\n",
    "public int minIncrementForUnique3(int[] A) {\n",
    "    Arrays.fill(map, -1);  // -1表示这个地址没有被占用\n",
    "    int count = 0;\n",
    "    for(int a : A){\n",
    "        int b = findAddress(a); // 返回a映射到的地址\n",
    "        count += b - a;\n",
    "    }\n",
    "    return count;\n",
    "}\n",
    "\n",
    "private int findAddress(int a){\n",
    "    if(map[a] == -1){  // 和a自己相等的地址还没有被占用\n",
    "        map[a] = a;    // map的值置为a，表示地址，这样下次再遇到a，就从map[a] = a + 1的地址开始寻找\n",
    "        return a;\n",
    "    }\n",
    "    // 如果已经被占用\n",
    "    int b = findAddress(map[a] + 1); // 从map[a]指示的地址递归向后找，直到找到为-1的\n",
    "    // 路径压缩：把这条寻找路径上的所有地址都置为新地址\n",
    "    map[a] = b;\n",
    "    return b;\n",
    "}"
   ]
  },
  {
   "cell_type": "markdown",
   "metadata": {},
   "source": [
    "## [999. 可以被一步捕获的棋子数 (easy)](https://leetcode-cn.com/problems/available-captures-for-rook/)"
   ]
  },
  {
   "cell_type": "markdown",
   "metadata": {},
   "source": [
    "在一个 8 x 8 的棋盘上，有一个白色的车（```Rook```），用字符 ```'R'``` 表示。棋盘上还可能存在空方块，白色的象（```Bishop```）以及黑色的卒（```pawn```），分别用字符 ```'.'```，```'B'``` 和 ```'p'``` 表示。不难看出，大写字符表示的是白棋，小写字符表示的是黑棋。\n",
    "\n",
    "车按国际象棋中的规则移动。东，西，南，北四个基本方向任选其一，然后一直向选定的方向移动，直到满足下列四个条件之一：\n",
    "\n",
    "- 棋手选择主动停下来。\n",
    "- 棋子因到达棋盘的边缘而停下。\n",
    "- 棋子移动到某一方格来捕获位于该方格上敌方（黑色）的卒，停在该方格内。\n",
    "- 车不能进入/越过已经放有其他友方棋子（白色的象）的方格，停在友方棋子前。\n",
    "\n",
    "你现在可以控制车移动一次，请你统计有多少敌方的卒处于你的捕获范围内（即，可以被一步捕获的棋子数）。。"
   ]
  },
  {
   "cell_type": "code",
   "execution_count": null,
   "metadata": {},
   "outputs": [],
   "source": [
    "// 找到Rook的位置，再向它上下左右四个方向前进，看是否能遇到p\n",
    "\n",
    "public int numRookCaptures(char[][] board) {\n",
    "    int[][] directions = {{-1, 0}, {1, 0}, {0, -1}, {0, 1}}; //方向向量：上下左右\n",
    "    int count = 0;\n",
    "    for(int i = 0; i < 8; i++){\n",
    "        for(int j = 0; j < 8; j++){\n",
    "            if(board[i][j] == 'R'){ // 找到白车(R)\n",
    "                int id = i, jd = j;\n",
    "                for(int[] d : directions){\n",
    "                    while(true){ // 选定一个方向，一直往前走\n",
    "                        id += d[0];\n",
    "                        jd += d[1];\n",
    "                        if(id < 0 || id >= 8 || j < 0 || j >= 8 || board[id][jd] == 'B') //遇到阻碍，则看下一个方向\n",
    "                            break;\n",
    "                        if(board[id][jd] == 'p'){ // 捕获到一个p，再看下一个方向\n",
    "                            count++;\n",
    "                            break;\n",
    "                        }\n",
    "                    }\n",
    "                }\n",
    "                return count; // 只有一个R，所以找到就可返回\n",
    "            }\n",
    "        }\n",
    "    }\n",
    "    return count;\n",
    "}"
   ]
  },
  {
   "cell_type": "markdown",
   "metadata": {},
   "source": [
    "## [914.卡牌分组 (easy)](https://leetcode-cn.com/problems/x-of-a-kind-in-a-deck-of-cards/)"
   ]
  },
  {
   "cell_type": "markdown",
   "metadata": {},
   "source": [
    "In a deck of cards, each card has an integer written on it.\n",
    "\n",
    "Return ```true``` if and only if you can choose ```X >= 2``` such that it is possible to split the entire deck into 1 or more groups of cards, where:\n",
    "\n",
    "- Each group has exactly ```X``` cards.\n",
    "- All the cards in each group have the same integer."
   ]
  },
  {
   "cell_type": "markdown",
   "metadata": {},
   "source": [
    "<font color='dd0000'>**思路1：**如果能够分组，说明每个数的数量有一个公约数X。且X一定为所有个数的的最大公约数的约数，所以如果所有个数的最大公约数大于等于2，则说明可以分组。因为有```gcd(a,b,c) = gcd(gcd(a,b), c)```，所以通过计数统计，依次求相邻2组数之间的最大公约数即可。</font>"
   ]
  },
  {
   "cell_type": "code",
   "execution_count": 1,
   "metadata": {},
   "outputs": [],
   "source": [
    "public boolean hasGroupsSizeX(int[] deck) {\n",
    "    //计数统计，统计每个数的个数\n",
    "    int[] counter = new int[10000];\n",
    "    for(int card : deck){\n",
    "        counter[card]++;\n",
    "    }\n",
    "    int x = 0; // 保存两组个数之间的最大公约数\n",
    "    for(int count : counter){\n",
    "        if(count > 0){\n",
    "            x = gcd(x, count);\n",
    "            if(x == 1){      // 如果有两组个数之间的最大公约数为1，则说明无法分组\n",
    "                return false;\n",
    "            }\n",
    "        }\n",
    "    }\n",
    "    return x >= 2;\n",
    "}\n",
    "\n",
    "private int gcd(int p, int q){\n",
    "    return q == 0 ? p : gcd(q, p % q);\n",
    "}"
   ]
  },
  {
   "cell_type": "markdown",
   "metadata": {},
   "source": [
    "<font color='dd0000'>**思路2：**枚举+剪枝。先通过计数统计找到最小的数量```min```，如果能分组的话，每个数的数量都能被X整除，X可能为素数也可能不为素数，**如果X不是素数，那X一定有一个素数因子```p```**，那么每个数的数量也能被```p```整除。所以，只要枚举```min```以内的所有素数，看它能不能整除所有的数量即可。</font>"
   ]
  },
  {
   "cell_type": "code",
   "execution_count": 2,
   "metadata": {},
   "outputs": [],
   "source": [
    "public boolean hasGroupsSizeX2(int[] deck) {\n",
    "    int[] counter = new int[10000];\n",
    "    for(int card : deck){\n",
    "        counter[card]++;\n",
    "    }\n",
    "    int min = Integer.MAX_VALUE;\n",
    "    for(int count : counter){\n",
    "        if(count > 0 && count < min){\n",
    "            min = count;\n",
    "        }\n",
    "    }\n",
    "    if(min == 1) return false;  // 最小数量是1的话，一定不能分组，直接返回false\n",
    "    // 筛选min以内的素数: 判断每个数i能不能被sqrt(i)内的素数整除\n",
    "    List<Integer> prime = new ArrayList<>(); // 记录素数\n",
    "    int i = 2;\n",
    "    int squareRoot = 0;\n",
    "    boolean isPrime = true;\n",
    "    while(i <= min){\n",
    "        if(i > squareRoot * squareRoot) squareRoot++;\n",
    "        for(int j = 0; j < prime.size() && prime.get(j) <= squareRoot; j++){\n",
    "            if(i % prime.get(j) == 0){\n",
    "                isPrime = false;\n",
    "                break;\n",
    "            }\n",
    "        }\n",
    "        if(isPrime) prime.add(i);  // i是素数，加入prime表\n",
    "        isPrime = true;\n",
    "        i++;\n",
    "    }\n",
    "    // 得到了min内的素数表，依次枚举看能不能整除所有数量\n",
    "    for(int k = 0; k < prime.size(); k++){\n",
    "        int cur = prime.get(k);\n",
    "        boolean flag = true;\n",
    "        if(deck.length % cur != 0) continue;  // deck的总长度如果不能整除，那一定不满足，直接看下一个数\n",
    "        for(int count : counter){\n",
    "            if(count % cur != 0){\n",
    "                flag = false;\n",
    "                break;\n",
    "            }\n",
    "        }\n",
    "        if(flag) return true;\n",
    "    }\n",
    "    return false;\n",
    "}"
   ]
  },
  {
   "cell_type": "markdown",
   "metadata": {},
   "source": [
    "## [912. Sort an Array (medium)](https://leetcode-cn.com/problems/sort-an-array/)"
   ]
  },
  {
   "cell_type": "markdown",
   "metadata": {},
   "source": [
    "Given an array of integers nums, sort the array in ascending order.\n",
    "\n",
    "```1 <= nums.length <= 50000```\n",
    "\n",
    "```-50000 <= nums[i] <= 50000```"
   ]
  },
  {
   "cell_type": "markdown",
   "metadata": {},
   "source": [
    "<font color='dd0000'>给定了数据范围，可以用计数排序。注意数组元素可能为负</font>"
   ]
  },
  {
   "cell_type": "code",
   "execution_count": 2,
   "metadata": {},
   "outputs": [],
   "source": [
    "public int[] sortArray(int[] nums) {\n",
    "   int min = -5000, max = 5000;\n",
    "   int[] counter = new int[max - min + 1];\n",
    "   for(int num : nums){\n",
    "       counter[num + max]++;\n",
    "   }\n",
    "   int index = 0;\n",
    "   for(int i = 0; i < counter.length; i++){\n",
    "       while(counter[i] > 0){\n",
    "           nums[index++] = i - max;\n",
    "           counter[i]--;\n",
    "       }\n",
    "   }\n",
    "   return nums;\n",
    "}"
   ]
  },
  {
   "cell_type": "markdown",
   "metadata": {},
   "source": [
    "## [289. Game of Life (medium)](https://leetcode-cn.com/problems/game-of-life/)"
   ]
  },
  {
   "cell_type": "markdown",
   "metadata": {},
   "source": [
    "Given a board with m by n cells, each cell has an initial state **live (1)** or **dead (0)**. Each cell interacts with its eight neighbors (horizontal, vertical, diagonal) using the following four rules (taken from the above Wikipedia article):\n",
    "\n",
    "1. Any live cell with fewer than two live neighbors dies, as if caused by under-population.\n",
    "2. Any live cell with two or three live neighbors lives on to the next generation.\n",
    "3. Any live cell with more than three live neighbors dies, as if by over-population..\n",
    "4. Any dead cell with exactly three live neighbors becomes a live cell, as if by reproduction.\n",
    "\n",
    "Write a function to compute the next state (after one update) of the board given its current state. The next state is created by applying the above rules simultaneously to every cell in the current state, where births and deaths occur simultaneously."
   ]
  },
  {
   "cell_type": "code",
   "execution_count": 3,
   "metadata": {},
   "outputs": [],
   "source": [
    " // 原地修改：因为数组的之只取0或1，所以用最低位保存原状态，倒数第二位保存新状态，最后再右移一位\n",
    "public void gameOfLife(int[][] board) {\n",
    "    int[][] directions = {{-1, -1}, {-1, 0}, {-1, 1}, {0, -1}, {0, 1}, {1, -1}, {1, 0}, {1, 1}};\n",
    "    int m = board.length;\n",
    "    int n = board[0].length;\n",
    "    for(int i = 0; i < m; i++){\n",
    "        for(int j = 0; j < n; j++){\n",
    "            int count = 0;\n",
    "            if(board[i][j] == 1){  // 活细胞\n",
    "                for(int[] d : directions){\n",
    "                    int id = i + d[0];\n",
    "                    int jd = j + d[1];\n",
    "                    if(id < 0 || id >= m || jd < 0 || jd >= n) continue;\n",
    "                    if((board[id][jd] & 1) == 1) count++; // 周围活细胞的个数，用位运算判断最低位\n",
    "                }\n",
    "                if(count == 2 || count == 3){ // 继续存活,置为11\n",
    "                    board[i][j] = 3;\n",
    "                }\n",
    "            } else { // 死细胞\n",
    "                for(int[] d : directions){\n",
    "                    int id = i + d[0];\n",
    "                    int jd = j + d[1];\n",
    "                    if(id < 0 || id >= m || jd < 0 || jd >= n) continue;\n",
    "                    if((board[id][jd] & 1) == 1) count++; // 周围活细胞的个数\n",
    "                }\n",
    "                if(count == 3){\n",
    "                    board[i][j] = 2; // 变为存活，置为10\n",
    "                }\n",
    "            }\n",
    "        }\n",
    "    }\n",
    "    for(int i = 0; i < m; i++){  // 最后移位\n",
    "        for(int j = 0; j < n; j++){\n",
    "            board[i][j] >>= 1;\n",
    "        }\n",
    "    }\n",
    "}"
   ]
  },
  {
   "cell_type": "markdown",
   "metadata": {},
   "source": [
    "## [面试题 01.07. Rotate Matrix (medium)](https://leetcode-cn.com/problems/rotate-matrix-lcci/)"
   ]
  },
  {
   "cell_type": "markdown",
   "metadata": {},
   "source": [
    "Given an image represented by an N x N matrix, where each pixel in the image is 4 bytes, write a method to rotate the image by 90 degrees. Can you do this in place?"
   ]
  },
  {
   "cell_type": "markdown",
   "metadata": {},
   "source": [
    "<font color='dd0000'>根据旋转的规律：第 $i$ 行 -> 第$n-1-i$列，第 $j$ 列 -> 第 $j$ 行 交换各个位置的值。注意循环条件的起点和终点。</font>"
   ]
  },
  {
   "cell_type": "code",
   "execution_count": 4,
   "metadata": {},
   "outputs": [],
   "source": [
    "public void rotate(int[][] matrix) {\n",
    "    int temp = 0;\n",
    "    int n = matrix.length;\n",
    "    for(int i = 0; i < n / 2; i++){    // i：当前操作的行\n",
    "        for(int j = i; j < n - 1 - i; j++){\n",
    "            temp = matrix[i][j];\n",
    "            matrix[i][j] = matrix[n-1-j][i];\n",
    "            matrix[n-1-j][i] = matrix[n-1-i][n-1-j];\n",
    "            matrix[n-1-i][n-1-j] = matrix[j][n-1-i];\n",
    "            matrix[j][n-1-i] = temp;\n",
    "        }\n",
    "    }\n",
    "}"
   ]
  },
  {
   "cell_type": "markdown",
   "metadata": {},
   "source": [
    "## [55. Jump Game (medium)](https://leetcode-cn.com/problems/jump-game/)"
   ]
  },
  {
   "cell_type": "markdown",
   "metadata": {},
   "source": [
    "Given an array of non-negative integers, you are initially positioned at the first index of the array.\n",
    "\n",
    "Each element in the array represents your maximum jump length at that position.\n",
    "\n",
    "Determine if you are able to reach the last index."
   ]
  },
  {
   "cell_type": "code",
   "execution_count": 1,
   "metadata": {},
   "outputs": [],
   "source": [
    "// dfs+剪枝：在每个索引处依次枚举能跳的步数，看能不能到最后。\n",
    "//           一旦在某个索引处无解，就把它标记，搜索时跳过这些索引\n",
    "\n",
    "boolean res;    // 记录结果\n",
    "boolean[] out;  // 标记无解的索引\n",
    "int n;\n",
    "public boolean canJump(int[] nums) {\n",
    "    res = false;\n",
    "    n = nums.length;\n",
    "    out = new boolean[n];\n",
    "    dfs(nums, 0);\n",
    "    return res;\n",
    "}\n",
    "\n",
    "private void dfs(int[] nums, int index){\n",
    "    if(res){\n",
    "        return;\n",
    "    }\n",
    "    if(nums[index] >= n - 1 - index){ // 当处于某个索引可以跳到末尾时，说明有解\n",
    "        res = true;\n",
    "        return;\n",
    "    }\n",
    "    if(index < n - 1 && nums[index] == 0){ // 在某处索引步数为0，一定无解\n",
    "        res = false;\n",
    "        return;\n",
    "    }\n",
    "    for(int s = nums[index]; s > 0 && !out[index+s]; s--){ // 对于无解的索引就不去搜索了\n",
    "        dfs(nums, index + s);\n",
    "        if(!res){   // 如果此轮搜索的结果无解，就把该索引进行标记\n",
    "            out[index] = true;\n",
    "        }\n",
    "    }\n",
    "}"
   ]
  },
  {
   "cell_type": "code",
   "execution_count": 2,
   "metadata": {},
   "outputs": [],
   "source": [
    "// 解法二：从后往前遍历数组，用n表示当前位置到末尾的距离，初始值为1\n",
    "//                           如果当前位置的最大步数大于等于n，则截断后面，将当前位置作为新的结尾，即n=1\n",
    "//                           如果当前位置的最大步数小于n，说明从该位置无法到达结尾，应再看前面的位置，距离+1，即n++\n",
    "public boolean canJump2(int[] nums) {\n",
    "    int n = 1;\n",
    "    for(int i = nums.length - 1; i >= 0; i--){\n",
    "        if(i == 0 && nums[i] < n){  // 当遍历到开头位置，如果最大步数不能超过距离，则返回false\n",
    "            return false;\n",
    "        }\n",
    "        if(nums[i] >= n){\n",
    "            n = 1;\n",
    "        } else {\n",
    "            n++;\n",
    "        }\n",
    "    }\n",
    "    return true;\n",
    "}"
   ]
  },
  {
   "cell_type": "code",
   "execution_count": 1,
   "metadata": {},
   "outputs": [],
   "source": [
    "// 解法三：用一个变量rightMost始终维护在当前位置能达到的最远位置，如果在末尾前的某个索引已经大于能达到的最远距离了，说明无解\n",
    "\n",
    "public boolean canJump3(int[] nums) {\n",
    "    int rightMost = nums[0];\n",
    "    for(int i = 0; i < nums.length; i++){\n",
    "        if(i > rightMost){\n",
    "            return false;\n",
    "        } else {\n",
    "            rightMost = Math.max(rightMost, i + nums[i]);\n",
    "        }\n",
    "    }\n",
    "    return true;\n",
    "}"
   ]
  },
  {
   "cell_type": "markdown",
   "metadata": {},
   "source": [
    "## [45. Jump Game II (hard)](https://leetcode-cn.com/problems/jump-game-ii/)"
   ]
  },
  {
   "cell_type": "markdown",
   "metadata": {},
   "source": [
    "Given an array of non-negative integers, you are initially positioned at the first index of the array.\n",
    "\n",
    "Each element in the array represents your maximum jump length at that position.\n",
    "\n",
    "Your goal is to reach the last index in the minimum number of jumps."
   ]
  },
  {
   "cell_type": "markdown",
   "metadata": {},
   "source": [
    "<font color='dd0000'>如果某一个作为**起跳点**的格子可以跳跃的距离是 3，那么表示后面 3 个格子都可以作为**起跳点**，可以对每一个能作为**起跳点**的格子都尝试跳一次，把**能跳到最远的距离**不断更新\n",
    "\n",
    "如果从这个**起跳点**起跳叫做第 1 次 跳跃，那么从后面 3 个格子起跳**都**可以叫做第 2 次 跳跃\n",
    "\n",
    "对每一次 跳跃 用 for 循环来模拟。跳完一次之后，更新下一次**起跳点**的范围。在新的范围内跳，更新能跳到最远的距离\n",
    "</font>"
   ]
  },
  {
   "cell_type": "code",
   "execution_count": null,
   "metadata": {},
   "outputs": [],
   "source": [
    "public int jump(int[] nums) {\n",
    "    if(nums.length == 1){\n",
    "        return 0;\n",
    "    }\n",
    "    int rightMost = 0;  // 在每一步中能跳的最远距离，不断更新\n",
    "    int start = 0, end = 0;  // 每次跳跃范围的边界\n",
    "    int count = 0;\n",
    "    while(end < nums.length){\n",
    "        for(int i = start; i <= end; i++){\n",
    "            rightMost = Math.max(rightMost, nums[i] + i); // 在每一步的范围中，更新最远距离\n",
    "        }\n",
    "        if(rightMost >= nums.length - 1){\n",
    "            return count + 1;\n",
    "        }\n",
    "        start = end + 1;  // 边界更新为新的范围\n",
    "        end = rightMost;\n",
    "        count++; // 一次循环就是一次跳跃\n",
    "    }\n",
    "    return count;\n",
    "}\n",
    "\n",
    "// 代码优化\n",
    "public int jump(int[] nums) {\n",
    "    if(nums.length == 1){\n",
    "        return 0;\n",
    "    }\n",
    "    int rightMost = 0;\n",
    "    int end = 0;\n",
    "    int count = 0;\n",
    "    for(int i = 0; i < nums.length; i++){\n",
    "        rightMost = Math.max(rightMost, nums[i] + i);\n",
    "        if(rightMost >= nums.length - 1){\n",
    "            return count + 1;\n",
    "        }\n",
    "        if(i == end){\n",
    "            count++;\n",
    "            end = rightMost;\n",
    "        }\n",
    "    }\n",
    "    return count;\n",
    "}"
   ]
  },
  {
   "cell_type": "markdown",
   "metadata": {},
   "source": [
    "<font color='dd0000'>方法2：BFS。将每一步能到达的范围看作是一层，一层一层的搜索，看每个下标是否能跳到末尾。同时用数组标记访问过的下标避免重复访问</font>"
   ]
  },
  {
   "cell_type": "code",
   "execution_count": null,
   "metadata": {},
   "outputs": [],
   "source": [
    "//bfs\n",
    "public int jump(int[] nums) {\n",
    "    int n = nums.length;\n",
    "    if(n <= 1){\n",
    "        return 0;\n",
    "    }\n",
    "    Queue<Integer> q = new LinkedList<>();  // 队列保存下标\n",
    "    boolean[] visited = new boolean[n];\n",
    "    q.offer(0);\n",
    "    visited[0] = true;\n",
    "    int count = 0;\n",
    "    while(!q.isEmpty()){\n",
    "        int size = q.size();\n",
    "        count++;\n",
    "        for(int i = 0; i < size; i++){\n",
    "            int index = q.poll();\n",
    "            for(int j = nums[index]; j > 0; j--){\n",
    "                if(index + j >= n - 1){  // 检查当前下标能不能跳到末尾\n",
    "                    return count;\n",
    "                }\n",
    "                if(visited[index + j]) continue;\n",
    "                visited[index + j] = true;\n",
    "                q.offer(index + j);  // 将当前下标index能跳到的范围内的下标都入队\n",
    "            }\n",
    "        }\n",
    "    }\n",
    "    return count;\n",
    "}"
   ]
  },
  {
   "cell_type": "markdown",
   "metadata": {},
   "source": [
    "## [238. Product of Array Except Self (medium)](https://leetcode-cn.com/problems/product-of-array-except-self/)"
   ]
  },
  {
   "cell_type": "markdown",
   "metadata": {},
   "source": [
    "Given an array ```nums``` of n integers where n > 1,  return an array ```output``` such that ```output[i]``` is equal to the product of all the elements of nums except ```nums[i]```.\n",
    "\n",
    "**Constraint:** It's guaranteed that the product of the elements of any prefix or suffix of the array (including the whole array) fits in a 32 bit integer.\n",
    "\n",
    "**Note:** Please solve it **without division** and in O(n)."
   ]
  },
  {
   "cell_type": "markdown",
   "metadata": {},
   "source": [
    "<font color='dd0000'>对于```nums[i]```，所求结果为它前面的数的乘积，乘上它后面的数的乘积。所以两次遍历，一次从前往后，记录下```i```以前的乘积，再一次从后往前，把```i```后面的结果乘到之前的乘积上即可。</font>"
   ]
  },
  {
   "cell_type": "code",
   "execution_count": 1,
   "metadata": {},
   "outputs": [],
   "source": [
    "public int[] productExceptSelf(int[] nums) {\n",
    "    int n = nums.length;\n",
    "    int[] output = new int[n];\n",
    "    int product = 1;\n",
    "    // 从前往后\n",
    "    output[0] = 1;\n",
    "    for(int i = 1; i < n; i++){\n",
    "        product *= nums[i - 1];\n",
    "        output[i] = product;\n",
    "    }\n",
    "    // 从后往前\n",
    "    product = 1;\n",
    "    for(int i = n - 2; i >= 0; i--){\n",
    "        product *= nums[i + 1];\n",
    "        output[i] *= product;  // 从后往前时，把后面的积直接乘进去\n",
    "    }\n",
    "    return output;\n",
    "}"
   ]
  },
  {
   "cell_type": "markdown",
   "metadata": {},
   "source": [
    "## [54. Spiral Matrix (medium)](https://leetcode-cn.com/problems/spiral-matrix/)"
   ]
  },
  {
   "cell_type": "markdown",
   "metadata": {},
   "source": [
    "Given a matrix of m x n elements (m rows, n columns), return all elements of the matrix in spiral order."
   ]
  },
  {
   "cell_type": "markdown",
   "metadata": {},
   "source": [
    "<font color='dd0000'>\n",
    "\n",
    "**解法一：** 设置方向数组和方向变量，当到边界时，通过方向变量**取模**来改变方向\n",
    "\n",
    "**解法二：** 每次进行一个方向的移动后，缩小边界，直到所有边界相遇\n",
    "\n",
    "</font>"
   ]
  },
  {
   "cell_type": "code",
   "execution_count": null,
   "metadata": {},
   "outputs": [],
   "source": [
    "// 方法一\n",
    "public List<Integer> spiralOrder(int[][] matrix) {\n",
    "    List<Integer> res = new ArrayList<>();\n",
    "    if(matrix.length == 0){\n",
    "        return res;\n",
    "    }\n",
    "    int[] dx = {0, 1, 0, -1}, dy = {1, 0, -1, 0}; // 四个方向：右下左上\n",
    "    int d = 0;  // 方向变量, 控制每次前进的方向\n",
    "    int x = 0, y = 0; // 保存每一步的坐标\n",
    "    int m = matrix.length, n = matrix[0].length;\n",
    "    for(int k = 0; k < m * n; k++){\n",
    "        res.add(matrix[x][y]);\n",
    "        matrix[x][y] = Integer.MIN_VALUE; // 标记已经访问过\n",
    "        int i = x + dx[d], j = y + dy[d]; // 下一个坐标位置, 因为可能不合法，所以不直接更新x和y\n",
    "        if(i < 0 || i >= m || j < 0 || j >= n || matrix[i][j] == Integer.MIN_VALUE){ // 如果位置不合法, 改变方向\n",
    "            d = (d + 1) % 4;  // 用取模控制方向\n",
    "            i = x + dx[d];\n",
    "            j = y + dy[d];\n",
    "        }\n",
    "        x = i; // 更新坐标\n",
    "        y = j;\n",
    "    }\n",
    "    return res;\n",
    "}\n",
    "\n",
    "// 方法二\n",
    "public List<Integer> spiralOrder(int[][] matrix) {\n",
    "    List<Integer> res = new ArrayList<>();\n",
    "    if(matrix.length == 0){\n",
    "        return res;\n",
    "    }\n",
    "    int top = 0, bottom = matrix.length - 1, left = 0, right = matrix[0].length - 1; // 四个边界\n",
    "    while(true){\n",
    "        for(int i = left; i <= right; i++){ // 右移\n",
    "            res.add(matrix[top][i]);\n",
    "        }\n",
    "        if(++top > bottom) break; // 右移后下调上边界\n",
    "\n",
    "        for(int i = top; i <= bottom; i++){ // 下移\n",
    "            res.add(matrix[i][right]);\n",
    "        }\n",
    "        if(--right < left) break; // 下移后左调右边界\n",
    "\n",
    "        for(int i = right; i >= left; i--){ // 左移\n",
    "            res.add(matrix[bottom][i]);\n",
    "        }\n",
    "        if(--bottom < top) break; // 左移后上调下边界\n",
    "\n",
    "        for(int i = bottom; i >= top; i--){ // 上移\n",
    "            res.add(matrix[i][left]);\n",
    "        }\n",
    "        if(++left > right) break; // 上移后右调左边界\n",
    "    }\n",
    "    return res;\n",
    "}"
   ]
  }
 ],
 "metadata": {
  "kernelspec": {
   "display_name": "Java",
   "language": "java",
   "name": "java"
  },
  "language_info": {
   "codemirror_mode": "java",
   "file_extension": ".jshell",
   "mimetype": "text/x-java-source",
   "name": "Java",
   "pygments_lexer": "java",
   "version": "12.0.2+10"
  }
 },
 "nbformat": 4,
 "nbformat_minor": 2
}
