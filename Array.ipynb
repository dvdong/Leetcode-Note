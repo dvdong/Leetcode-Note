{
 "cells": [
  {
   "cell_type": "markdown",
   "metadata": {},
   "source": [
    "# <center>Array"
   ]
  },
  {
   "cell_type": "markdown",
   "metadata": {},
   "source": [
    "## 1013. Partition Array Into Three Parts With Equal Sum (easy)"
   ]
  },
  {
   "cell_type": "markdown",
   "metadata": {},
   "source": [
    "Given an array ```A``` of integers, return true if and only if we can partition the array into three non-empty parts with equal sums.\n",
    "\n",
    "Formally, we can partition the array if we can find indexes ```i+1 < j``` with ```(A[0] + A[1] + ... + A[i] == A[i+1] + A[i+2] + ... + A[j-1] == A[j] + A[j-1] + ... + A[A.length - 1])```"
   ]
  },
  {
   "cell_type": "markdown",
   "metadata": {},
   "source": [
    "https://leetcode-cn.com/problems/partition-array-into-three-parts-with-equal-sum/"
   ]
  },
  {
   "cell_type": "code",
   "execution_count": 3,
   "metadata": {},
   "outputs": [],
   "source": [
    "public boolean canThreePartsEqualSum(int[] A) {\n",
    "    int sum = 0;\n",
    "    for(int a : A)\n",
    "        sum += a;\n",
    "    if(sum % 3 != 0) return false;\n",
    "    int part = sum / 3;\n",
    "    int count = 0;\n",
    "    int add = 0;\n",
    "    for(int i = 0; i < A.length - 1; i++){ // 最多只循环到倒数第二位，确保还有第3段\n",
    "        add += A[i];\n",
    "        if(add == part){\n",
    "            add = 0;\n",
    "            count++;\n",
    "            if(count == 2) return true; // 已经找到2段，又在循环控制必定有第三段，所以此时一定为true\n",
    "        }\n",
    "    }\n",
    "    return false;\n",
    "}"
   ]
  },
  {
   "cell_type": "markdown",
   "metadata": {},
   "source": [
    "## 169. Majority Element (easy)"
   ]
  },
  {
   "cell_type": "markdown",
   "metadata": {},
   "source": [
    "Given an array of size n, find the majority element. The majority element is the element that appears **more than** ```⌊ n/2 ⌋``` times.\n",
    "\n",
    "You may assume that the array is non-empty and the majority element always exist in the array.\n"
   ]
  },
  {
   "cell_type": "markdown",
   "metadata": {},
   "source": [
    "https://leetcode-cn.com/problems/majority-element/"
   ]
  },
  {
   "cell_type": "code",
   "execution_count": 4,
   "metadata": {},
   "outputs": [],
   "source": [
    "// 方法一：投票法\n",
    "// 从第一个数开始count=1，遇到相同的就加1，遇到不同的就减1，减到0就换成下一个数重新开始计数，最终保存下来的数就是Majority Element\n",
    "\n",
    "public int majorityElement(int[] nums) {\n",
    "    int cur = nums[0];\n",
    "    int count = 1;\n",
    "    for(int i = 1; i < nums.length; i++){\n",
    "        if(nums[i] == cur) count++;\n",
    "        else if(--count == 0){\n",
    "            cur = nums[i + 1];  // 因为当i是最后一位时，count不可能为0，所以此处i+1不会越界\n",
    "        }\n",
    "    }\n",
    "    return cur;\n",
    "}"
   ]
  },
  {
   "cell_type": "code",
   "execution_count": 1,
   "metadata": {},
   "outputs": [],
   "source": [
    "// 方法二：用哈希表统计每个元素次数\n",
    "\n",
    "public int majorityElement2(int[] nums) {\n",
    "    int n = nums.length;\n",
    "    Map<Integer, Integer> map = new HashMap<>();\n",
    "    int ans = 0;\n",
    "    for(int num : nums){\n",
    "        if(!map.containsKey(num)){\n",
    "            map.put(num, 1);\n",
    "        } else{\n",
    "            map.put(num, map.get(num) + 1);\n",
    "        }\n",
    "        if(map.get(num) > n / 2){\n",
    "            ans = num;\n",
    "            break;\n",
    "        }\n",
    "    }\n",
    "    return ans;\n",
    "}"
   ]
  },
  {
   "cell_type": "code",
   "execution_count": 7,
   "metadata": {},
   "outputs": [],
   "source": [
    "// 方法三：分治法\n",
    "//         分：当数组只剩一个元素时，Majority Element就是该元素\n",
    "//         合：看两个数组的Majority element哪个在合起来的数组里更多\n",
    "\n",
    "private int merge(int[] nums, int a, int b, int left, int right){\n",
    "    if(a == b) return a;\n",
    "    \n",
    "    int count1 = 0, count2 = 0;\n",
    "    for(int i = left; i <= right; i++){\n",
    "        if(nums[i] == a) count1++;\n",
    "        else if(nums[i] == b) count2++;\n",
    "    }\n",
    "    return count1 >= count2 ? a : b;\n",
    "}\n",
    "\n",
    "private int split(int[] nums, int left, int right){\n",
    "    if(left >= right) return nums[left];\n",
    "    \n",
    "    int mid = left + (right - left) / 2;\n",
    "    int a = split(nums, left, mid);\n",
    "    int b = split(nums, mid + 1, right);\n",
    "    return merge(nums, a, b, left, right);\n",
    "}\n",
    "\n",
    "public int majorityElement3(int[] nums) {\n",
    "    return split(nums, 0, nums.length - 1);\n",
    "}"
   ]
  },
  {
   "cell_type": "code",
   "execution_count": 8,
   "metadata": {},
   "outputs": [],
   "source": [
    "// 方法四：排序 因为Majority Element的数量大于n/2，所以如果排好序，它一定会在n/2的位置\n",
    "\n",
    "public int majorityElement4(int[] nums) {\n",
    "    Arrays.sort(nums);\n",
    "    return nums[nums.length / 2];\n",
    "}"
   ]
  }
 ],
 "metadata": {
  "kernelspec": {
   "display_name": "Java",
   "language": "java",
   "name": "java"
  },
  "language_info": {
   "codemirror_mode": "java",
   "file_extension": ".jshell",
   "mimetype": "text/x-java-source",
   "name": "Java",
   "pygments_lexer": "java",
   "version": "12.0.2+10"
  }
 },
 "nbformat": 4,
 "nbformat_minor": 2
}
