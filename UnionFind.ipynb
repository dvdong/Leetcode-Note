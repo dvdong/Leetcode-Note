{
 "cells": [
  {
   "cell_type": "markdown",
   "metadata": {},
   "source": [
    "# <center>UnionFind"
   ]
  },
  {
   "cell_type": "code",
   "execution_count": 1,
   "metadata": {},
   "outputs": [],
   "source": [
    "// 并查集实现类\n",
    "class UnionFind{\n",
    "    int[] roots;\n",
    "\n",
    "    public UnionFind(int n){\n",
    "        roots = new int[n];\n",
    "        for(int i = 0; i < n; i++){\n",
    "            roots[i] = i;\n",
    "        }\n",
    "    }\n",
    "\n",
    "    public int findRoot(int i){ // 寻找指定节点的根节点\n",
    "        int root = i;\n",
    "        while(roots[root] != root){\n",
    "            root = roots[root];\n",
    "        }\n",
    "        /*\n",
    "        路径压缩\n",
    "        while(i != roots[i]){\n",
    "            int temp = roots[i];\n",
    "            roots[i] = root;\n",
    "            i = temp;\n",
    "        }\n",
    "        */\n",
    "        return root;\n",
    "    }\n",
    "\n",
    "    public boolean connected(int p, int q){ // 判断两个点是否属于一个集\n",
    "        return findRoot(p) == findRoot(q);\n",
    "    }\n",
    "\n",
    "    public void union(int p, int q){ // 合并两个集\n",
    "        int pRoot = findRoot(p);\n",
    "        int qRoot = findRoot(q);\n",
    "        roots[pRoot] = qRoot;\n",
    "    }\n",
    "}"
   ]
  },
  {
   "cell_type": "markdown",
   "metadata": {},
   "source": [
    "## [990. Satisfiability of Equality Equations (medium)](https://leetcode-cn.com/problems/satisfiability-of-equality-equations/)"
   ]
  },
  {
   "cell_type": "markdown",
   "metadata": {},
   "source": [
    "Given an array ```equations``` of strings that represent relationships between variables, each string ```equations[i]``` has length ```4``` and takes one of two different forms: ```\"a==b\"``` or ```\"a!=b\"```.  Here, a and b are lowercase letters (not necessarily different) that represent one-letter variable names.\n",
    "\n",
    "Return ```true``` if and only if it is possible to assign integers to variable names so as to satisfy all the given equations."
   ]
  },
  {
   "cell_type": "markdown",
   "metadata": {},
   "source": [
    "<font color='dd0000'>\n",
    "\n",
    "由于等式相等具有传递性，比较容易想到使用并查集。并查集可以用来解决集合相交/不相交的问题\n",
    "\n",
    "</font>"
   ]
  },
  {
   "cell_type": "code",
   "execution_count": null,
   "metadata": {},
   "outputs": [],
   "source": [
    "public boolean equationsPossible(String[] equations) {\n",
    "    UnionFind uf = new UnionFind(26); // 都是小写字母 所以大小为26\n",
    "    // 先处理等式，等式说明将两边的字符放在同一集中\n",
    "    for(String equation : equations){\n",
    "        if(equation.charAt(1) == '!'){ // 跳过不等式\n",
    "            continue;\n",
    "        }\n",
    "        int c1 = equation.charAt(0) - 'a';\n",
    "        int c2 = equation.charAt(3) - 'a';\n",
    "        uf.union(c1, c2);\n",
    "    }\n",
    "    // 再处理不等式，不等式说明两个字符应该在不同集，如果在同一集则说明不成立，返回false\n",
    "    for(String equation : equations){\n",
    "        if(equation.charAt(1) == '='){\n",
    "            continue;\n",
    "        }\n",
    "        int c1 = equation.charAt(0) - 'a';\n",
    "        int c2 = equation.charAt(3) - 'a';\n",
    "        if(uf.connected(c1, c2)){\n",
    "            return false;\n",
    "        }\n",
    "    }\n",
    "    return true;\n",
    "}"
   ]
  }
 ],
 "metadata": {
  "kernelspec": {
   "display_name": "Java",
   "language": "java",
   "name": "java"
  },
  "language_info": {
   "codemirror_mode": "java",
   "file_extension": ".jshell",
   "mimetype": "text/x-java-source",
   "name": "Java",
   "pygments_lexer": "java",
   "version": "12.0.2+10"
  }
 },
 "nbformat": 4,
 "nbformat_minor": 2
}
