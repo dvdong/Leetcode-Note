{
 "cells": [
  {
   "cell_type": "markdown",
   "metadata": {},
   "source": [
    "# <center>Double Pointer"
   ]
  },
  {
   "cell_type": "markdown",
   "metadata": {},
   "source": [
    "## [167. Two Sum II - Input array is sorted (easy)](https://leetcode-cn.com/problems/two-sum-ii-input-array-is-sorted/)"
   ]
  },
  {
   "cell_type": "markdown",
   "metadata": {},
   "source": [
    "Given an array of integers that is already sorted in ascending order, find two numbers such that they add up to a specific target number.\n",
    "\n",
    "The function twoSum should return indices of the two numbers such that they add up to the target, where index1 must be less than index2.\n",
    "\n",
    "**Note:**\n",
    "\n",
    "- Your returned answers (both index1 and index2) are not zero-based.\n",
    "\n",
    "- You may assume that each input would have exactly one solution and you may not use the same element twice"
   ]
  },
  {
   "cell_type": "markdown",
   "metadata": {},
   "source": [
    "<font color='dd0000'>利用数组有序的特征，使用前后两个双指针，分别移动</font>"
   ]
  },
  {
   "cell_type": "code",
   "execution_count": 1,
   "metadata": {},
   "outputs": [],
   "source": [
    "public int[] twoSum(int[] numbers, int target) {\n",
    "    int i = 0 , j = numbers.length - 1;\n",
    "    while(i < j){\n",
    "        if(numbers[i] + numbers[j] == target)\n",
    "            return new int[]{i + 1, j + 1};\n",
    "\n",
    "        if(numbers[i] + numbers[j] > target) // 大了需要减小，移动j指针\n",
    "            j--;\n",
    "        if(numbers[i] + numbers[j] < target)  // 小了需要增大，移动i指针\n",
    "            i++;\n",
    "    }\n",
    "    return null;\n",
    "}"
   ]
  },
  {
   "cell_type": "markdown",
   "metadata": {},
   "source": [
    "## [15. 3Sum (medium)](https://leetcode-cn.com/problems/3sum/)"
   ]
  },
  {
   "cell_type": "markdown",
   "metadata": {},
   "source": [
    "Given an array ```nums``` of n integers, are there elements a, b, c in ```nums``` such that a + b + c = 0? Find all unique triplets in the array which gives the sum of zero.\n",
    "\n",
    "**Note:**\n",
    "\n",
    "The solution set must not contain duplicate triplets."
   ]
  },
  {
   "cell_type": "markdown",
   "metadata": {},
   "source": [
    "<font color='dd0000'>\n",
    "\n",
    "固定一个数，在剩下的数中找两个数之和为这个数的负数，转为 Two Sum 问题\n",
    "\n",
    "为了避免重复解，对数组排序，依次查找，对它后面的数求两数之和\n",
    "\n",
    "对有序数组解两数之和即转换为上题，用双指针\n",
    "\n",
    "</font>"
   ]
  },
  {
   "cell_type": "code",
   "execution_count": null,
   "metadata": {},
   "outputs": [],
   "source": [
    "public List<List<Integer>> threeSum(int[] nums) {\n",
    "    List<List<Integer>> res = new ArrayList<>();\n",
    "    Arrays.sort(nums);\n",
    "    for(int i = 0; i < nums.length; i++){\n",
    "        if(nums[i] > 0){ // 当数>0时, 因为有序, 后面不可能存在三数之和为0的情况, 进行剪枝提高速度\n",
    "            return res;\n",
    "        }\n",
    "        if(i > 0 && nums[i] == nums[i - 1]){ // 处理重复情况\n",
    "            continue;\n",
    "        }\n",
    "        twoSum(nums, i, res);\n",
    "    }\n",
    "    return res;\n",
    "}\n",
    "\n",
    "private void twoSum(int[] nums, int index, List<List<Integer>> res){\n",
    "    int i = index + 1, j = nums.length - 1;\n",
    "    int target = -nums[index];\n",
    "    while(i < j){\n",
    "        if(nums[i] + nums[j] < target){\n",
    "            i++;\n",
    "        } else if(nums[i] + nums[j] > target){\n",
    "            j--;\n",
    "        } else{\n",
    "            List<Integer> list = new ArrayList<>();\n",
    "            list.add(nums[index]);\n",
    "            list.add(nums[i]);\n",
    "            list.add(nums[j]);\n",
    "            res.add(list);\n",
    "            i++;\n",
    "            // 处理重复情况\n",
    "            while(i < nums.length && nums[i] == nums[i - 1]){\n",
    "                i++;\n",
    "            }\n",
    "        }\n",
    "    }\n",
    "}"
   ]
  },
  {
   "cell_type": "markdown",
   "metadata": {},
   "source": [
    "## [10.01. Sorted Merge (easy)](https://leetcode-cn.com/problems/sorted-merge-lcci/)"
   ]
  },
  {
   "cell_type": "markdown",
   "metadata": {},
   "source": [
    "You are given two sorted arrays, A and B, where A has a large enough buffer at the end to hold B. Write a method to merge B into A in sorted order.\n",
    "\n",
    "Initially the number of elements in A and B are m and n respectively."
   ]
  },
  {
   "cell_type": "markdown",
   "metadata": {},
   "source": [
    "<font color='dd0000'>因为数组A后面有足够空间，A B的元素个数又已知，所以**逆向的用双指针**原地修改A数组</font>"
   ]
  },
  {
   "cell_type": "code",
   "execution_count": 1,
   "metadata": {},
   "outputs": [],
   "source": [
    "public void merge(int[] A, int m, int[] B, int n) {\n",
    "    int i = m - 1, j = n -1, k = m + n - 1; // i j分别从两个数组的尾部开始，从大到小排序。k表示当前填数的位置\n",
    "    while(i >= 0 && j >= 0){\n",
    "        if(A[i] > B[j])\n",
    "            A[k--] = A[i--];\n",
    "        else \n",
    "            A[k--] = B[j--];\n",
    "    }\n",
    "    while(j >= 0)        // 当B数组遍历完就结束了\n",
    "        A[k--] = B[j--];\n",
    "}"
   ]
  },
  {
   "cell_type": "markdown",
   "metadata": {},
   "source": [
    "## [面试题57 - II. 和为s的连续正数序列 (easy)](https://leetcode-cn.com/problems/he-wei-sde-lian-xu-zheng-shu-xu-lie-lcof/)"
   ]
  },
  {
   "cell_type": "markdown",
   "metadata": {},
   "source": [
    "输入一个正整数 ```target``` ，输出所有和为 ```target``` 的连续正整数序列（至少含有两个数）。\n",
    "\n",
    "序列内的数字由小到大排列，不同序列按照首个数字从小到大排列。"
   ]
  },
  {
   "cell_type": "markdown",
   "metadata": {},
   "source": [
    "<font color='dd0000'>双指针(滑动窗口思想)。⭐**注意List转为数组的方法**⭐</font>"
   ]
  },
  {
   "cell_type": "code",
   "execution_count": 1,
   "metadata": {},
   "outputs": [],
   "source": [
    "public int[][] findContinuousSequence(int target) {\n",
    "    List<int[]> ans = new ArrayList<>();\n",
    "    int i = 1;  // 指向窗口左边界\n",
    "    int j = 2;  // 指向窗口右边界\n",
    "    int sum = i + j;\n",
    "    while(i < j && j <= target / 2 + 1){\n",
    "        if(sum < target){\n",
    "            j++;\n",
    "            sum += j;\n",
    "        } else if(sum > target){\n",
    "            sum -= i;\n",
    "            i++;\n",
    "        } else {\n",
    "            int[] arr = new int[j - i + 1];\n",
    "            for(int k = i; k <= j; k++){\n",
    "                arr[k - i] = k;\n",
    "            }\n",
    "            ans.add(arr);\n",
    "            sum -= i;   // 得到一个解后，左边界右移\n",
    "            i++;\n",
    "        }\n",
    "    }\n",
    "    return ans.toArray(new int[ans.size()][]); // List -> 数组\n",
    "}"
   ]
  },
  {
   "cell_type": "markdown",
   "metadata": {},
   "source": [
    "## ⭐[42. Trapping Rain Water (hard) [Double Pointer and Stack]](https://leetcode-cn.com/problems/trapping-rain-water/submissions/)"
   ]
  },
  {
   "cell_type": "markdown",
   "metadata": {},
   "source": [
    "Given n non-negative integers representing an elevation map where the width of each bar is 1, compute how much water it is able to trap after raining."
   ]
  },
  {
   "cell_type": "markdown",
   "metadata": {},
   "source": [
    "![](https://assets.leetcode-cn.com/aliyun-lc-upload/uploads/2018/10/22/rainwatertrap.png)\n",
    "\n",
    "上面是由数组 [0,1,0,2,1,0,1,3,2,1,2,1] 表示的高度图，在这种情况下，可以接 6 个单位的雨水（蓝色部分表示雨水）"
   ]
  },
  {
   "cell_type": "code",
   "execution_count": 4,
   "metadata": {},
   "outputs": [],
   "source": [
    "// 方法一：暴力 O(n2)\n",
    "//         对每一个高度height[i]，找它左边最高的点和右边最高的点，它能接到的高度是较小的那个减去自身的高度\n",
    "public int trap1(int[] height){\n",
    "    int res = 0;\n",
    "    for(int i = 0; i < height.length; i++){\n",
    "        int l = i, r = i;\n",
    "        int index = l;\n",
    "        while(index >= 0){\n",
    "            if(height[index] > height[l]){  // l: 左边最高点的下标\n",
    "                l = index;\n",
    "            }\n",
    "            index--;\n",
    "        }\n",
    "        index = r;\n",
    "        while(index < height.length){\n",
    "            if(height[index] > height[r]){  // r: 右边最高点的下标\n",
    "                r = index;\n",
    "            }\n",
    "            index++;\n",
    "        }\n",
    "        res += Math.min(height[l], height[r]) - height[i];\n",
    "    }\n",
    "    return res;\n",
    "}\n",
    "\n",
    "// 方法二：对暴力法的优化 O(n)\n",
    "//         可以先求出每个点i左右最高的点分别是什么，用两个数组保存\n",
    "public int trap2(int[] height){\n",
    "    int n = height.length;\n",
    "    int[] l = new int[n];  // 保存第i个点左边的最高值\n",
    "    l[0] = height[0];\n",
    "    int[] r = new int[n];  // 保存第i个点右边的最高值\n",
    "    r[n-1] = height[n-1]; \n",
    "    for(int i = 1; i < n; i++){\n",
    "        l[i] = Math.max(height[i], l[i-1]);\n",
    "    }\n",
    "    for(int i = n - 2; i >= 0; i--){\n",
    "        r[i] = Math.max(height[i], r[i+1]);\n",
    "    }\n",
    "    int res = 0;\n",
    "    for(int i = 0; i < n; i++){\n",
    "        res += Math.min(l[i], r[i]) - height[i];\n",
    "    }\n",
    "    return res;\n",
    "}"
   ]
  },
  {
   "cell_type": "markdown",
   "metadata": {},
   "source": [
    "<font color='dd0000'>\n",
    "    \n",
    "⭐双指针解法：\n",
    "\n",
    "1. 在某个位置i处，它能存的水，取决于它左右两边的最大值中较小的一个；\n",
    "\n",
    "\n",
    "2. 当从左往右处理到左指针left时，左边的最大值left_max对它而言是可信的，但right_max对它而言是不可信的。（由于中间状况未知，对于left而言，right_max未必就是它右边最大的值）\n",
    "\n",
    "\n",
    "3. 当从右往左处理到右指针right时，右边的最大值right_max对它而言是可信的，但left_max对它而言是不可信的\n",
    "\n",
    "</font>"
   ]
  },
  {
   "cell_type": "code",
   "execution_count": 6,
   "metadata": {},
   "outputs": [],
   "source": [
    "// 方法三：双指针\n",
    "public int trap3(int[] height){\n",
    "    int left = 0, right = height.length - 1;\n",
    "    int left_max = height[left];\n",
    "    int right_max = height[right];\n",
    "    int res = 0;\n",
    "    while(left < right){\n",
    "        if(left_max < right_max){            // 当left_max小于right_max时，left位置能接的高度就能确定了\n",
    "            res += left_max - height[left];  // 无论右边将来会不会出现更大的right_max，都不影响这个结果\n",
    "            left_max = Math.max(left_max, height[++left]);\n",
    "        } else{\n",
    "            res += right_max - height[right];\n",
    "            right_max = Math.max(right_max, height[--right]);\n",
    "        }\n",
    "    }\n",
    "    return res;\n",
    "}"
   ]
  },
  {
   "cell_type": "markdown",
   "metadata": {},
   "source": [
    "<font color='dd0000'>栈解法：单调栈，类似【求矩形的最大面积】</font>"
   ]
  },
  {
   "cell_type": "code",
   "execution_count": 7,
   "metadata": {},
   "outputs": [],
   "source": [
    "// 方法四：单调栈\n",
    "public int trap3(int[] height){\n",
    "    Stack<Integer> s = new Stack<>();\n",
    "    int res = 0;\n",
    "    for(int i = 0; i < height.length; i++){\n",
    "        while(!s.isEmpty() && height[i] > height[s.peek()]){\n",
    "            int j = s.pop();\n",
    "            if(s.isEmpty()) break;\n",
    "            int k = s.peek();\n",
    "            if(height[k] == height[j]) continue;\n",
    "            res += (Math.min(height[k], height[i]) - height[j]) * (i - k - 1);\n",
    "        }\n",
    "        s.push(i);\n",
    "    }\n",
    "    return res;\n",
    "}"
   ]
  },
  {
   "cell_type": "markdown",
   "metadata": {},
   "source": [
    "## [11. Container With Most Water (medium)](https://leetcode-cn.com/problems/container-with-most-water/submissions/)"
   ]
  },
  {
   "cell_type": "markdown",
   "metadata": {},
   "source": [
    "Given n non-negative integers a1, a2, ..., an , where each represents a point at coordinate ```(i, ai)```. ```n``` vertical lines are drawn such that the two endpoints of line ```i``` is at ```(i, ai)``` and ```(i, 0)```. Find two lines, which together with x-axis forms a container, such that the container contains the most water."
   ]
  },
  {
   "cell_type": "markdown",
   "metadata": {},
   "source": [
    "![](https://aliyun-lc-upload.oss-cn-hangzhou.aliyuncs.com/aliyun-lc-upload/uploads/2018/07/25/question_11.jpg)\n",
    "\n",
    "图中垂直线代表输入数组 [1,8,6,2,5,4,8,3,7]。在此情况下，容器能够容纳水（表示为蓝色部分）的最大值为 49。"
   ]
  },
  {
   "cell_type": "markdown",
   "metadata": {},
   "source": [
    "<font color='dd0000'>双指针：从左右往中间逼近，每次移动高度低的那个指针，因为结果取决于【两边低的高度$\\times$宽度】，若移动高的指针，结果必不可能增大</font>"
   ]
  },
  {
   "cell_type": "code",
   "execution_count": null,
   "metadata": {},
   "outputs": [],
   "source": [
    "public int maxArea(int[] height) {\n",
    "    int l = 0;\n",
    "    int r = height.length - 1;\n",
    "    int res = 0;\n",
    "    while(l < r){\n",
    "        if(height[l] < height[r]){\n",
    "            res = Math.max(res, height[l] * (r - l));\n",
    "            l++;\n",
    "        } else {\n",
    "            res = Math.max(res, height[r] * (r - l));\n",
    "            r--;\n",
    "        }\n",
    "    }\n",
    "    return res;\n",
    "}"
   ]
  },
  {
   "cell_type": "markdown",
   "metadata": {},
   "source": [
    "## [125. Valid Palindrome (easy)](https://leetcode-cn.com/problems/valid-palindrome/)"
   ]
  },
  {
   "cell_type": "markdown",
   "metadata": {},
   "source": [
    "Given a string, determine if it is a palindrome, considering only alphanumeric characters and ignoring cases.\n",
    "\n",
    "**Note:** For the purpose of this problem, we define empty string as valid palindrome."
   ]
  },
  {
   "cell_type": "code",
   "execution_count": 2,
   "metadata": {},
   "outputs": [],
   "source": [
    "public boolean isPalindrome(String s) {\n",
    "    int i = 0, j = s.length() - 1;  // 双指针\n",
    "    while(i < j){\n",
    "        char c1 = s.charAt(i);\n",
    "        char c2 = s.charAt(j);\n",
    "        // 判断两个字符不是字母或数字的情况\n",
    "        if(!((c1 >= 'a' && c1 <= 'z') \n",
    "              || (c1 >= 'A' && c1 <= 'Z') \n",
    "              || (c1 >= '0' && c1 <= '9'))){\n",
    "            i++;\n",
    "            continue;\n",
    "        }\n",
    "        if(!((c2 >= 'a' && c2 <= 'z') \n",
    "              || (c2 >= 'A' && c2 <= 'Z') \n",
    "              || (c2 >= '0' && c2 <= '9'))){\n",
    "            j--;\n",
    "            continue;\n",
    "        }\n",
    "        // 如果相等：注意要限定是大写字母。因为大小写用ASCII做加法判断的话，由于字符串中有数字，可能出现数字+32等于字母\n",
    "        if(c1 == c2 \n",
    "              || (c1 >= 'A' && c1 <= 'Z' && c1 + 32 == c2) \n",
    "              || (c2 >= 'A' && c2 <= 'Z' && c2 + 32 == c1)){\n",
    "            i++;\n",
    "            j--;\n",
    "            continue;\n",
    "        }\n",
    "        return false;\n",
    "    }\n",
    "    return true;\n",
    "}"
   ]
  },
  {
   "cell_type": "markdown",
   "metadata": {},
   "source": [
    "## [680. Valid Palindrome II (easy)](https://leetcode-cn.com/problems/valid-palindrome-ii/)"
   ]
  },
  {
   "cell_type": "markdown",
   "metadata": {},
   "source": [
    "Given a non-empty string ```s```, you may delete **at most** one character. Judge whether you can make it a palindrome."
   ]
  },
  {
   "cell_type": "code",
   "execution_count": 1,
   "metadata": {},
   "outputs": [],
   "source": [
    "public boolean validPalindrome(String s) {\n",
    "    int i = 0, j = s.length() - 1;   // 回文串的判断，用双指针，一头一尾向中间靠近\n",
    "    while(i < j){\n",
    "        if(s.charAt(i) == s.charAt(j)){  // 当回文成立时两个指针不断前移，直到遇到不同的字符，即要删除的字符\n",
    "            i++;\n",
    "            j--;\n",
    "            continue;\n",
    "        }\n",
    "        // 当两个字符不相同时，必须要删除一个字符才可能使字符串回文\n",
    "        // 如果删除i字符，那么如果i+1 ~ j的子串是回文的，那么整个字符串也是回文\n",
    "        // 如果删除j字符，那么如果i ~ j-1的子串是回文的，那么整个字符串也是回文\n",
    "        // 所以只需判断删去后的这两种情况，其中一种成立即可\n",
    "        return helper(s, i, j - 1) || helper(s, i + 1, j);\n",
    "    }\n",
    "    return true;\n",
    "}\n",
    "\n",
    "// 判断回文的方法\n",
    "private boolean helper(String s, int i, int j){\n",
    "    while(i < j){\n",
    "        if(s.charAt(i) != s.charAt(j)){\n",
    "            return false;\n",
    "        }\n",
    "        i++;\n",
    "        j--;\n",
    "    }\n",
    "    return true;\n",
    "}"
   ]
  },
  {
   "cell_type": "markdown",
   "metadata": {},
   "source": [
    "## ⭐[76. Minimum Window Substring (hard)](https://leetcode-cn.com/problems/minimum-window-substring/)"
   ]
  },
  {
   "cell_type": "markdown",
   "metadata": {},
   "source": [
    "Given a string S and a string T, find the minimum window in S which will contain all the characters in T in complexity O(n).\n",
    "\n",
    "**Note:**\n",
    "\n",
    "- If there is no such window in S that covers all characters in T, return the empty string \"\".\n",
    "- If there is such window, you are guaranteed that there will always be only one unique minimum window in S."
   ]
  },
  {
   "cell_type": "markdown",
   "metadata": {},
   "source": [
    "<font color='dd0000'>**双指针，滑动窗口**  搞清楚左右边界滑动的条件</font>"
   ]
  },
  {
   "cell_type": "code",
   "execution_count": 1,
   "metadata": {},
   "outputs": [],
   "source": [
    "/*\n",
    "    关键点：1.怎么判断s的窗口内已经包含t中全部的字符：哈希表统计字符数\n",
    "            2.右边界 j 向右滑动的条件\n",
    "            3.左边界 i 向右滑动的条件：直到找齐了t中的所有字符\n",
    "*/\n",
    "\n",
    "public String minWindow(String s, String t) {\n",
    "    if(s.length() < t.length() || s.length() == 0){\n",
    "        return \"\";\n",
    "    }\n",
    "\n",
    "    char[] sChars = s.toCharArray(); // 转为字符数组，这样通过下标访问字符会更快一些\n",
    "    char[] tChars = t.toCharArray(); // s.charAt()会多一步判断下标是否合法\n",
    "    int m = s.length();\n",
    "    int n = t.length();\n",
    "    int[] sMap = new int[128]; // 用两个map来记录对应字符的出现次数\n",
    "    int[] tMap = new int[128];\n",
    "    for(char ch : tChars){ // 记录下字符串T中所有字符和他们的个数\n",
    "        tMap[ch]++;\n",
    "    }\n",
    "    int distance = 0;  // 变量distance表示两个map中对应字符的距离，当distance等于n时，说明已经包含了全部字符\n",
    "    int i = 0, j = 0;  \n",
    "    int start = 0, len = m + 1; // len初值设为一个不可能被取到的值，用于判断无解的情况\n",
    "    while(j < m){\n",
    "        char c = sChars[j];\n",
    "        if(tMap[c] == 0){  // 如果不是t中的字符，j直接右移\n",
    "            j++;\n",
    "            continue;\n",
    "        }      \n",
    "        // 如果是t中字符\n",
    "        if(sMap[c] < tMap[c]){  // 仅当sMap中该字符的个数小于tMap中个数时，才+1。因为可能某个字符包含了多个，但并不能对减小距离做贡献\n",
    "            distance++;\n",
    "        }\n",
    "        sMap[c]++;   // sMap统计的数量+1\n",
    "        j++;  // j先移到下一位\n",
    "        \n",
    "        while(distance == n){  // 当距离达到n时，就可以得到一个结果，并将左边界 i 右移;右移不一定减少t中字符,所以循环判断\n",
    "            if(j - i < len){   // 通过移动 i 减小窗口大小\n",
    "                start = i;\n",
    "                len = j - i;\n",
    "            }\n",
    "            char cc = sChars[i];\n",
    "            if(tMap[cc] == 0){  // 如果是其他字符，直接继续右移\n",
    "                i++;\n",
    "                continue;\n",
    "            }\n",
    "            if(sMap[cc] == tMap[cc]){  // 可能sMap中cc的个数多余tMap中的个数，所以仅当二者相等时才减小距离，进入这里才会再次移动j\n",
    "                distance--;\n",
    "            }\n",
    "            sMap[cc]--;  // 如果是t中字符，sMap中次数-1\n",
    "            i++;  // i右移\n",
    "        }\n",
    "    }\n",
    "    return len == m + 1 ? \"\" : s.substring(start, start + len);\n",
    "}"
   ]
  },
  {
   "cell_type": "markdown",
   "metadata": {},
   "source": [
    "## [209. Minimum Size Subarray Sum (medium)](https://leetcode-cn.com/problems/minimum-size-subarray-sum/)"
   ]
  },
  {
   "cell_type": "markdown",
   "metadata": {},
   "source": [
    "Given an array of **n** positive integers and a positive integer **s**, find the minimal length of a **contiguous subarray** of which the sum ≥ **s**. If there isn't one, return 0 instead."
   ]
  },
  {
   "cell_type": "markdown",
   "metadata": {},
   "source": [
    "<font color='dd0000'>\n",
    "\n",
    "**连续子数组问题**，两种思路：1.滑动窗口(双指针); 2.前缀和(再结合哈希表、二分查找等)\n",
    "\n",
    "</font>"
   ]
  },
  {
   "cell_type": "code",
   "execution_count": null,
   "metadata": {},
   "outputs": [],
   "source": [
    "// 因为都是正整数,又是连续子数组问题,所以用双指针\n",
    "// 当和小于s时,扩大窗口;大于s时,缩小窗口\n",
    "public int minSubArrayLen(int s, int[] nums) {\n",
    "    if(nums.length == 0){\n",
    "        return 0;\n",
    "    }\n",
    "    int l = 0, r = 0, sum = 0;\n",
    "    int res = Integer.MAX_VALUE;\n",
    "    while(r < nums.length){  // 边界条件 右指针小于数组长度\n",
    "        sum += nums[r];\n",
    "        while(sum >= s){  // 当和大于等于s时,就去掉窗口左边的数,直到小于s或窗口为空(l > r时表示窗口空了)\n",
    "            res = Math.min(res, r - l + 1);\n",
    "            sum -= nums[l];\n",
    "            l++;\n",
    "        }\n",
    "        r++;\n",
    "    }\n",
    "    return res == Integer.MAX_VALUE ? 0 : res;\n",
    "}\n",
    "\n",
    "// 用前缀和\n",
    "// 由于正整数的条件,前缀和数组是递增的\n",
    "// 所以对每一个前缀和数组的i, 二分查找一个最小的j, 使两者之差大于等于s, 这个子数组的长度就是\n",
    "// 复杂度O(nlogn)\n",
    "public int minSubArrayLen(int s, int[] nums) {\n",
    "    // 求前缀和数组 prefix[i]表示0 ~ i-1的和\n",
    "    int n = nums.length;\n",
    "    int[] prefix = new int[n + 1];\n",
    "    for(int i = 1; i <= n; i++){\n",
    "        prefix[i] = prefix[i - 1] + nums[i - 1];\n",
    "    }\n",
    "    // 二分查找\n",
    "    int res = Integer.MAX_VALUE;\n",
    "    for(int i = 0; i <= n; i++){ // 对每个i，从它后面找\n",
    "        int left = i + 1, right = n;\n",
    "        while(left < right){\n",
    "            int mid = left + (right - left) / 2;             \n",
    "            if(prefix[mid] - prefix[i] >= s){ // 表示i ~ mid - 1的和大于等于s\n",
    "                right = mid;\n",
    "            } else {\n",
    "                left = mid + 1;\n",
    "            }\n",
    "        }\n",
    "        if(left <= n && prefix[left] - prefix[i] >= s){ // 如果最后查找的结果满足条件\n",
    "            res = Math.min(res, left - i);\n",
    "        }\n",
    "    }\n",
    "    return res == Integer.MAX_VALUE ? 0 : res;\n",
    "}"
   ]
  }
 ],
 "metadata": {
  "kernelspec": {
   "display_name": "Java",
   "language": "java",
   "name": "java"
  },
  "language_info": {
   "codemirror_mode": "java",
   "file_extension": ".jshell",
   "mimetype": "text/x-java-source",
   "name": "Java",
   "pygments_lexer": "java",
   "version": "12.0.2+10"
  }
 },
 "nbformat": 4,
 "nbformat_minor": 2
}
