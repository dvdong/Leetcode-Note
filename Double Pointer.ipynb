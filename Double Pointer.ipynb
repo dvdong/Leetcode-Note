{
 "cells": [
  {
   "cell_type": "markdown",
   "metadata": {},
   "source": [
    "# <center>Double Pointer"
   ]
  },
  {
   "cell_type": "markdown",
   "metadata": {},
   "source": [
    "## 167. Two Sum II - Input array is sorted (easy)"
   ]
  },
  {
   "cell_type": "markdown",
   "metadata": {},
   "source": [
    "Given an array of integers that is already sorted in ascending order, find two numbers such that they add up to a specific target number.\n",
    "\n",
    "The function twoSum should return indices of the two numbers such that they add up to the target, where index1 must be less than index2.\n",
    "\n",
    "Note:\n",
    "\n",
    "Your returned answers (both index1 and index2) are not zero-based.\n",
    "\n",
    "You may assume that each input would have exactly one solution and you may not use the same element twice"
   ]
  },
  {
   "cell_type": "code",
   "execution_count": 1,
   "metadata": {},
   "outputs": [],
   "source": [
    "public int[] twoSum(int[] numbers, int target) {\n",
    "    int i = 0 , j = numbers.length - 1;\n",
    "    while(i < j){\n",
    "        if(numbers[i] + numbers[j] == target)\n",
    "            return new int[]{i + 1, j + 1};\n",
    "\n",
    "        if(numbers[i] + numbers[j] > target)\n",
    "            j--;\n",
    "        if(numbers[i] + numbers[j] < target)\n",
    "            i++;\n",
    "    }\n",
    "    return null;\n",
    "}"
   ]
  },
  {
   "cell_type": "markdown",
   "metadata": {},
   "source": [
    "<font color='dd0000'>利用数组有序的特征，使用前后两个双指针，分别移动</font>"
   ]
  },
  {
   "cell_type": "markdown",
   "metadata": {},
   "source": [
    "## 10.01. Sorted Merge (easy)"
   ]
  },
  {
   "cell_type": "markdown",
   "metadata": {},
   "source": [
    "You are given two sorted arrays, A and B, where A has a large enough buffer at the end to hold B. Write a method to merge B into A in sorted order.\n",
    "\n",
    "Initially the number of elements in A and B are m and n respectively."
   ]
  },
  {
   "cell_type": "markdown",
   "metadata": {},
   "source": [
    "<font color='dd0000'>因为数组A后面有足够空间，A B的元素个数又已知，所以**逆向的用双指针**原地修改A数组</font>"
   ]
  },
  {
   "cell_type": "code",
   "execution_count": 1,
   "metadata": {},
   "outputs": [],
   "source": [
    "public void merge(int[] A, int m, int[] B, int n) {\n",
    "    int i = m - 1, j = n -1, k = m + n - 1;\n",
    "    while(i >= 0 && j >= 0){\n",
    "        if(A[i] > B[j])\n",
    "            A[k--] = A[i--];\n",
    "        else \n",
    "            A[k--] = B[j--];\n",
    "    }\n",
    "    while(j >= 0)\n",
    "        A[k--] = B[j--];\n",
    "}"
   ]
  }
 ],
 "metadata": {
  "kernelspec": {
   "display_name": "Java",
   "language": "java",
   "name": "java"
  },
  "language_info": {
   "codemirror_mode": "java",
   "file_extension": ".jshell",
   "mimetype": "text/x-java-source",
   "name": "Java",
   "pygments_lexer": "java",
   "version": "12.0.2+10"
  }
 },
 "nbformat": 4,
 "nbformat_minor": 2
}
