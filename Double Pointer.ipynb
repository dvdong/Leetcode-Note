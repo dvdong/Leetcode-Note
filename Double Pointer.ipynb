{
 "cells": [
  {
   "cell_type": "markdown",
   "metadata": {},
   "source": [
    "# <center>Double Pointer"
   ]
  },
  {
   "cell_type": "markdown",
   "metadata": {},
   "source": [
    "## 167. Two Sum II - Input array is sorted (easy)"
   ]
  },
  {
   "cell_type": "markdown",
   "metadata": {},
   "source": [
    "Given an array of integers that is already sorted in ascending order, find two numbers such that they add up to a specific target number.\n",
    "\n",
    "The function twoSum should return indices of the two numbers such that they add up to the target, where index1 must be less than index2.\n",
    "\n",
    "Note:\n",
    "\n",
    "Your returned answers (both index1 and index2) are not zero-based.\n",
    "\n",
    "You may assume that each input would have exactly one solution and you may not use the same element twice"
   ]
  },
  {
   "cell_type": "code",
   "execution_count": 1,
   "metadata": {},
   "outputs": [],
   "source": [
    "public int[] twoSum(int[] numbers, int target) {\n",
    "    int i = 0 , j = numbers.length - 1;\n",
    "    while(i < j){\n",
    "        if(numbers[i] + numbers[j] == target)\n",
    "            return new int[]{i + 1, j + 1};\n",
    "\n",
    "        if(numbers[i] + numbers[j] > target)\n",
    "            j--;\n",
    "        if(numbers[i] + numbers[j] < target)\n",
    "            i++;\n",
    "    }\n",
    "    return null;\n",
    "}"
   ]
  },
  {
   "cell_type": "markdown",
   "metadata": {},
   "source": [
    "<font color='dd0000'>利用数组有序的特征，使用前后两个双指针，分别移动</font>"
   ]
  },
  {
   "cell_type": "markdown",
   "metadata": {},
   "source": [
    "## 10.01. Sorted Merge (easy)"
   ]
  },
  {
   "cell_type": "markdown",
   "metadata": {},
   "source": [
    "You are given two sorted arrays, A and B, where A has a large enough buffer at the end to hold B. Write a method to merge B into A in sorted order.\n",
    "\n",
    "Initially the number of elements in A and B are m and n respectively."
   ]
  },
  {
   "cell_type": "markdown",
   "metadata": {},
   "source": [
    "<font color='dd0000'>因为数组A后面有足够空间，A B的元素个数又已知，所以**逆向的用双指针**原地修改A数组</font>"
   ]
  },
  {
   "cell_type": "code",
   "execution_count": 1,
   "metadata": {},
   "outputs": [],
   "source": [
    "public void merge(int[] A, int m, int[] B, int n) {\n",
    "    int i = m - 1, j = n -1, k = m + n - 1;\n",
    "    while(i >= 0 && j >= 0){\n",
    "        if(A[i] > B[j])\n",
    "            A[k--] = A[i--];\n",
    "        else \n",
    "            A[k--] = B[j--];\n",
    "    }\n",
    "    while(j >= 0)\n",
    "        A[k--] = B[j--];\n",
    "}"
   ]
  },
  {
   "cell_type": "markdown",
   "metadata": {},
   "source": [
    "## 面试题57 - II. 和为s的连续正数序列 (easy)"
   ]
  },
  {
   "cell_type": "markdown",
   "metadata": {},
   "source": [
    "输入一个正整数 ```target``` ，输出所有和为 ```target``` 的连续正整数序列（至少含有两个数）。\n",
    "\n",
    "序列内的数字由小到大排列，不同序列按照首个数字从小到大排列。"
   ]
  },
  {
   "cell_type": "markdown",
   "metadata": {},
   "source": [
    "<font color='dd0000'>双指针(滑动窗口思想)。⭐**注意List转为数组的方法**⭐</font>"
   ]
  },
  {
   "cell_type": "code",
   "execution_count": 1,
   "metadata": {},
   "outputs": [],
   "source": [
    "public int[][] findContinuousSequence(int target) {\n",
    "    List<int[]> ans = new ArrayList<>();\n",
    "    int i = 1;  // 指向窗口左边界\n",
    "    int j = 2;  // 指向窗口有边界\n",
    "    int sum = i + j;\n",
    "    while(i < j && j <= target / 2 + 1){\n",
    "        if(sum < target){\n",
    "            j++;\n",
    "            sum += j;\n",
    "        } else if(sum > target){\n",
    "            sum -= i;\n",
    "            i++;\n",
    "        } else {\n",
    "            int[] arr = new int[j - i + 1];\n",
    "            for(int k = i; k <= j; k++){\n",
    "                arr[k - i] = k;\n",
    "            }\n",
    "            ans.add(arr);\n",
    "            sum -= i;   // 得到一个解后，左边界右移\n",
    "            i++;\n",
    "        }\n",
    "    }\n",
    "    return ans.toArray(new int[ans.size()][]); // List -> 数组\n",
    "}"
   ]
  }
 ],
 "metadata": {
  "kernelspec": {
   "display_name": "Java",
   "language": "java",
   "name": "java"
  },
  "language_info": {
   "codemirror_mode": "java",
   "file_extension": ".jshell",
   "mimetype": "text/x-java-source",
   "name": "Java",
   "pygments_lexer": "java",
   "version": "12.0.2+10"
  }
 },
 "nbformat": 4,
 "nbformat_minor": 2
}
