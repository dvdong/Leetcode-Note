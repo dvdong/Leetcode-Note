{
 "cells": [
  {
   "cell_type": "markdown",
   "metadata": {},
   "source": [
    "# <center>Sort"
   ]
  },
  {
   "cell_type": "markdown",
   "metadata": {},
   "source": [
    "## [56. Merge Intervals (medium)](https://leetcode-cn.com/problems/merge-intervals/)"
   ]
  },
  {
   "cell_type": "markdown",
   "metadata": {},
   "source": [
    "Given a collection of intervals, merge all overlapping intervals."
   ]
  },
  {
   "cell_type": "code",
   "execution_count": 3,
   "metadata": {},
   "outputs": [],
   "source": [
    "public int[][] merge(int[][] intervals) {\n",
    "    // 首先对区间数组按起点从小到大进行排序，这样合并操作可以从左至右依序进行\n",
    "    Arrays.sort(intervals, new Comparator<int[]>(){\n",
    "        public int compare(int[] arr1, int[] arr2){\n",
    "            return arr1[0] - arr2[0];\n",
    "        }\n",
    "    });\n",
    "    \n",
    "    // 思路一：用一个指针i遍历区间，若i+1的起点小于i的终点，就进行合并，直到i+1的起点大于i的终点\n",
    "    List<int[]> res = new ArrayList<>();\n",
    "    int i = 0;\n",
    "    while(i < intervals.length){\n",
    "        int left = intervals[i][0];   // 第i个区间的起点\n",
    "        int right = intervals[i][1];  // 第i个区间的终点\n",
    "        while(i < intervals.length - 1 && right >= intervals[i + 1][0]){ // 因为要取i+1，所以i < length-1\n",
    "            i++;\n",
    "            right = Math.max(right, intervals[i][1]);  // 更新终点，注意取最大值\n",
    "        }\n",
    "        // 直到i的终点(right)小于i+1的起点，将left到right合并\n",
    "        res.add(new int[]{left, right});\n",
    "        i++; //继续看下一个区间\n",
    "    }\n",
    "    return res.toArray(new int[res.size()][]);\n",
    "}\n",
    "\n",
    "\n",
    "public int[][] merge2(int[][] intervals) {\n",
    "    // 首先对区间数组按起点从小到大进行排序，这样合并操作可以从左至右依序进行\n",
    "    Arrays.sort(intervals, new Comparator<int[]>(){\n",
    "        public int compare(int[] arr1, int[] arr2){\n",
    "            return arr1[0] - arr2[0];\n",
    "        }\n",
    "    });\n",
    "    \n",
    "    // 思路二：对于当前区间，依次看它后面的区间能否合并\n",
    "    List<int[]> res = new ArrayList<>();\n",
    "    Set<Integer> merged = new HashSet<>(); // 用来保存已合并过的区间，合并过的区间不再重复访问\n",
    "    for(int i = 0; i < intervals.length; i++){\n",
    "        if(merged.contains(i)) continue;\n",
    "        int[] cur = intervals[i];\n",
    "        for(int j = i + 1; j < intervals.length; j++){ //因为已排序，所以从i+1开始看\n",
    "            if(intervals[j][0] <= cur[1]){\n",
    "                cur[1] = Math.max(cur[1], intervals[j][1]);\n",
    "                merged.add(j);\n",
    "            } else break;\n",
    "        }\n",
    "        res.add(cur);\n",
    "    }\n",
    "    return res.toArray(new int[res.size()][]);\n",
    "}"
   ]
  },
  {
   "cell_type": "markdown",
   "metadata": {},
   "source": [
    "## [剑指Offer 40. 最小的k个数 (easy)](https://leetcode-cn.com/problems/zui-xiao-de-kge-shu-lcof/)"
   ]
  },
  {
   "cell_type": "markdown",
   "metadata": {},
   "source": [
    "输入整数数组 ```arr``` ，找出其中最小的 ```k``` 个数。例如，输入4、5、1、6、2、7、3、8这8个数字，则最小的4个数字是1、2、3、4。"
   ]
  },
  {
   "cell_type": "markdown",
   "metadata": {},
   "source": [
    "<font color='dd0000'>\n",
    "\n",
    "**Top K**类问题，3种解法：\n",
    "\n",
    "1. 快排(最优)：不需要对整个数组进行排序，只需要根据交换点的位置决定下一轮排哪一半，当交换点正好是*K-1*时就可以结束（结果可能无序）；\n",
    "\n",
    "\n",
    "2. 堆：维护一个大小为*K*的堆，堆中始终保持最小或最大的*K*个数。Java中可用优先队列来创建堆；\n",
    "\n",
    "\n",
    "3. BST：（只能用于Top K个最小的数）和堆思想类似，维护大小为*K*的BST，始终保持最小的*K*个数。Java中用TreeMap创建。\n",
    "\n",
    "</font>"
   ]
  },
  {
   "cell_type": "code",
   "execution_count": 11,
   "metadata": {},
   "outputs": [],
   "source": [
    "// 方法1：快排\n",
    "public int[] getLeastNumbers11(int[] arr, int k) {\n",
    "    quickSort(arr, 0, arr.length - 1, k);\n",
    "    int[] res = new int[k];\n",
    "    for(int i = 0; i < k; i++){\n",
    "        res[i] = arr[i];\n",
    "    }\n",
    "    return res;\n",
    "}\n",
    "\n",
    "private void quickSort(int[] arr, int left, int right, int k){\n",
    "    int i = left;\n",
    "    int j = right;\n",
    "    int baseIndex = (int) (Math.random() * (right - left)) + left; // !!!随机选择基准点\n",
    "    swap(arr, left, baseIndex);\n",
    "    int base = arr[left];\n",
    "    while(i != j){\n",
    "        while(j > i && arr[j] >= base) j--;\n",
    "        while(i < j && arr[i] <= base) i++;\n",
    "        swap(arr, i, j);\n",
    "    }\n",
    "    swap(arr, left, i);\n",
    "    if(i == k - 1) return;  // 如果交换点就是k-1位置，它左边一定都是比它小的，就不需要再排了，直接返回\n",
    "    if(i > k - 1) quickSort(arr, left, i - 1, k);  // 如果交换点 > k-1，就再对左边排\n",
    "    if(i < k - 1) quickSort(arr, i + 1, right, k); // 如果交换点 < k-1，就再对右边排\n",
    "}\n",
    "\n",
    "private void swap(int[] arr, int i, int j){\n",
    "    int t = arr[i];\n",
    "    arr[i] = arr[j];\n",
    "    arr[j] = t;\n",
    "}\n",
    "\n",
    "\n",
    "\n",
    "// 另一种写法：每次用快排切分返回交换点索引，再对索引进行判断\n",
    "public int[] getLeastNumbers12(int[] arr, int k) {\n",
    "    if(arr.length < 1 || k == 0)\n",
    "        return new int[0];\n",
    "\n",
    "    return helper(arr, 0, arr.length - 1, k);        \n",
    "}\n",
    "\n",
    "private int[] helper(int[] arr, int left, int right, int k){\n",
    "    int index = quickPartition(arr, left, right);\n",
    "    if(index == k - 1) return Arrays.copyOf(arr, k);\n",
    "    return index > (k - 1) ? helper(arr, left, index - 1, k) : helper(arr, index + 1, right, k);\n",
    "}\n",
    "\n",
    "// 返回的是交换点的索引\n",
    "private int quickPartition(int[] arr, int left, int right){\n",
    "    int i = left;\n",
    "    int j = right;\n",
    "    int base = arr[left];\n",
    "    while(i != j){\n",
    "        while(j > i && arr[j] >= base) j--;\n",
    "        while(i < j && arr[i] <= base) i++;\n",
    "        int temp = arr[i];\n",
    "        arr[i] = arr[j];\n",
    "        arr[j] = temp;\n",
    "    }\n",
    "    arr[left] = arr[i];\n",
    "    arr[i] = base;\n",
    "    return i;\n",
    "}"
   ]
  },
  {
   "cell_type": "code",
   "execution_count": 12,
   "metadata": {},
   "outputs": [],
   "source": [
    "// 方法2：堆\n",
    "public int[] getLeastNumbers2(int[] arr, int k) {\n",
    "    if(arr.length < 1 || k == 0)\n",
    "        return new int[0];\n",
    "        \n",
    "    // 默认的是小顶堆，但是本题要求最小的K个数，遍历时要让大的数出队，所以用比较器创建大顶堆\n",
    "    Queue<Integer> heap = new PriorityQueue<>(new Comparator<Integer>(){\n",
    "        public int compare(Integer a1, Integer a2){\n",
    "            return a2 - a1;\n",
    "        }\n",
    "    });\n",
    "    for(int i = 0; i < arr.length; i++){\n",
    "        if(heap.size() < k){\n",
    "            heap.offer(arr[i]);\n",
    "        }\n",
    "        else{\n",
    "            if(arr[i] < heap.peek()){ // 当前值更小，就把大的数弹出，当前数进队\n",
    "                heap.poll();\n",
    "                heap.offer(arr[i]);\n",
    "            }\n",
    "        }\n",
    "    }\n",
    "    int[] res = new int[k];\n",
    "    for(int i = 0; i < k; i++){\n",
    "        res[i] = heap.poll();\n",
    "    }\n",
    "    return res;\n",
    "}"
   ]
  },
  {
   "cell_type": "code",
   "execution_count": 13,
   "metadata": {},
   "outputs": [],
   "source": [
    "// 方法3：BST\n",
    "public int[] getLeastNumbers2(int[] arr, int k) {\n",
    "    if(arr.length < 1 || k == 0)\n",
    "        return new int[0];\n",
    "    \n",
    "    // TreeMap中，key是数组中的数字，value是该数字的个数。总个数不能超过k\n",
    "    TreeMap<Integer, Integer> BST = new TreeMap<>();\n",
    "    int count = 0;\n",
    "    for(int a : arr){\n",
    "        if(count < k){\n",
    "            BST.put(a, BST.getOrDefault(a, 0) + 1);  // 注意 getOrDefault(key, defaultValue)方法的使用\n",
    "            count++;\n",
    "        } else{\n",
    "            Map.Entry<Integer, Integer> biggest = BST.lastEntry(); // 取出最大的数，即BST中的最后一个\n",
    "            if(a < biggest.getKey()){\n",
    "                BST.put(a, BST.getOrDefault(a, 0) + 1);\n",
    "                if(biggest.getValue() == 1) BST.pollLastEntry();\n",
    "                else BST.put(biggest.getKey(), biggest.getValue() - 1);\n",
    "            }\n",
    "        }\n",
    "    }\n",
    "    int[] res = new int[k];\n",
    "    int index = 0;\n",
    "    for(Map.Entry<Integer, Integer> entry : BST.entrySet()){\n",
    "        int n = entry.getValue();\n",
    "        while(n-- != 0){\n",
    "            res[index++] = entry.getKey();\n",
    "        }\n",
    "    }\n",
    "    return res;\n",
    "}"
   ]
  },
  {
   "cell_type": "markdown",
   "metadata": {},
   "source": [
    "## [215. Kth Largest Element in an Array (medium)](https://leetcode-cn.com/problems/kth-largest-element-in-an-array/)"
   ]
  },
  {
   "cell_type": "markdown",
   "metadata": {},
   "source": [
    "Find the **k**th largest element in an unsorted array. Note that it is the kth largest element in the sorted order, not the kth distinct element."
   ]
  },
  {
   "cell_type": "markdown",
   "metadata": {},
   "source": [
    "<font color='dd0000'>和上题同样的思路，不过是求**第*K*大**的。下面只写出快排解法</font>"
   ]
  },
  {
   "cell_type": "code",
   "execution_count": 14,
   "metadata": {},
   "outputs": [],
   "source": [
    "public int findKthLargest(int[] nums, int k) {\n",
    "    quickSort(nums, 0, nums.length - 1, k);\n",
    "    return nums[k - 1];\n",
    "}\n",
    "    \n",
    "private void quickSort(int[] nums, int left, int right, int k){\n",
    "    int i = left;\n",
    "    int j = right;\n",
    "    int baseIndex = (int) (Math.random() * (right - left) + left);\n",
    "    int base = nums[baseIndex]; //随机选择基准值\n",
    "    nums[baseIndex] = nums[left];\n",
    "    nums[left] = base;\n",
    "    while(i != j){\n",
    "        while( j > i && nums[j] <= base) j--;\n",
    "        while( i < j && nums[i] >= base) i++;\n",
    "        int temp = nums[i];\n",
    "        nums[i] = nums[j];\n",
    "        nums[j] = temp;\n",
    "    }\n",
    "    nums[left] = nums[i];\n",
    "    nums[i] = base;\n",
    "    if(i == k - 1) return;\n",
    "    if(i > k - 1) quickSort(nums, left, i - 1, k);\n",
    "    if(i < k - 1) quickSort(nums, i + 1, right, k);\n",
    "}"
   ]
  }
 ],
 "metadata": {
  "kernelspec": {
   "display_name": "Java",
   "language": "java",
   "name": "java"
  },
  "language_info": {
   "codemirror_mode": "java",
   "file_extension": ".jshell",
   "mimetype": "text/x-java-source",
   "name": "Java",
   "pygments_lexer": "java",
   "version": "12.0.2+10"
  }
 },
 "nbformat": 4,
 "nbformat_minor": 2
}
