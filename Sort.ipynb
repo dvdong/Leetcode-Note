{
 "cells": [
  {
   "cell_type": "markdown",
   "metadata": {},
   "source": [
    "# <center>Sort"
   ]
  },
  {
   "cell_type": "markdown",
   "metadata": {},
   "source": [
    "## 56. Merge Intervals (medium)"
   ]
  },
  {
   "cell_type": "markdown",
   "metadata": {},
   "source": [
    "Given a collection of intervals, merge all overlapping intervals."
   ]
  },
  {
   "cell_type": "markdown",
   "metadata": {},
   "source": [
    "https://leetcode-cn.com/problems/merge-intervals/"
   ]
  },
  {
   "cell_type": "code",
   "execution_count": 3,
   "metadata": {},
   "outputs": [],
   "source": [
    "public int[][] merge(int[][] intervals) {\n",
    "    // 首先对区间数组按起点从小到大进行排序，这样合并操作可以从左至右依序进行\n",
    "    Arrays.sort(intervals, new Comparator<int[]>(){\n",
    "        public int compare(int[] arr1, int[] arr2){\n",
    "            return arr1[0] - arr2[0];\n",
    "        }\n",
    "    });\n",
    "    \n",
    "    // 思路一：用一个指针i遍历区间，若i+1的起点小于i的终点，就进行合并，直到i+1的起点大于i的终点\n",
    "    List<int[]> res = new ArrayList<>();\n",
    "    int i = 0;\n",
    "    while(i < intervals.length){\n",
    "        int left = intervals[i][0];   // 第i个区间的起点\n",
    "        int right = intervals[i][1];  // 第i个区间的终点\n",
    "        while(i < intervals.length - 1 && right >= intervals[i + 1][0]){ // 因为要取i+1，所以i < length-1\n",
    "            i++;\n",
    "            right = Math.max(right, intervals[i][1]);  // 更新终点，注意取最大值\n",
    "        }\n",
    "        // 直到i的终点(right)小于i+1的起点，将left到right合并\n",
    "        res.add(new int[]{left, right});\n",
    "        i++; //继续看下一个区间\n",
    "    }\n",
    "    return res.toArray(new int[res.size()][]);\n",
    "}\n",
    "\n",
    "\n",
    "public int[][] merge2(int[][] intervals) {\n",
    "    // 首先对区间数组按起点从小到大进行排序，这样合并操作可以从左至右依序进行\n",
    "    Arrays.sort(intervals, new Comparator<int[]>(){\n",
    "        public int compare(int[] arr1, int[] arr2){\n",
    "            return arr1[0] - arr2[0];\n",
    "        }\n",
    "    });\n",
    "    \n",
    "    // 思路二：对于当前区间，依次看它后面的区间能否合并\n",
    "    List<int[]> res = new ArrayList<>();\n",
    "    Set<Integer> merged = new HashSet<>(); // 用来保存已合并过的区间，合并过的区间不再重复访问\n",
    "    for(int i = 0; i < intervals.length; i++){\n",
    "        if(merged.contains(i)) continue;\n",
    "        int[] cur = intervals[i];\n",
    "        for(int j = i + 1; j < intervals.length; j++){ //因为已排序，所以从i+1开始看\n",
    "            if(intervals[j][0] >= cur[1]){\n",
    "                cur[1] = Math.max(cur[1], intervals[j][1]);\n",
    "                merged.add(j);\n",
    "            } else break;\n",
    "        }\n",
    "        res.add(cur);\n",
    "    }\n",
    "    return res.toArray(new int[res.size()][]);\n",
    "}"
   ]
  }
 ],
 "metadata": {
  "kernelspec": {
   "display_name": "Java",
   "language": "java",
   "name": "java"
  },
  "language_info": {
   "codemirror_mode": "java",
   "file_extension": ".jshell",
   "mimetype": "text/x-java-source",
   "name": "Java",
   "pygments_lexer": "java",
   "version": "12.0.2+10"
  }
 },
 "nbformat": 4,
 "nbformat_minor": 2
}
