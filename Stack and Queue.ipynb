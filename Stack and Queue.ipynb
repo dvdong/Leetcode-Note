{
 "cells": [
  {
   "cell_type": "markdown",
   "metadata": {},
   "source": [
    "# <center> Stack and Queue"
   ]
  },
  {
   "cell_type": "markdown",
   "metadata": {},
   "source": [
    "## 232. Implement Queue using Stacks (easy)"
   ]
  },
  {
   "cell_type": "markdown",
   "metadata": {},
   "source": [
    "Implement the following operations of a queue using stacks.\n",
    "\n",
    "push(x) -- Push element x to the back of queue.\n",
    "\n",
    "pop() -- Removes the element from in front of queue.\n",
    "\n",
    "peek() -- Get the front element.\n",
    "\n",
    "empty() -- Return whether the queue is empty."
   ]
  },
  {
   "cell_type": "code",
   "execution_count": 2,
   "metadata": {},
   "outputs": [],
   "source": [
    "class MyQueue {\n",
    "    private Stack<Integer> s1;\n",
    "    private Stack<Integer> s2;\n",
    "\n",
    "    /** Initialize your data structure here. */\n",
    "    public MyQueue() {\n",
    "        s1 = new Stack<>();\n",
    "        s2 = new Stack<>();\n",
    "    }\n",
    "    \n",
    "    /** Push element x to the back of queue. */\n",
    "    public void push(int x) {\n",
    "        if(s2.isEmpty())\n",
    "            s2.push(x);\n",
    "        else\n",
    "            s1.push(x);\n",
    "    }\n",
    "    \n",
    "    /** Removes the element from in front of queue and returns that element. */\n",
    "    public int pop() {\n",
    "        int res = s2.pop();\n",
    "        if(s2.isEmpty()){\n",
    "            while(!s1.isEmpty()){\n",
    "                s2.push(s1.pop());\n",
    "            }\n",
    "        }\n",
    "        return res;\n",
    "    }\n",
    "    \n",
    "    /** Get the front element. */\n",
    "    public int peek() {\n",
    "        return s2.peek();\n",
    "    }\n",
    "    \n",
    "    /** Returns whether the queue is empty. */\n",
    "    public boolean empty() {\n",
    "        return s2.isEmpty() && s1.isEmpty();\n",
    "    }\n",
    "}"
   ]
  },
  {
   "cell_type": "markdown",
   "metadata": {},
   "source": [
    "## 225. Implement Stack using Queues (easy)"
   ]
  },
  {
   "cell_type": "markdown",
   "metadata": {},
   "source": [
    "Implement the following operations of a stack using queues.\n",
    "\n",
    "push(x) -- Push element x onto stack.\n",
    "\n",
    "pop() -- Removes the element on top of the stack.\n",
    "\n",
    "top() -- Get the top element.\n",
    "\n",
    "empty() -- Return whether the stack is empty."
   ]
  },
  {
   "cell_type": "code",
   "execution_count": 3,
   "metadata": {},
   "outputs": [],
   "source": [
    "class MyStack {\n",
    "    private Queue<Integer> q1;\n",
    "    private Queue<Integer> q2;\n",
    "    /** Initialize your data structure here. */\n",
    "    public MyStack() {\n",
    "        q1 = new LinkedList<>();\n",
    "        q2 = new LinkedList<>();\n",
    "    }\n",
    "    \n",
    "    /** Push element x onto stack. */\n",
    "    public void push(int x) {\n",
    "        while(!q1.isEmpty()){\n",
    "            q2.offer(q1.poll());\n",
    "        }\n",
    "        q1.offer(x);\n",
    "        while(!q2.isEmpty()){\n",
    "            q1.offer(q2.poll());\n",
    "        }\n",
    "    }\n",
    "    \n",
    "    /** Removes the element on top of the stack and returns that element. */\n",
    "    public int pop() {\n",
    "        return q1.poll();\n",
    "    }\n",
    "    \n",
    "    /** Get the top element. */\n",
    "    public int top() {\n",
    "        return q1.peek();\n",
    "    }\n",
    "    \n",
    "    /** Returns whether the stack is empty. */\n",
    "    public boolean empty() {\n",
    "        return q1.isEmpty();\n",
    "    }\n",
    "}"
   ]
  }
 ],
 "metadata": {
  "kernelspec": {
   "display_name": "Java",
   "language": "java",
   "name": "java"
  },
  "language_info": {
   "codemirror_mode": "java",
   "file_extension": ".jshell",
   "mimetype": "text/x-java-source",
   "name": "Java",
   "pygments_lexer": "java",
   "version": "12.0.2+10"
  }
 },
 "nbformat": 4,
 "nbformat_minor": 2
}
