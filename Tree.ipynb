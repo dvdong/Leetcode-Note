{
 "cells": [
  {
   "cell_type": "markdown",
   "metadata": {},
   "source": [
    "# <center>Tree"
   ]
  },
  {
   "cell_type": "code",
   "execution_count": 2,
   "metadata": {},
   "outputs": [],
   "source": [
    "public class TreeNode {\n",
    "    int val;\n",
    "    TreeNode left;\n",
    "    TreeNode right;\n",
    "    TreeNode(int x) { val = x; }\n",
    "}"
   ]
  },
  {
   "cell_type": "markdown",
   "metadata": {},
   "source": [
    "## 104. Maximum Depth of Binary Tree (easy)"
   ]
  },
  {
   "cell_type": "markdown",
   "metadata": {},
   "source": [
    "Given a binary tree, find its maximum depth.\n",
    "\n",
    "The maximum depth is the number of nodes along the longest path from the root node down to the farthest leaf node."
   ]
  },
  {
   "cell_type": "code",
   "execution_count": 4,
   "metadata": {},
   "outputs": [],
   "source": [
    "// 递归解法\n",
    "\n",
    "public int maxDepth2(TreeNode root){\n",
    "    if(root == null) return 0;\n",
    "    \n",
    "    int leftDepth = maxDepth2(root.left);\n",
    "    int rightDepth = maxDepth2(root.right);\n",
    "    return Math.max(leftDepth, rightDepth) + 1;\n",
    "}"
   ]
  },
  {
   "cell_type": "code",
   "execution_count": 3,
   "metadata": {},
   "outputs": [],
   "source": [
    "// BFS解法\n",
    "\n",
    "public int maxDepth(TreeNode root) {\n",
    "    if(root == null)\n",
    "        return 0;\n",
    "    Queue<TreeNode> q = new LinkedList<>();\n",
    "    q.offer(root);\n",
    "    int depth = 0;\n",
    "    while(!q.isEmpty()){\n",
    "        depth++;\n",
    "        int size = q.size();\n",
    "        for(int i = 0; i < size; i++){  // 每个内循环的次数为数每层的结点数\n",
    "            TreeNode temp = q.poll();\n",
    "            if(temp.left != null)\n",
    "                q.offer(temp.left);\n",
    "            if(temp.right != null)\n",
    "                q.offer(temp.right);\n",
    "        }\n",
    "    }\n",
    "    return depth;\n",
    "}"
   ]
  },
  {
   "cell_type": "markdown",
   "metadata": {},
   "source": [
    "## <font color='dddd00'>110. Balanced Binary Tree (easy)"
   ]
  },
  {
   "cell_type": "markdown",
   "metadata": {},
   "source": [
    "Given a binary tree, determine if it is height-balanced.\n",
    "\n",
    "For this problem, a height-balanced binary tree is defined as:\n",
    "\n",
    "a binary tree in which the left and right subtrees of every node differ in height by no more than 1."
   ]
  },
  {
   "cell_type": "code",
   "execution_count": 8,
   "metadata": {},
   "outputs": [],
   "source": [
    "// 每次递归求高度，判断高度差，再对子树递归\n",
    "\n",
    "public boolean isBalanced(TreeNode root) {\n",
    "    if(root == null)\n",
    "        return true;\n",
    "    int leftHeight = getHeight(root.left);\n",
    "    int rightHeight = getHeight(root.right);\n",
    "    if(Math.abs(leftHeight - rightHeight) > 1)\n",
    "        return false;\n",
    "    return isBalanced(root.left) && isBalanced(root.right);\n",
    "}\n",
    "\n",
    "private int getHeight(TreeNode root){\n",
    "    if(root == null)\n",
    "        return 0;\n",
    "    int leftHeight = getHeight(root.left);\n",
    "    int rightHeight = getHeight(root.right);\n",
    "    return Math.max(leftHeight, rightHeight) + 1;\n",
    "}"
   ]
  },
  {
   "cell_type": "code",
   "execution_count": 5,
   "metadata": {},
   "outputs": [],
   "source": [
    "// 解法2，更优化,在求高度的方法里加入对高度差的判断，避免用两次递归\n",
    "\n",
    "private boolean res = true;\n",
    "public boolean isBalanced(TreeNode root) {\n",
    "    if(root == null)\n",
    "        return true;\n",
    "    helper(root);\n",
    "    return res;\n",
    "}\n",
    "\n",
    "private int helper(TreeNode root){   // 返回值是树的高度\n",
    "    if(root == null)\n",
    "        return 0;\n",
    "    int leftHeight = helper(root.left);            // 分别递归求两棵树的高度\n",
    "    int rightHeight = helper(root.right);\n",
    "    if(leftHeight == -1 || rightHeight == -1)     // 递归过程中，如果有一棵树的高度为-1，就说明整棵树都不平衡，把结果记录在res中\n",
    "        res = false;\n",
    "   \n",
    "   if(Math.abs(leftHeight - rightHeight) > -1)    // 如果对某个root来说，左右不平衡了就返回-1高度，用-1表示一棵树不平衡\n",
    "        return -1;\n",
    "    return Math.max(leftHeight, rightHeight) + 1;  // 平衡的树就正常返回树高\n",
    "}"
   ]
  },
  {
   "cell_type": "markdown",
   "metadata": {},
   "source": [
    "## <font color='dddd00'>543. Diameter of Binary Tree (easy)"
   ]
  },
  {
   "cell_type": "markdown",
   "metadata": {},
   "source": [
    "Given a binary tree, you need to compute the length of the diameter of the tree. The diameter of a binary tree is the length of the longest path between any two nodes in a tree. This path may or may not pass through the root.\n",
    "\n",
    "Note: The length of path between two nodes is represented by the number of edges between them."
   ]
  },
  {
   "cell_type": "code",
   "execution_count": 4,
   "metadata": {},
   "outputs": [],
   "source": [
    "int ans = 1;  // 初始值为1，因为表示的是结点数\n",
    "public int diameterOfBinaryTree(TreeNode root) {\n",
    "    maxDepth(root);    // 调用求深度的函数,ans在中间保存结果\n",
    "    return ans - 1;    // ans是结点数,返回边数\n",
    "}\n",
    "\n",
    "private int maxDepth(TreeNode root){\n",
    "    if(root == null) return 0;\n",
    "    int L = maxDepth(root.left);\n",
    "    int R = maxDepth(root.right);\n",
    "    ans = Math.max(ans, L + R + 1);   // 左边的最大深度+右边的最大深度+1(root),即为当前的最长路径,和前面的结果比较取最大\n",
    "    return Math.max(L, R) + 1;        // 递归函数的返回值是：两边子树的最大深度(结点数)\n",
    "}"
   ]
  },
  {
   "cell_type": "markdown",
   "metadata": {},
   "source": [
    "<font color='dd0000'>\n",
    "    \n",
    "一棵树的最长路径，除非只有一个结点，那么该路径一定会经过一个\"根\"结点，即一个\"拐点\"\n",
    "\n",
    "所以，定义一个求深度的方法，**最长路径 = 当前根节点左右两棵子树的最大深度的和**，在中间用一个成员变量保存结果，不断更新取最大\n",
    "\n",
    "对递归函数：\n",
    "</font>\n",
    "\n",
    "<font color='dd0000'>\n",
    "    \n",
    "1.终止条件：当根节点为null时，深度为0，返回0；\n",
    "    \n",
    "2.返回值：返回值应该是当前结点的最大深度，即左深度和右深度取最大(**单边**)\n",
    "</font>"
   ]
  },
  {
   "cell_type": "markdown",
   "metadata": {},
   "source": [
    "## <font color='dddd00'>687. Longest Univalue Path (easy)"
   ]
  },
  {
   "cell_type": "markdown",
   "metadata": {},
   "source": [
    "Given a binary tree, find the length of the longest path where each node in the path has the same value. This path may or may not pass through the root.\n",
    "\n",
    "The length of path between two nodes is represented by the number of edges between them."
   ]
  },
  {
   "cell_type": "code",
   "execution_count": 9,
   "metadata": {},
   "outputs": [],
   "source": [
    "int ans = 0;\n",
    "public int longestUnivaluePath(TreeNode root) {\n",
    "    getUnivaluePath(root);\n",
    "    return ans;\n",
    "}\n",
    "\n",
    "private int getUnivaluePath(TreeNode root){\n",
    "    if(root == null) return 0;\n",
    "    \n",
    "    int leftPath = getUnivaluePath(root.left);    // 左子树的同值最长路径\n",
    "    int rightPath = getUnivaluePath(root.right);  // 右子树的同值最长路径\n",
    "    int L = 0, R = 0;    // !!!初始化为0，L+R用来表示当前root的总路径\n",
    "    \n",
    "    if(root.left != null && root.left.val == root.val)   // 如果左/右子树的值和root的值相同,则左/右路径+1\n",
    "        L = leftPath + 1;                                // 如果左/右子树的值和root的值不同,则L或R为0\n",
    "    if(root.right != null && root.right.val == root.val)\n",
    "        R = rightPath + 1;\n",
    "    ans = Math.max(ans, L + R);   // L+R为当前root的最长同值路径，不断更新取最大\n",
    "    return Math.max(L, R);    // 递归函数的返回值为：当前结点左右子树最长的同值路径(单边)\n",
    "}"
   ]
  },
  {
   "cell_type": "markdown",
   "metadata": {},
   "source": [
    "<font color='dd0000'>\n",
    "\n",
    "和上一题思路类似，递归求两边子树的最长同值路径，**最长同值路径根据root和两个子结点值的相等情况可能为0、R、L、L+R**。\n",
    "</font>"
   ]
  },
  {
   "cell_type": "markdown",
   "metadata": {},
   "source": [
    "## 226. Invert Binary Tree (easy)"
   ]
  },
  {
   "cell_type": "markdown",
   "metadata": {},
   "source": [
    "Invert a binary tree."
   ]
  },
  {
   "cell_type": "markdown",
   "metadata": {},
   "source": [
    "⭐<font color='dd0000'>**递归**</font>⭐"
   ]
  },
  {
   "cell_type": "code",
   "execution_count": 6,
   "metadata": {},
   "outputs": [],
   "source": [
    "// 递归解法\n",
    "\n",
    "public TreeNode invertTree(TreeNode root) {\n",
    "    if(root == null) return null;                 // 1.终止条件：当root=null时，翻转结果就是null\n",
    "    TreeNode leftTree = invertTree(root.left);    // 2.返回值：方法返回的应该是一棵翻转后的树\n",
    "    TreeNode rightTree = invertTree(root.right);  \n",
    "    root.left = rightTree;                        // 3.每步的操作：分别翻转左右子树，并将它们交换\n",
    "    root.right = leftTree;\n",
    "    return root;\n",
    "}"
   ]
  },
  {
   "cell_type": "code",
   "execution_count": 7,
   "metadata": {},
   "outputs": [],
   "source": [
    "// BFS解法：一层一层从上到下逐层交换\n",
    "\n",
    "public TreeNode invertTree2(TreeNode root){\n",
    "    if(root == null) return null;\n",
    "    \n",
    "    Queue<TreeNode> q = new LinkedList<>();\n",
    "    q.offer(root);\n",
    "    while(!q.isEmpty()){\n",
    "        TreeNode current = q.poll();   // 出队一个作为当前结点\n",
    "        TreeNode left = current.left;  \n",
    "        TreeNode right = current.right;\n",
    "        current.left = right;\n",
    "        current.right = left;          // 交换当前结点的左右子结点\n",
    "        if(current.left != null) q.offer(current.left);  // 把下一层的结点入队，在下次循环中再交换它的子结点\n",
    "        if(current.right != null) q.offer(current.right);\n",
    "    }\n",
    "    return root;\n",
    "}"
   ]
  },
  {
   "cell_type": "markdown",
   "metadata": {},
   "source": [
    "## <font color='dddd00'>101. Symmetric Tree (easy)"
   ]
  },
  {
   "cell_type": "markdown",
   "metadata": {},
   "source": [
    "Given a binary tree, check whether it is a mirror of itself (ie, symmetric around its center).。"
   ]
  },
  {
   "cell_type": "code",
   "execution_count": 8,
   "metadata": {},
   "outputs": [],
   "source": [
    "// 递归解法\n",
    "\n",
    "public boolean isSymmetric(TreeNode root) {\n",
    "    if(root == null) \n",
    "        return true;\n",
    "    \n",
    "    return isTwoTreeSymmetric(root.left, root.right);\n",
    "}\n",
    "\n",
    "private boolean isTwoTreeSymmetric(TreeNode t1, TreeNode t2){\n",
    "    if(t1 == null && t2 == null)\n",
    "        return true;\n",
    "    if(t1 == null || t2 == null)\n",
    "        return false;\n",
    "    if(t1.val != t2.val)\n",
    "        return false;\n",
    "    return isTwoTreeSymmetric(t1.left, t2.right) && isTwoTreeSymmetric(t1.right, t2.left);\n",
    "}"
   ]
  },
  {
   "cell_type": "markdown",
   "metadata": {},
   "source": [
    "<font color='dd0000'>\n",
    "\n",
    "**思路：**\n",
    "\n",
    "一棵树要对称，那么就必须它的两棵子树都对称，而方法本身只是判断一棵树是否对称，所以需要添加一个**判断两棵树是否对称的辅助方法**\n",
    "\n",
    "而两棵树是否对称，取决于**1树的左子树与2树的右子树是否对称且1树的右子树与2树的左子树是否对称**，这就形成了递归\n",
    "\n",
    "所以，辅助方法是一个递归过程：\n",
    "\n",
    "1. 终止条件：当两棵树都为null时，对称；当只有一棵为null时，不对称；当两棵树根的值不等时，不对称\n",
    "\n",
    "\n",
    "2. 返回值：方法应该返回这两棵树是否对称\n",
    "\n",
    "\n",
    "3. 每步的操作：每一步应该做的是，判断这两棵树的子树的对称情况\n",
    "</font>"
   ]
  },
  {
   "cell_type": "code",
   "execution_count": 9,
   "metadata": {},
   "outputs": [],
   "source": [
    "// 迭代解法\n",
    "\n",
    "public boolean isSymmetric(TreeNode root) {\n",
    "    if(root == null)\n",
    "        return true;\n",
    "        \n",
    "    Queue<TreeNode> q = new LinkedList<>();\n",
    "    q.offer(root);\n",
    "    q.offer(root);\n",
    "    while(!q.isEmpty()){\n",
    "        TreeNode node1 = q.poll();  // 每次从队列中取出用来判断对称的两个结点进行比较\n",
    "        TreeNode node2 = q.poll();\n",
    "        if(node1 == null && node2 == null)  // 当这两个结点都为null时，可能是某个结点只有一个子结点的情况，所以还要继续看后面\n",
    "            continue;\n",
    "        if(node1 == null || node2 == null)  // 如果两个结点一个为空一个不为空，说明一定不对称\n",
    "            return false;\n",
    "        if(node1.val != node2.val)     // 如果这两个结点值不同，说明不对称\n",
    "            return false;\n",
    "            \n",
    "        q.offer(node1.left);    // 按照要比较的正确顺序把子结点入队\n",
    "        q.offer(node2.right);\n",
    "        q.offer(node1.right);\n",
    "        q.offer(node2.left);\n",
    "    }\n",
    "    return true;\n",
    "}"
   ]
  },
  {
   "cell_type": "markdown",
   "metadata": {},
   "source": [
    "## 111. Minimum Depth of Binary Tree (easy)"
   ]
  },
  {
   "cell_type": "markdown",
   "metadata": {},
   "source": [
    "Given a binary tree, find its minimum depth.\n",
    "\n",
    "The minimum depth is the number of nodes along the shortest path from the root node down to the nearest leaf node.\n",
    "\n",
    "**Note: A leaf is a node with no children.**"
   ]
  },
  {
   "cell_type": "code",
   "execution_count": 10,
   "metadata": {},
   "outputs": [],
   "source": [
    "// 递归解法\n",
    "\n",
    "public int minDepth(TreeNode root) {\n",
    "    if(root == null)\n",
    "        return 0;\n",
    "    if(root.left == null && root.right != null)\n",
    "        return minDepth(root.right) + 1;\n",
    "    if(root.right == null && root.left != null)\n",
    "        return minDepth(root.left);\n",
    "    \n",
    "    return Math.min(minDepth(root.left), minDepth(root.right));\n",
    "}"
   ]
  },
  {
   "cell_type": "markdown",
   "metadata": {},
   "source": [
    "<font color='dd0000'>**关键：**由题意，最小深度是到*叶子结点*的最短距离，所以当root有一个子结点为空时，最小深度**不为1**</font>\n",
    "\n",
    "<font color='dd0000'>因此，递归的出口应有3个:\n",
    "\n",
    "1. 当前根节点为空时，最小深度为0；\n",
    "\n",
    "2. 当前根节点左为空时，最小深度仅取右边+1；\n",
    "\n",
    "3. 当前根节点右为空时，最小深度仅取左边+1；\n",
    "\n",
    "\n",
    "剩下的情况才是取两边更小的深度+1\n",
    "</font>"
   ]
  },
  {
   "cell_type": "code",
   "execution_count": 12,
   "metadata": {},
   "outputs": [],
   "source": [
    "// 层序迭代\n",
    "\n",
    "public int minDepth2(TreeNode root) {\n",
    "    if(root == null) return 0;\n",
    "    Queue<TreeNode> q = new LinkedList<>();\n",
    "    q.offer(root);\n",
    "    int depth = 0;\n",
    "    while(!q.isEmpty()){\n",
    "        depth++;      // 每进入一层，深度+1\n",
    "        int size = q.size();\n",
    "        for(int i = 0; i < size(); i++){  // 对每一层的每个结点做判断\n",
    "            TreeNode node = q.poll();\n",
    "            if(node.left == null && node.right == null) // 该node为叶子结点，因为是从上到下依次遍历的，所以这是最近的一个叶子结点\n",
    "                return depth;                           // 当前深度就是最小深度\n",
    "            if(node.left != null)  // 将下一层的结点入队\n",
    "                q.offer(node.left);\n",
    "            if(node.right != null)\n",
    "                q.offer(node.right);\n",
    "        }\n",
    "    }\n",
    "    return depth;\n",
    "}"
   ]
  },
  {
   "cell_type": "markdown",
   "metadata": {},
   "source": [
    "## <font color='00dd00'>617. Merge Two Binary Trees (easy)</font>"
   ]
  },
  {
   "cell_type": "markdown",
   "metadata": {},
   "source": [
    "Given two binary trees and imagine that when you put one of them to cover the other, some nodes of the two trees are overlapped while the others are not.\n",
    "\n",
    "You need to merge them into a new binary tree. The merge rule is that if two nodes overlap, then sum node values up as the new value of the merged node. Otherwise, the NOT null node will be used as the node of new tree."
   ]
  },
  {
   "cell_type": "code",
   "execution_count": 5,
   "metadata": {},
   "outputs": [],
   "source": [
    "public TreeNode mergeTrees(TreeNode t1, TreeNode t2) {\n",
    "    if(t1 == null && t2 == null) \n",
    "        return null;\n",
    "    if(t1 == null)\n",
    "        return t2;\n",
    "    if(t2 == null)\n",
    "        return t1;\n",
    "        \n",
    "    TreeNode root = new TreeNode(t1.val + t2.val);\n",
    "    root.left = mergeTrees(t1.left, t2.left);\n",
    "    root.right = mergeTrees(t1.right, t2.right);\n",
    "    return root;\n",
    "}"
   ]
  },
  {
   "cell_type": "markdown",
   "metadata": {},
   "source": [
    "## <font color='00dd00'>654. Maximum Binary Tree (medium)"
   ]
  },
  {
   "cell_type": "markdown",
   "metadata": {},
   "source": [
    "Given an integer array with no duplicates. A maximum tree building on this array is defined as follow:\n",
    "\n",
    "The root is the maximum number in the array.\n",
    "The left subtree is the maximum tree constructed from left part subarray divided by the maximum number.\n",
    "The right subtree is the maximum tree constructed from right part subarray divided by the maximum number.\n",
    "Construct the maximum tree by the given array and output the root node of this tree."
   ]
  },
  {
   "cell_type": "code",
   "execution_count": 2,
   "metadata": {},
   "outputs": [],
   "source": [
    "// 递归\n",
    "\n",
    "public TreeNode constructMaximumBinaryTree(int[] nums) {\n",
    "    return solve(nums, 0, nums.length - 1);\n",
    "}\n",
    "\n",
    "private TreeNode solve(int[] nums, int left, int right){\n",
    "    if(left > right) return null;\n",
    "    if(left == right) return new TreeNode(nums[left]);\n",
    "\n",
    "    int max = nums[left];\n",
    "    int maxIndex = left;\n",
    "    for(int i = left; i <= right; i++){\n",
    "        if(nums[i] > max){\n",
    "            max = nums[i];\n",
    "            maxIndex = i;\n",
    "        }\n",
    "    }\n",
    "\n",
    "    TreeNode root = new TreeNode(max);\n",
    "    root.left = solve(nums, left, maxIndex - 1);\n",
    "    root.right = solve(nums, maxIndex + 1, right);\n",
    "    return root;\n",
    "}"
   ]
  },
  {
   "cell_type": "markdown",
   "metadata": {},
   "source": [
    "## <font color='00dd00'>112. Path Sum (easy)"
   ]
  },
  {
   "cell_type": "markdown",
   "metadata": {},
   "source": [
    "Given a binary tree and a sum, determine if the tree has a root-to-leaf path such that adding up all the values along the path equals the given sum.\n",
    "\n",
    "Note: A leaf is a node with no children."
   ]
  },
  {
   "cell_type": "code",
   "execution_count": 3,
   "metadata": {},
   "outputs": [],
   "source": [
    "// 递归\n",
    "\n",
    "public boolean hasPathSum(TreeNode root, int sum) {\n",
    "    if(root == null) \n",
    "        return false;\n",
    "            \n",
    "    if(root.val == sum && root.left == null && root.right == null)\n",
    "        return true;\n",
    "\n",
    "    return hasPathSum(root.left, sum - root.val) || hasPathSum(root.right, sum - root.val);\n",
    "}"
   ]
  },
  {
   "cell_type": "code",
   "execution_count": 4,
   "metadata": {},
   "outputs": [],
   "source": [
    "// 迭代：用两个栈，分别保存待检查结点和它应该匹配的值\n",
    "\n",
    "public boolean hasPathSum2(TreeNode root, int sum) {\n",
    "    Stack<TreeNode> s = new Stack<>();\n",
    "    Stack<Integer> num = new Stack<>();\n",
    "    if(root != null){\n",
    "        s.push(root);\n",
    "        num.push(sum);\n",
    "    }\n",
    "    while(!s.isEmpty()){\n",
    "        TreeNode cur = s.pop();\n",
    "        sum = num.pop();\n",
    "        int a = cur.val;\n",
    "        sum -= a;\n",
    "        if(sum == 0 && cur.left == null && cur.right == null)\n",
    "            return true;\n",
    "        else{\n",
    "            if(cur.right != null){\n",
    "                s.push(cur.right);\n",
    "                num.push(sum);\n",
    "            }    \n",
    "            if(cur.left != null){\n",
    "                s.push(cur.left);\n",
    "                num.push(sum);\n",
    "            }      \n",
    "        }\n",
    "    }\n",
    "    return false;\n",
    "}"
   ]
  },
  {
   "cell_type": "markdown",
   "metadata": {},
   "source": [
    "## <font color='dddd00'>572. Subtree of Another Tree (easy)"
   ]
  },
  {
   "cell_type": "markdown",
   "metadata": {},
   "source": [
    "Given two non-empty binary trees s and t, check whether tree t has exactly the same structure and node values with a subtree of s. A subtree of s is a tree consists of a node in s and all of this node's descendants. The tree s could also be considered as a subtree of itself."
   ]
  },
  {
   "cell_type": "code",
   "execution_count": 4,
   "metadata": {},
   "outputs": [],
   "source": [
    "// 递归\n",
    "\n",
    "public boolean isSubtree(TreeNode s, TreeNode t) {\n",
    "    if(s == null) return false;\n",
    "    if(t == null) return true;\n",
    "    // 如果两棵树相同，那么为true\n",
    "    if(isSame(s, t)) return true;\n",
    "    // 如果不是相同的两棵树，那么再分别判断是不是左子树或右子树的子树\n",
    "    return isSubtree(s.left, t) || isSubtree(s.right, t);\n",
    "}\n",
    "\n",
    "private boolean isSame(TreeNode s, TreeNode t){\n",
    "    if(s == null && t == null) return true;\n",
    "    if(s == null || t == null) return false;\n",
    "    // 两棵树相同必须 1.根结点值相同;2.左右子树都相同\n",
    "    return s.val == t.val && isSame(s.left, t.left) && isSame(s.right, t.right);\n",
    "}"
   ]
  },
  {
   "cell_type": "markdown",
   "metadata": {},
   "source": [
    "<font color='dd0000'>**时间复杂度：**设s的结点数为*N*,t的结点数为*M*,对s的每棵子树,都要去判断是否和t相同,这个过程的复杂度为*O(M)*,s共有*N*棵子树,所以时间复杂度为*O(M×N)*</font>"
   ]
  },
  {
   "cell_type": "markdown",
   "metadata": {},
   "source": [
    "⭐<font color='dd0000'>**用KMP的方法解**，时间复杂度为*O(M＋N)*</font>"
   ]
  },
  {
   "cell_type": "markdown",
   "metadata": {},
   "source": [
    "<font color='dd0000'>将两棵树都序列化成字符串，若*t*是*s*的字串，说明是子树。匹配子字符串用KMP解决。\n",
    "    \n",
    "序列化两棵树的复杂度分别是*O(N)*和*O(M)*，KMP匹配的复杂度是*O(N+M)*，所以总复杂度为*O(N+M)*</font>"
   ]
  },
  {
   "cell_type": "code",
   "execution_count": null,
   "metadata": {},
   "outputs": [],
   "source": []
  },
  {
   "cell_type": "markdown",
   "metadata": {},
   "source": [
    "## <font color='00dd00'>404. Sum of Left Leaves (easy)"
   ]
  },
  {
   "cell_type": "markdown",
   "metadata": {},
   "source": [
    "Find the sum of all left leaves in a given binary tree."
   ]
  },
  {
   "cell_type": "code",
   "execution_count": 6,
   "metadata": {},
   "outputs": [],
   "source": [
    "// 自己的解：\n",
    "\n",
    "public int sumOfLeftLeaves(TreeNode root) {\n",
    "    if(root == null) return 0;\n",
    "\n",
    "    int l = solve(root.left, true);\n",
    "    int r = solve(root.right, false);\n",
    "    return l + r;\n",
    "}\n",
    "\n",
    "private int solve(TreeNode root, boolean isLeft){\n",
    "    if(root == null)\n",
    "        return 0;\n",
    "    if(root.left == null && root.right == null && isLeft)\n",
    "        return root.val;\n",
    "    if(root.left == null && root.right == null)\n",
    "        return 0;\n",
    "        \n",
    "    int l = solve(root.left, true);\n",
    "    int r = solve(root.right, false);\n",
    "    return l + r;\n",
    "}"
   ]
  },
  {
   "cell_type": "code",
   "execution_count": 7,
   "metadata": {},
   "outputs": [],
   "source": [
    "// 更简洁的解：\n",
    "\n",
    "int sum = 0;\n",
    "public int sumOfLeftLeaves2(TreeNode root) {\n",
    "    getSum(root, false);\n",
    "    return sum;\n",
    "}\n",
    "\n",
    "private void getSum(TreeNode root, boolean isLeft){\n",
    "    if(root != null){\n",
    "        if(root.left == null && root.right == null && isLeft)\n",
    "            sum += root.val;\n",
    "        else{\n",
    "            getSum(root.left, true);\n",
    "            getSum(root.right, false);\n",
    "        }\n",
    "    }\n",
    "}"
   ]
  },
  {
   "cell_type": "markdown",
   "metadata": {},
   "source": [
    "## <font color='dddd00'>337. House Robber III (medium)\n",
    "    \n",
    "### See DP. "
   ]
  },
  {
   "cell_type": "markdown",
   "metadata": {},
   "source": [
    "## 671. Second Minimum Node In a Binary Tree (easy)"
   ]
  },
  {
   "cell_type": "markdown",
   "metadata": {},
   "source": [
    "Given a non-empty special binary tree consisting of nodes with the non-negative value, where each node in this tree has exactly ```two``` or ```zero``` sub-node. If the node has two sub-nodes, then this node's value is the smaller value among its two sub-nodes. More formally, the property ```root.val = min(root.left.val, root.right.val)``` always holds.\n",
    "\n",
    "Given such a binary tree, you need to output the second minimum value in the set made of all the nodes' value in the whole tree.\n",
    "\n",
    "If no such second minimum value exists, output -1 instead."
   ]
  },
  {
   "cell_type": "markdown",
   "metadata": {},
   "source": [
    "<font color='dd0000'>问题可转换为：在左右子树中分别找到**第一个大于根节点值的点**，若两个值都找到了则返回小的那个，若有一个没找到，即为-1，则返回大的那个</font>"
   ]
  },
  {
   "cell_type": "code",
   "execution_count": 3,
   "metadata": {},
   "outputs": [],
   "source": [
    "public int findSecondMinimumValue(TreeNode root) {\n",
    "    int val = root.val;\n",
    "    return helper(root, val);\n",
    "}\n",
    "\n",
    "private int helper(TreeNode root, int val){  // 找比给定值大的节点\n",
    "    if(root == null) return -1;\n",
    "\n",
    "    if(root.val > val) return root.val;  // 因为此树子节点不小于，所以只要出现第一个比val大的，就返回\n",
    "\n",
    "    int l = helper(root.left, val);\n",
    "    int r = helper(root.right, val);\n",
    "\n",
    "    if(l > 0 && r > 0) return Math.min(l, r);\n",
    "        \n",
    "    return Math.max(l, r);\n",
    "}"
   ]
  },
  {
   "cell_type": "markdown",
   "metadata": {},
   "source": [
    "## <font color='00dd00'>637. Average of Levels in Binary Tree (easy)"
   ]
  },
  {
   "cell_type": "code",
   "execution_count": 3,
   "metadata": {},
   "outputs": [],
   "source": [
    "// 层序遍历\n",
    "\n",
    "public List<Double> averageOfLevels(TreeNode root) {\n",
    "    List<Double> res = new ArrayList<>();\n",
    "    Queue<TreeNode> q = new LinkedList<>();\n",
    "    if(root != null)\n",
    "        q.offer(root);\n",
    "    while(!q.isEmpty()){\n",
    "        int size = q.size();\n",
    "        double sum = 0;\n",
    "        for(int i = 0; i < size; i++){\n",
    "            TreeNode cur = q.poll();\n",
    "            sum += cur.val;\n",
    "            if(cur.left != null) q.offer(cur.left);\n",
    "            if(cur.right != null) q.offer(cur.right);\n",
    "        }\n",
    "        res.add(sum / size);\n",
    "    }\n",
    "    return res;\n",
    "}"
   ]
  },
  {
   "cell_type": "code",
   "execution_count": 4,
   "metadata": {},
   "outputs": [],
   "source": [
    "// 深度优先遍历\n",
    "// 用一个数组存每一层的结点值之和，用一个数组存每一层的节点个数，最后再逐位相除\n",
    "// 要注意的是int相加越界的问题，表示和的数组要用Double型\n",
    "\n",
    "public List<Double> averageOfLevels2(TreeNode root) {\n",
    "    List<Double> res = new ArrayList<>();\n",
    "    List<Integer> count = new ArrayList<>();\n",
    "    int h = 0;\n",
    "    dfs(root, res, count, h);\n",
    "    for(int i = 0; i < res.size(); i++)\n",
    "        res.set(i, res.get(i) / count.get(i));\n",
    "    return res;\n",
    "}\n",
    "\n",
    "private void dfs(TreeNode root, List<Double> sum, List<Integer> count, int h){\n",
    "    if(root == null) return;\n",
    "\n",
    "    if(h < sum.size()){   // 如果是已经走过的层\n",
    "        sum.set(h, sum.get(h) + root.val);\n",
    "        count.set(h, count.get(h) + 1);\n",
    "    } \n",
    "    else{    // h >= sum.size() 说明是第一次经历这一层\n",
    "        sum.add(1.0 * root.val);  // int -> double\n",
    "        count.add(1);\n",
    "    }\n",
    "    h++;\n",
    "    dfs(root.left, sum, count, h);\n",
    "    dfs(root.right, sum, count, h);\n",
    "}"
   ]
  },
  {
   "cell_type": "markdown",
   "metadata": {},
   "source": [
    "## 94/144/145. Binary Tree Inorder/Preorder/<font color='dddd00'>Postorder</font> Traversal"
   ]
  },
  {
   "cell_type": "markdown",
   "metadata": {},
   "source": [
    "<font color='dd0000'>非递归解法：</font>"
   ]
  },
  {
   "cell_type": "code",
   "execution_count": 15,
   "metadata": {},
   "outputs": [],
   "source": [
    "// 中序\n",
    "public List<Integer> inorder(TreeNode root){\n",
    "    List<Integer> res = new ArrayList<>();\n",
    "    Stack<TreeNode> s = new Stack<>();\n",
    "    TreeNode cur = root;\n",
    "    while(cur != null || !s.isEmpty()){\n",
    "        if(cur != null){\n",
    "            s.push(cur);\n",
    "            cur = cur.left;\n",
    "        } else {\n",
    "            cur = s.pop();\n",
    "            res.add(cur.val);\n",
    "            cur = cur.right;\n",
    "        }\n",
    "    }\n",
    "    return res;\n",
    "}"
   ]
  },
  {
   "cell_type": "code",
   "execution_count": 19,
   "metadata": {},
   "outputs": [],
   "source": [
    "// 前序\n",
    "public List<Integer> preorder(TreeNode root){\n",
    "    List<Integer> res = new ArrayList<>();\n",
    "    Stack<TreeNode> s = new Stack<>();\n",
    "    TreeNode cur = root;\n",
    "    while(cur != null || !s.isEmpty()){\n",
    "        if(cur != null){\n",
    "            res.add(cur.val);\n",
    "            s.push(cur);\n",
    "            cur = cur.left;\n",
    "        } else{\n",
    "            cur = s.peek().right;\n",
    "            s.pop();\n",
    "        }\n",
    "    }\n",
    "    return res;\n",
    "}\n",
    "\n",
    "// 另一种写法\n",
    "public List<Integer> preorder2(TreeNode root){\n",
    "    List<Integer> res = new ArrayList<>();\n",
    "    Stack<TreeNode> s = new Stack<>();\n",
    "    if(root != null)\n",
    "        s.push(root);\n",
    "    while(!s.isEmpty()){\n",
    "        TreeNode node = s.pop();\n",
    "        res.add(node.val);\n",
    "        if(node.right != null)\n",
    "            s.push(node.right);\n",
    "        if(node.left != null)\n",
    "            s.push(node.left);\n",
    "    }\n",
    "    return res;\n",
    "}"
   ]
  },
  {
   "cell_type": "code",
   "execution_count": 17,
   "metadata": {},
   "outputs": [],
   "source": [
    "// 后序\n",
    "/* 后序的访问顺序是 left -> right -> root\n",
    " * 先写出root -> right -> left的遍历过程(这与前序类似，更简单)，再把结果反转，得到后序的结果(或者访问时直接从前面插入List)\n",
    " */\n",
    " \n",
    " public List<Integer> postorder(TreeNode root){\n",
    "    List<Integer> res = new ArrayList<>();\n",
    "    Stack<TreeNode> s = new Stack<>();\n",
    "    TreeNode cur = root;\n",
    "    while(cur != null || !s.isEmpty()){\n",
    "        if(cur != null){\n",
    "            res.add(cur.val);\n",
    "            s.push(cur);\n",
    "            cur = cur.right;    // 注意先去方位right\n",
    "        } else {\n",
    "            cur = s.peek().left;\n",
    "            s.pop();\n",
    "        }\n",
    "    }\n",
    "    Collections.reverse(res);\n",
    "    return res;\n",
    " }"
   ]
  },
  {
   "cell_type": "markdown",
   "metadata": {},
   "source": [
    "按照要求的后序遍历\n",
    "```\n",
    "class Solution {\n",
    "public:\n",
    "    vector<int> postorderTraversal(TreeNode* root) {\n",
    "        vector<int> ret;\n",
    "        stack<TreeNode *> path;\n",
    "        unordered_set<TreeNode *> _set; // 记录已经访问的结点\n",
    "\n",
    "        if (root) path.push(root);\n",
    "\n",
    "        while (!path.empty()) {\n",
    "            auto node = path.top();\n",
    "\n",
    "            bool leftVisited = true, rightVisited = true;\n",
    "\n",
    "            // 左右结点判断先后顺序不能互换，因为需要先把右结点放进 stack中\n",
    "            if (node->right && _set.find(node->right) == _set.end()) {\n",
    "                rightVisited = false;\n",
    "                path.push(node->right);\n",
    "            }\n",
    "\n",
    "            if (node->left && _set.find(node->left) == _set.end()) {\n",
    "                leftVisited = false;\n",
    "                path.push(node->left);\n",
    "            }\n",
    "\n",
    "            if (leftVisited && rightVisited) { // 左右结点已经访问过了，才可以访问当前结点\n",
    "                ret.push_back(node->val);\n",
    "                _set.insert(node);\n",
    "                path.pop(); // 访问过了，从path中移除\n",
    "            }\n",
    "        }\n",
    "\n",
    "        return ret;\n",
    "    }\n",
    "};\n",
    "```"
   ]
  }
 ],
 "metadata": {
  "kernelspec": {
   "display_name": "Java",
   "language": "java",
   "name": "java"
  },
  "language_info": {
   "codemirror_mode": "java",
   "file_extension": ".jshell",
   "mimetype": "text/x-java-source",
   "name": "Java",
   "pygments_lexer": "java",
   "version": "12.0.2+10"
  }
 },
 "nbformat": 4,
 "nbformat_minor": 2
}
